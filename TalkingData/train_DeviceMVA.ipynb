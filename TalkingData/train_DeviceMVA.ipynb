{
 "cells": [
  {
   "cell_type": "code",
   "execution_count": 1,
   "metadata": {
    "collapsed": true
   },
   "outputs": [],
   "source": [
    "import pandas as pd\n",
    "from pandas import DataFrame as df\n",
    "import seaborn as sns\n",
    "import sys\n",
    "import numpy as np\n",
    "import time\n",
    "\n",
    "%matplotlib inline\n",
    "from matplotlib import pyplot as plt\n",
    "from sklearn.preprocessing import LabelEncoder\n",
    "from sklearn.metrics import log_loss\n",
    "from sklearn.externals import joblib\n",
    "from sklearn.cross_validation import train_test_split\n",
    "from sklearn.grid_search import GridSearchCV\n",
    "from sklearn.metrics import classification_report\n",
    "from sklearn.preprocessing import LabelEncoder, OneHotEncoder\n",
    "from sklearn.ensemble import GradientBoostingClassifier\n",
    "\n",
    "sns.set_style('ticks')\n",
    "sys.path.append(\"/home/mschlupp/pythonTools\")"
   ]
  },
  {
   "cell_type": "code",
   "execution_count": 2,
   "metadata": {
    "collapsed": false
   },
   "outputs": [],
   "source": [
    "ga_data = pd.read_csv(\"files/finalSets/ga_noEvts.csv\"\n",
    "                      , usecols=[\"device_id\",\"group\"\n",
    "                                , \"phone_brand\",\"isTrain\"\n",
    "                                , \"device_model\"])"
   ]
  },
  {
   "cell_type": "markdown",
   "metadata": {},
   "source": [
    "## Encode the  colums "
   ]
  },
  {
   "cell_type": "code",
   "execution_count": 3,
   "metadata": {
    "collapsed": true
   },
   "outputs": [],
   "source": [
    "enc_brand = LabelEncoder()\n",
    "enc_device = LabelEncoder()\n",
    "enc_group = LabelEncoder()"
   ]
  },
  {
   "cell_type": "code",
   "execution_count": 4,
   "metadata": {
    "collapsed": false
   },
   "outputs": [],
   "source": [
    "ga_data[\"phone_brand\"] = enc_brand.fit_transform(ga_data.phone_brand)\n",
    "ga_data[\"device_model\"] = enc_device.fit_transform(ga_data.device_model)\n",
    "ga_data[\"group\"] = enc_group.fit_transform(ga_data.group)"
   ]
  },
  {
   "cell_type": "code",
   "execution_count": 5,
   "metadata": {
    "collapsed": true
   },
   "outputs": [],
   "source": [
    "drop_list = [\"isTrain\"]\n",
    "train = ga_data[ga_data.isTrain==1].drop( drop_list, axis=1)\n",
    "true_classes = train.group\n",
    "test = ga_data[ga_data.isTrain==0].drop( drop_list+[\"group\"], axis=1)"
   ]
  },
  {
   "cell_type": "code",
   "execution_count": 6,
   "metadata": {
    "collapsed": false
   },
   "outputs": [],
   "source": [
    "x_train, x_test, y_train, y_test = train_test_split(train\n",
    "                                                   , true_classes, test_size=0.3)"
   ]
  },
  {
   "cell_type": "code",
   "execution_count": 7,
   "metadata": {
    "collapsed": true
   },
   "outputs": [],
   "source": [
    "\n",
    "train_drop = [\"device_id\",\"group\"]"
   ]
  },
  {
   "cell_type": "markdown",
   "metadata": {},
   "source": [
    "## We use the best single model from previous tests\n",
    "XGB classifier "
   ]
  },
  {
   "cell_type": "code",
   "execution_count": 14,
   "metadata": {
    "collapsed": false
   },
   "outputs": [],
   "source": [
    "# the parameters have been determined in the `predict_classe` notebook.\n",
    "gbdt = GradientBoostingClassifier(loss='deviance'\n",
    "                                  ,max_features=None\n",
    "                                  , min_samples_leaf=800\n",
    "                                  , learning_rate=0.005\n",
    "                                  , n_estimators=700);"
   ]
  },
  {
   "cell_type": "code",
   "execution_count": 48,
   "metadata": {
    "collapsed": false
   },
   "outputs": [
    {
     "data": {
      "text/plain": [
       "GradientBoostingClassifier(init=None, learning_rate=0.005, loss='deviance',\n",
       "              max_depth=3, max_features=None, max_leaf_nodes=None,\n",
       "              min_samples_leaf=800, min_samples_split=2,\n",
       "              min_weight_fraction_leaf=0.0, n_estimators=700,\n",
       "              presort='auto', random_state=None, subsample=1.0, verbose=0,\n",
       "              warm_start=False)"
      ]
     },
     "execution_count": 48,
     "metadata": {},
     "output_type": "execute_result"
    }
   ],
   "source": [
    "gbdt.fit(x_train, y_train)"
   ]
  },
  {
   "cell_type": "code",
   "execution_count": 52,
   "metadata": {
    "collapsed": false
   },
   "outputs": [],
   "source": [
    "probs_train = gbdt.predict_proba(x_train)\n",
    "probs_test = gbdt.predict_proba(x_test)"
   ]
  },
  {
   "cell_type": "code",
   "execution_count": 54,
   "metadata": {
    "collapsed": false
   },
   "outputs": [
    {
     "name": "stdout",
     "output_type": "stream",
     "text": [
      "Test MVA predictions on test and training set:\n",
      "\n",
      "Log loss on training set:  2.39388310435\n",
      "Log loss on test set:  2.40801068014\n"
     ]
    }
   ],
   "source": [
    "print(\"Test MVA predictions on test and training set:\\n\")\n",
    "print(\"Log loss on training set: \", log_loss(y_train,probs_train))\n",
    "print(\"Log loss on test set: \", log_loss(y_test,probs_test))"
   ]
  },
  {
   "cell_type": "markdown",
   "metadata": {},
   "source": [
    "Performs largely identical."
   ]
  },
  {
   "cell_type": "markdown",
   "metadata": {},
   "source": [
    "## compare with linear model"
   ]
  },
  {
   "cell_type": "code",
   "execution_count": 196,
   "metadata": {
    "collapsed": false
   },
   "outputs": [],
   "source": [
    "from sklearn.linear_model import LogisticRegression\n",
    "lr = LogisticRegression(penalty='l1'\n",
    "                        , C=0.6\n",
    "                        , tol=0.000001\n",
    "                        , solver= \"liblinear\"#\"newton-cg\"##'lbfgs'\n",
    "                        , max_iter=2000\n",
    "                        #, fit_intercept = False\n",
    "                        #, class_weight = 'balanced'\n",
    "                        #, multi_class='multinomial'\n",
    "                       #,warm_start=True\n",
    "                       )"
   ]
  },
  {
   "cell_type": "code",
   "execution_count": 9,
   "metadata": {
    "collapsed": false
   },
   "outputs": [],
   "source": [
    "#from sklearn.preprocessing import OneHotEncoder\n",
    "grd_enc = OneHotEncoder()"
   ]
  },
  {
   "cell_type": "code",
   "execution_count": 197,
   "metadata": {
    "collapsed": false
   },
   "outputs": [
    {
     "data": {
      "text/plain": [
       "LogisticRegression(C=0.6, class_weight=None, dual=False, fit_intercept=True,\n",
       "          intercept_scaling=1, max_iter=2000, multi_class='ovr', n_jobs=1,\n",
       "          penalty='l1', random_state=None, solver='liblinear', tol=1e-06,\n",
       "          verbose=0, warm_start=False)"
      ]
     },
     "execution_count": 197,
     "metadata": {},
     "output_type": "execute_result"
    }
   ],
   "source": [
    "lr.fit(grd_enc.fit_transform(x_train.drop(train_drop,axis=1)),y_train)"
   ]
  },
  {
   "cell_type": "code",
   "execution_count": 198,
   "metadata": {
    "collapsed": false
   },
   "outputs": [],
   "source": [
    "probs_lr_train = lr.predict_proba(grd_enc.transform(x_train.drop(train_drop,axis=1)))\n",
    "probs_lr_test = lr.predict_proba(grd_enc.transform(x_test.drop(train_drop,axis=1)))"
   ]
  },
  {
   "cell_type": "code",
   "execution_count": 199,
   "metadata": {
    "collapsed": false
   },
   "outputs": [
    {
     "name": "stdout",
     "output_type": "stream",
     "text": [
      "Test log-regression predictions on test and training set:\n",
      "\n",
      "Log loss on training set:  2.34649096859\n",
      "Log loss on test set:  2.39829927098\n"
     ]
    }
   ],
   "source": [
    "print(\"Test log-regression predictions on test and training set:\\n\")\n",
    "print(\"Log loss on training set: \", log_loss(y_train,probs_lr_train))\n",
    "print(\"Log loss on test set: \", log_loss(y_test,probs_lr_test))"
   ]
  },
  {
   "cell_type": "markdown",
   "metadata": {},
   "source": [
    "## Try linear model ontop of gbdt"
   ]
  },
  {
   "cell_type": "code",
   "execution_count": 35,
   "metadata": {
    "collapsed": true
   },
   "outputs": [],
   "source": [
    "gbdt = joblib.load('trainedModels/final_gbdt_goNoEvts.pkl')"
   ]
  },
  {
   "cell_type": "code",
   "execution_count": 37,
   "metadata": {
    "collapsed": true
   },
   "outputs": [],
   "source": [
    "x_tr_lr, x_te_lr, y_tr_lr, y_te_lr = train_test_split(x_test, y_test, test_size=0.5)"
   ]
  },
  {
   "cell_type": "code",
   "execution_count": 38,
   "metadata": {
    "collapsed": false
   },
   "outputs": [
    {
     "data": {
      "text/plain": [
       "LogisticRegression(C=0.05, class_weight=None, dual=False, fit_intercept=True,\n",
       "          intercept_scaling=1, max_iter=200, multi_class='multinomial',\n",
       "          n_jobs=1, penalty='l2', random_state=None, solver='lbfgs',\n",
       "          tol=0.0001, verbose=0, warm_start=False)"
      ]
     },
     "execution_count": 38,
     "metadata": {},
     "output_type": "execute_result"
    }
   ],
   "source": [
    "grd_enc.fit(gbdt.apply(x_train)[:,:,0])\n",
    "lr.fit(grd_enc.transform(gbdt.apply(x_tr_lr)[:,:,0]), y_tr_lr)"
   ]
  },
  {
   "cell_type": "code",
   "execution_count": 39,
   "metadata": {
    "collapsed": true
   },
   "outputs": [],
   "source": [
    "prob_gbdt_lr = lr.predict_proba(grd_enc.transform(gbdt.apply(x_te_lr)[:,:,0]))"
   ]
  },
  {
   "cell_type": "code",
   "execution_count": 40,
   "metadata": {
    "collapsed": true
   },
   "outputs": [],
   "source": [
    "prob_gbdt_lr_train = lr.predict_proba(grd_enc.transform(gbdt.apply(x_train)[:,:,0]))"
   ]
  },
  {
   "cell_type": "code",
   "execution_count": 41,
   "metadata": {
    "collapsed": false
   },
   "outputs": [
    {
     "name": "stdout",
     "output_type": "stream",
     "text": [
      "Test log-regression predictions on test and training set:\n",
      "\n",
      "Log loss on training set:  2.43667749883\n",
      "Log loss on test set:  2.43049368416\n"
     ]
    }
   ],
   "source": [
    "print(\"Test log-regression predictions on test and training set:\\n\")\n",
    "print(\"Log loss on training set: \", log_loss(y_train,prob_gbdt_lr_train))\n",
    "print(\"Log loss on test set: \", log_loss(y_te_lr,prob_gbdt_lr))"
   ]
  },
  {
   "cell_type": "markdown",
   "metadata": {},
   "source": [
    "# Save final xgb classifier"
   ]
  },
  {
   "cell_type": "code",
   "execution_count": 81,
   "metadata": {
    "collapsed": false
   },
   "outputs": [
    {
     "data": {
      "text/plain": [
       "['trainedModels/final_gbdt_goNoEvts.pkl']"
      ]
     },
     "execution_count": 81,
     "metadata": {},
     "output_type": "execute_result"
    }
   ],
   "source": [
    "joblib.dump(gbdt, 'trainedModels/final_gbdt_goNoEvts.pkl', compress=3)"
   ]
  },
  {
   "cell_type": "markdown",
   "metadata": {},
   "source": [
    "# Predict test sample and create submission file (part of it)"
   ]
  },
  {
   "cell_type": "code",
   "execution_count": 83,
   "metadata": {
    "collapsed": false
   },
   "outputs": [],
   "source": [
    "predictions = gbdt.predict_proba(test.drop([\"device_id\"], axis=1))"
   ]
  },
  {
   "cell_type": "code",
   "execution_count": 85,
   "metadata": {
    "collapsed": false
   },
   "outputs": [],
   "source": [
    "probas_gbdt_df = pd.DataFrame(predictions, index=test.device_id)\n",
    "probas_gbdt_df.columns = enc_group.inverse_transform(probas_gbdt_df.columns)"
   ]
  },
  {
   "cell_type": "code",
   "execution_count": 88,
   "metadata": {
    "collapsed": false
   },
   "outputs": [],
   "source": [
    "probas_gbdt_df.to_csv(\"finalOutputs/gbdt_gaNoEvts_predictions.csv\")"
   ]
  },
  {
   "cell_type": "markdown",
   "metadata": {},
   "source": [
    "### can also use linear output\n"
   ]
  },
  {
   "cell_type": "code",
   "execution_count": 201,
   "metadata": {
    "collapsed": false
   },
   "outputs": [],
   "source": [
    "preds = lr.predict_proba(grd_enc.transform(test.drop(\"device_id\",axis=1)))"
   ]
  },
  {
   "cell_type": "code",
   "execution_count": 202,
   "metadata": {
    "collapsed": true
   },
   "outputs": [],
   "source": [
    "probas_lr_df = pd.DataFrame(preds, index=test.device_id)\n",
    "probas_lr_df.columns = enc_group.inverse_transform(probas_lr_df.columns)\n",
    "probas_lr_df.to_csv(\"finalOutputs/lr_gaNoEvts_prediction.csv\")"
   ]
  }
 ],
 "metadata": {
  "kernelspec": {
   "display_name": "Python [Root]",
   "language": "python",
   "name": "Python [Root]"
  },
  "language_info": {
   "codemirror_mode": {
    "name": "ipython",
    "version": 3
   },
   "file_extension": ".py",
   "mimetype": "text/x-python",
   "name": "python",
   "nbconvert_exporter": "python",
   "pygments_lexer": "ipython3",
   "version": "3.5.2"
  }
 },
 "nbformat": 4,
 "nbformat_minor": 0
}
