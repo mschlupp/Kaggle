{
 "cells": [
  {
   "cell_type": "markdown",
   "metadata": {},
   "source": [
    "# Common import statements\n",
    "For different splits go to the respective sections.\n",
    "\n",
    "## Be aware:\n",
    "The notebook writes to csv files a few time to save (intermediate) results. Better not run the whole notebook. "
   ]
  },
  {
   "cell_type": "code",
   "execution_count": 1,
   "metadata": {
    "collapsed": true
   },
   "outputs": [],
   "source": [
    "import pandas as pd\n",
    "from pandas import DataFrame as df\n",
    "import IPython as ip\n",
    "import re\n",
    "import numpy as np\n",
    "import time\n",
    "\n",
    "import seaborn as sns\n",
    "sns.set(color_codes=True)\n",
    "\n",
    "import matplotlib.pyplot as plt\n",
    "# Set input dir\n",
    "import sys\n",
    "sys.path.append(\"/home/mschlupp/pythonTools\")\n",
    "files_dir = \"files/\"\n",
    "%matplotlib inline"
   ]
  },
  {
   "cell_type": "markdown",
   "metadata": {},
   "source": [
    "## Split data into `hasEvents` and `noEvents`"
   ]
  },
  {
   "cell_type": "code",
   "execution_count": null,
   "metadata": {
    "collapsed": true
   },
   "outputs": [],
   "source": [
    "ga_full = pd.read_csv(files_dir+\"traintest_fullevt.csv\")"
   ]
  },
  {
   "cell_type": "code",
   "execution_count": null,
   "metadata": {
    "collapsed": false
   },
   "outputs": [],
   "source": [
    "ga_hasEvts = ga_full[ga_full.hasEvents>0]"
   ]
  },
  {
   "cell_type": "code",
   "execution_count": null,
   "metadata": {
    "collapsed": true
   },
   "outputs": [],
   "source": [
    "ga_noEvts = ga_full[ga_full.hasEvents==0]"
   ]
  },
  {
   "cell_type": "code",
   "execution_count": null,
   "metadata": {
    "collapsed": false
   },
   "outputs": [],
   "source": [
    "ga_noEvts = ga_noEvts.drop([\"hasEvents\", \"nEvts\", \"longitude_mean\"\n",
    "                , \"longitude_variance\", \"latitude_mean\"\n",
    "                , \"latitude_variance\", \"usageTime_mean\"\n",
    "                , \"usageTime_variance\", \"usageDay_mean\"\n",
    "                ,\"usageDay_variance\"], axis=1)"
   ]
  },
  {
   "cell_type": "code",
   "execution_count": null,
   "metadata": {
    "collapsed": true
   },
   "outputs": [],
   "source": [
    "ga_noEvts.to_csv(\"files/ga_noEvts.csv\", index=False)"
   ]
  },
  {
   "cell_type": "code",
   "execution_count": null,
   "metadata": {
    "collapsed": false
   },
   "outputs": [],
   "source": [
    "ga_hasEvts.to_csv(\"files/ga_hasEvts.csv\", index=False)"
   ]
  },
  {
   "cell_type": "code",
   "execution_count": null,
   "metadata": {
    "collapsed": false
   },
   "outputs": [],
   "source": [
    "%ls files/"
   ]
  },
  {
   "cell_type": "markdown",
   "metadata": {},
   "source": [
    "## Split events data in ```hasApp``` and ```noApp```"
   ]
  },
  {
   "cell_type": "code",
   "execution_count": null,
   "metadata": {
    "collapsed": true
   },
   "outputs": [],
   "source": [
    "evts= pd.read_csv(\"files/events_day_hour.csv\", index_col=0)"
   ]
  },
  {
   "cell_type": "code",
   "execution_count": null,
   "metadata": {
    "collapsed": true
   },
   "outputs": [],
   "source": [
    "ga_evts = pd.read_csv(\"files/ga_hasEvts.csv\")"
   ]
  },
  {
   "cell_type": "code",
   "execution_count": null,
   "metadata": {
    "collapsed": false
   },
   "outputs": [],
   "source": [
    "ga_evts.tail(2)"
   ]
  },
  {
   "cell_type": "markdown",
   "metadata": {},
   "source": [
    "There are actually devide_ids that are not in the training and test set, but present in the events data. First get rid of those.\n",
    "\n",
    "Eg:"
   ]
  },
  {
   "cell_type": "code",
   "execution_count": null,
   "metadata": {
    "collapsed": false
   },
   "outputs": [],
   "source": [
    "-8295895346874348777 in ga_evts.device_id.values"
   ]
  },
  {
   "cell_type": "code",
   "execution_count": null,
   "metadata": {
    "collapsed": true
   },
   "outputs": [],
   "source": [
    "# this is not very fast!\n",
    "#ll = evts.device_id.map(lambda x: x in ga_evts.device_id.values)\n",
    "#ll.value_counts()\n",
    "\n",
    "#True     3160417\n",
    "#False      92533\n",
    "#Name: device_id, dtype: int64"
   ]
  },
  {
   "cell_type": "code",
   "execution_count": null,
   "metadata": {
    "collapsed": false
   },
   "outputs": [],
   "source": [
    "# ask if the evts.device_id is in ga_evts\n",
    "evts=evts.drop([\"timestamp\"],axis=1)\n",
    "evts=evts[list(map(lambda x: x in ga_evts.device_id.values,evts.device_id))]"
   ]
  },
  {
   "cell_type": "code",
   "execution_count": null,
   "metadata": {
    "collapsed": false
   },
   "outputs": [],
   "source": [
    "len(evts)"
   ]
  },
  {
   "cell_type": "code",
   "execution_count": null,
   "metadata": {
    "collapsed": true
   },
   "outputs": [],
   "source": [
    "evts.to_csv(\"files/evts_ga_aligned_ids.csv\", index=False)"
   ]
  },
  {
   "cell_type": "markdown",
   "metadata": {},
   "source": [
    "Ok now all `device_id` entries are present in the train and test samples."
   ]
  },
  {
   "cell_type": "code",
   "execution_count": null,
   "metadata": {
    "collapsed": true
   },
   "outputs": [],
   "source": [
    "#read file in chunks, because else we run in memory troubles\n",
    "size=50000\n",
    "evts_chunks= pd.read_csv(\"files/evts_ga_aligned_ids.csv\", chunksize=size)"
   ]
  },
  {
   "cell_type": "code",
   "execution_count": null,
   "metadata": {
    "collapsed": true
   },
   "outputs": [],
   "source": [
    "evts = pd.DataFrame()"
   ]
  },
  {
   "cell_type": "code",
   "execution_count": null,
   "metadata": {
    "collapsed": false
   },
   "outputs": [],
   "source": [
    "# this got a bit more complicated than necessary due to missing device ids\n",
    "\n",
    "# add training flag and write output to file\n",
    "#start=time.time()\n",
    "#for i,chunk in enumerate(evts_chunks): \n",
    "#    l=list()\n",
    "#    for x in chunk.device_id.values:\n",
    "#        l.append(ga_evts[ga_evts.device_id==x].isTrain.values[0])    \n",
    "#    chunk[\"isTrain\"]=l\n",
    "    #print(type(l), \"\\n\", l)\n",
    "#    if i % 10 == 0:\n",
    "#        t = time.time()\n",
    "#        print(i*size/1e3, \"k events processed! Took: \", (t-start)/60., \" minutes.\")\n",
    "#    if i==0:\n",
    "#        evts = chunk #.to_csv(\"files/finalSets/evts_withTrain.csv\", mode='w')\n",
    "#    else:\n",
    "#        evts = evts.append(chunk, ignore_index=True) #.to_csv(\"files/finalSets/evts_withTrain.csv\", mode='a',header=False)\n",
    "        \n",
    "# print(\"\\n\\n done in \", (time.time()-s)/60., \" minutes\")\n",
    "# horribly slow: about 50 minutes\n",
    "\n",
    "# try to be faster\n",
    "# that's so much faster!! --> 0.8 minutes!\n",
    "start=time.time()\n",
    "for i,chunk in enumerate(evts_chunks): \n",
    "    chunk = chunk.merge(ga_evts[[\"device_id\",\"isTrain\", \"group\"]]\n",
    "                        ,on=\"device_id\", how=\"left\")\n",
    "    #print(type(l), \"\\n\", l)\n",
    "    if i % 10 == 0:\n",
    "        t = time.time()\n",
    "        print((i+1)*size/1e3, \"k events processed! Took: \", (t-start)/60., \" minutes.\")\n",
    "    if i==0:\n",
    "        evts = chunk \n",
    "    else:\n",
    "        evts = pd.concat([evts,chunk], ignore_index=True)\n",
    "        \n",
    "print(\"\\n\\n done in \", (time.time()-start)/60., \" minutes\")"
   ]
  },
  {
   "cell_type": "code",
   "execution_count": null,
   "metadata": {
    "collapsed": false
   },
   "outputs": [],
   "source": [
    "# take device with highest amount of events occurrances\n",
    "evts.device_id.value_counts().head(1)"
   ]
  },
  {
   "cell_type": "code",
   "execution_count": null,
   "metadata": {
    "collapsed": false
   },
   "outputs": [],
   "source": [
    "# test if the merge was successful\n",
    "print(ga_evts.isTrain[ga_evts.device_id==1186608308763918427])\n",
    "evts[evts.device_id==1186608308763918427].isTrain.value_counts()"
   ]
  },
  {
   "cell_type": "markdown",
   "metadata": {},
   "source": [
    "Ok this worked.\n",
    "Even for the device with the highest number of event occurrences, the `isTrain` flag is correctly set for all of them! Great improvement in speed!!"
   ]
  },
  {
   "cell_type": "code",
   "execution_count": null,
   "metadata": {
    "collapsed": false
   },
   "outputs": [],
   "source": [
    "evts.to_csv(files_dir+\"finalSets/evts_withTrain.csv\", index=False)"
   ]
  },
  {
   "cell_type": "markdown",
   "metadata": {},
   "source": [
    "## We start to split data"
   ]
  },
  {
   "cell_type": "code",
   "execution_count": null,
   "metadata": {
    "collapsed": true
   },
   "outputs": [],
   "source": [
    "evts = pd.read_csv(\"files/finalSets/evts_withTrain.csv\")"
   ]
  },
  {
   "cell_type": "code",
   "execution_count": null,
   "metadata": {
    "collapsed": false
   },
   "outputs": [],
   "source": [
    "len(evts)"
   ]
  },
  {
   "cell_type": "code",
   "execution_count": null,
   "metadata": {
    "collapsed": false
   },
   "outputs": [],
   "source": [
    "# now we need the event ids from the apps data\n",
    "app_evt_id = pd.read_csv(\"files/app_events.csv\", usecols=[\"event_id\"]\n",
    "                         , dtype=np.float64)"
   ]
  },
  {
   "cell_type": "code",
   "execution_count": null,
   "metadata": {
    "collapsed": false
   },
   "outputs": [],
   "source": [
    "app_evt_id =  pd.DataFrame(app_evt_id.event_id.unique(), columns=[\"event_id\"])"
   ]
  },
  {
   "cell_type": "code",
   "execution_count": null,
   "metadata": {
    "collapsed": false
   },
   "outputs": [],
   "source": [
    "len(app_evt_id)"
   ]
  },
  {
   "cell_type": "code",
   "execution_count": null,
   "metadata": {
    "collapsed": false
   },
   "outputs": [],
   "source": [
    "evts_hasApp = evts.merge(app_evt_id, on=\"event_id\", how=\"inner\")"
   ]
  },
  {
   "cell_type": "code",
   "execution_count": null,
   "metadata": {
    "collapsed": false
   },
   "outputs": [],
   "source": [
    "print(len(evts_hasApp))\n",
    "evts_hasApp.head(5)"
   ]
  },
  {
   "cell_type": "code",
   "execution_count": null,
   "metadata": {
    "collapsed": true
   },
   "outputs": [],
   "source": [
    "evts_hasApp.to_csv(files_dir+\"finalSets/evts_hasApp.csv\", index=False)"
   ]
  },
  {
   "cell_type": "code",
   "execution_count": null,
   "metadata": {
    "collapsed": false
   },
   "outputs": [],
   "source": [
    "evts_noApp = evts.loc[~(evts[\"event_id\"].isin(evts_hasApp.event_id))]"
   ]
  },
  {
   "cell_type": "code",
   "execution_count": null,
   "metadata": {
    "collapsed": false
   },
   "outputs": [],
   "source": [
    "len(evts_noApp)+len(evts_hasApp) == len(evts)"
   ]
  },
  {
   "cell_type": "markdown",
   "metadata": {},
   "source": [
    "Cool this worked. Now write the last split to csv and call it a day."
   ]
  },
  {
   "cell_type": "code",
   "execution_count": null,
   "metadata": {
    "collapsed": true
   },
   "outputs": [],
   "source": [
    "evts_noApp.to_csv(files_dir+\"finalSets/evts_noApp.csv\", index=False)"
   ]
  },
  {
   "cell_type": "markdown",
   "metadata": {},
   "source": [
    "# Now continue with the AppData\n",
    "Here we need to merge the app data with the events data that have App information"
   ]
  },
  {
   "cell_type": "code",
   "execution_count": 3,
   "metadata": {
    "collapsed": false
   },
   "outputs": [],
   "source": [
    "evts_hasApp = pd.read_csv(files_dir+\"finalSets/evts_hasApp.csv\")"
   ]
  },
  {
   "cell_type": "code",
   "execution_count": null,
   "metadata": {
    "collapsed": false
   },
   "outputs": [],
   "source": [
    "print(evts_hasApp.shape)\n",
    "evts_hasApp.head(2)"
   ]
  },
  {
   "cell_type": "markdown",
   "metadata": {},
   "source": [
    "This dataset will be merged with the app information. So let's get the app data."
   ]
  },
  {
   "cell_type": "code",
   "execution_count": null,
   "metadata": {
    "collapsed": false
   },
   "outputs": [],
   "source": [
    "%ls files | grep \"app\""
   ]
  },
  {
   "cell_type": "code",
   "execution_count": 4,
   "metadata": {
    "collapsed": false
   },
   "outputs": [],
   "source": [
    "app_info = pd.read_csv(files_dir+\"app_events.csv\")"
   ]
  },
  {
   "cell_type": "code",
   "execution_count": null,
   "metadata": {
    "collapsed": false
   },
   "outputs": [],
   "source": [
    "print(app_info.shape)\n",
    "app_info.head(2)"
   ]
  },
  {
   "cell_type": "markdown",
   "metadata": {},
   "source": [
    "#### To understand the app data, we'll take an example chunk and look at it"
   ]
  },
  {
   "cell_type": "code",
   "execution_count": null,
   "metadata": {
    "collapsed": false
   },
   "outputs": [],
   "source": [
    "evts_hasApp.event_id[evts_hasApp.device_id==-6401643145415154744].head()"
   ]
  },
  {
   "cell_type": "code",
   "execution_count": null,
   "metadata": {
    "collapsed": true
   },
   "outputs": [],
   "source": [
    "app_info = app_info[app_info.event_id.isin([2,65269,212044,346841,349776])]"
   ]
  },
  {
   "cell_type": "code",
   "execution_count": null,
   "metadata": {
    "collapsed": false
   },
   "outputs": [],
   "source": [
    "group_evt = app_info.groupby(\"event_id\")"
   ]
  },
  {
   "cell_type": "code",
   "execution_count": null,
   "metadata": {
    "collapsed": false,
    "scrolled": true
   },
   "outputs": [],
   "source": [
    "for x in group_evt.groups:\n",
    "    print(group_evt.get_group(x))"
   ]
  },
  {
   "cell_type": "markdown",
   "metadata": {},
   "source": [
    "It seems as if there are different active apps per event and device. Sometimes there is also information about the if an app is installed or not.\n",
    "From now on we only consider app information about the apps that are installed and active in an event. Indeed, there are no app that are active but not installed."
   ]
  },
  {
   "cell_type": "code",
   "execution_count": null,
   "metadata": {
    "collapsed": true
   },
   "outputs": [],
   "source": [
    "# load full data again and then drop all that is not active in one event\n",
    "app_info = pd.read_csv(files_dir+\"app_events.csv\")"
   ]
  },
  {
   "cell_type": "code",
   "execution_count": null,
   "metadata": {
    "collapsed": false
   },
   "outputs": [],
   "source": [
    "# lets check if there are events with no active app\n",
    "app_info.groupby(\"event_id\")[\"is_active\"].agg(np.sum).value_counts().sort_index().head(2)"
   ]
  },
  {
   "cell_type": "code",
   "execution_count": 7,
   "metadata": {
    "collapsed": false
   },
   "outputs": [],
   "source": [
    "df = pd.DataFrame({\"nActiveApps\" : app_info.groupby(\"event_id\")[\"is_active\"].agg(np.sum),\n",
    "                   \"nInstallApps\" : app_info.groupby(\"event_id\")[\"is_installed\"].agg(np.sum)})\n",
    "df[\"event_id\"] = df.index\n",
    "df.index= range(len(df))"
   ]
  },
  {
   "cell_type": "code",
   "execution_count": 9,
   "metadata": {
    "collapsed": false,
    "scrolled": true
   },
   "outputs": [],
   "source": [
    "# ok there are events with no active app\n",
    "# let's create a feature that counts the number of active apps per event\n",
    "evts_hasApp = evts_hasApp.merge(df, on=\"event_id\", how=\"left\")"
   ]
  },
  {
   "cell_type": "code",
   "execution_count": 10,
   "metadata": {
    "collapsed": false
   },
   "outputs": [],
   "source": [
    "gp = evts_hasApp.groupby(\"group\")"
   ]
  },
  {
   "cell_type": "code",
   "execution_count": 11,
   "metadata": {
    "collapsed": false
   },
   "outputs": [
    {
     "name": "stderr",
     "output_type": "stream",
     "text": [
      "/home/mschlupp/anaconda3/lib/python3.5/site-packages/statsmodels/nonparametric/kdetools.py:20: VisibleDeprecationWarning: using a non-integer number instead of an integer will result in an error in the future\n",
      "  y = X[:m/2+1] + np.r_[0,X[m/2+1:],0]*1j\n"
     ]
    },
    {
     "data": {
      "image/png": "[encoded data removed]",
      "text/plain": [
       "<matplotlib.figure.Figure at 0x7fa972a28320>"
      ]
     },
     "metadata": {},
     "output_type": "display_data"
    }
   ],
   "source": [
    "for x in gp.groups:\n",
    "    sns.distplot(gp.get_group(x).nActiveApps, hist=False, label=x);"
   ]
  },
  {
   "cell_type": "code",
   "execution_count": 12,
   "metadata": {
    "collapsed": false
   },
   "outputs": [
    {
     "name": "stderr",
     "output_type": "stream",
     "text": [
      "/home/mschlupp/anaconda3/lib/python3.5/site-packages/statsmodels/nonparametric/kdetools.py:20: VisibleDeprecationWarning: using a non-integer number instead of an integer will result in an error in the future\n",
      "  y = X[:m/2+1] + np.r_[0,X[m/2+1:],0]*1j\n"
     ]
    },
    {
     "data": {
      "image/png": "[encoded data removed]",
      "text/plain": [
       "<matplotlib.figure.Figure at 0x7fa96d30ce10>"
      ]
     },
     "metadata": {},
     "output_type": "display_data"
    }
   ],
   "source": [
    "for x in gp.groups:\n",
    "    sns.distplot(gp.get_group(x).nInstallApps, hist=False, label=x);"
   ]
  },
  {
   "cell_type": "markdown",
   "metadata": {},
   "source": [
    "Here we have minor differences for the number of active apps, which might help us with other variables. For the number of installed apps"
   ]
  },
  {
   "cell_type": "code",
   "execution_count": 13,
   "metadata": {
    "collapsed": false
   },
   "outputs": [
    {
     "data": {
      "text/html": [
       "<div>\n",
       "<table border=\"1\" class=\"dataframe\">\n",
       "  <thead>\n",
       "    <tr style=\"text-align: right;\">\n",
       "      <th></th>\n",
       "      <th>event_id</th>\n",
       "      <th>device_id</th>\n",
       "      <th>longitude</th>\n",
       "      <th>latitude</th>\n",
       "      <th>day</th>\n",
       "      <th>time</th>\n",
       "      <th>hour</th>\n",
       "      <th>usageDay</th>\n",
       "      <th>isTrain</th>\n",
       "      <th>group</th>\n",
       "      <th>nActiveApps</th>\n",
       "      <th>nInstallApps</th>\n",
       "    </tr>\n",
       "  </thead>\n",
       "  <tbody>\n",
       "    <tr>\n",
       "      <th>0</th>\n",
       "      <td>2</td>\n",
       "      <td>-6401643145415154744</td>\n",
       "      <td>103.65</td>\n",
       "      <td>30.97</td>\n",
       "      <td>Sun</td>\n",
       "      <td>00:54:12</td>\n",
       "      <td>0</td>\n",
       "      <td>3</td>\n",
       "      <td>0</td>\n",
       "      <td>none</td>\n",
       "      <td>6</td>\n",
       "      <td>19</td>\n",
       "    </tr>\n",
       "    <tr>\n",
       "      <th>1</th>\n",
       "      <td>6</td>\n",
       "      <td>1476664663289716375</td>\n",
       "      <td>0.00</td>\n",
       "      <td>0.00</td>\n",
       "      <td>Sun</td>\n",
       "      <td>00:27:21</td>\n",
       "      <td>0</td>\n",
       "      <td>3</td>\n",
       "      <td>1</td>\n",
       "      <td>M22-</td>\n",
       "      <td>15</td>\n",
       "      <td>38</td>\n",
       "    </tr>\n",
       "  </tbody>\n",
       "</table>\n",
       "</div>"
      ],
      "text/plain": [
       "   event_id            device_id  longitude  latitude  day      time  hour  \\\n",
       "0         2 -6401643145415154744     103.65     30.97  Sun  00:54:12     0   \n",
       "1         6  1476664663289716375       0.00      0.00  Sun  00:27:21     0   \n",
       "\n",
       "   usageDay  isTrain group  nActiveApps  nInstallApps  \n",
       "0         3        0  none            6            19  \n",
       "1         3        1  M22-           15            38  "
      ]
     },
     "execution_count": 13,
     "metadata": {},
     "output_type": "execute_result"
    }
   ],
   "source": [
    "evts_hasApp.head(2)"
   ]
  },
  {
   "cell_type": "code",
   "execution_count": 14,
   "metadata": {
    "collapsed": true
   },
   "outputs": [],
   "source": [
    "# store the new variable in file\n",
    "evts_hasApp.to_csv(\"files/finalSets/evts_withApp_ActInst.csv\")"
   ]
  },
  {
   "cell_type": "markdown",
   "metadata": {},
   "source": [
    "#### Merge and clean app data"
   ]
  },
  {
   "cell_type": "code",
   "execution_count": 2,
   "metadata": {
    "collapsed": true
   },
   "outputs": [],
   "source": [
    "app_info = pd.read_csv(files_dir+\"app_events.csv\")"
   ]
  },
  {
   "cell_type": "code",
   "execution_count": 3,
   "metadata": {
    "collapsed": false
   },
   "outputs": [],
   "source": [
    "evts_hasApp = pd.read_csv(\"files/finalSets/evts_withApp_ActInst.csv\",usecols=[\"event_id\"])"
   ]
  },
  {
   "cell_type": "markdown",
   "metadata": {},
   "source": [
    "First we get rid of all the entries of the app data that have no corresponding event_id in the events data.\n",
    "Additionally we focus on the active app."
   ]
  },
  {
   "cell_type": "code",
   "execution_count": 4,
   "metadata": {
    "collapsed": false
   },
   "outputs": [],
   "source": [
    "app_info = app_info.loc[(app_info.is_active ==1)]\n",
    "app_info = app_info.loc[app_info.event_id.isin(evts_hasApp.event_id)]"
   ]
  },
  {
   "cell_type": "code",
   "execution_count": 5,
   "metadata": {
    "collapsed": false
   },
   "outputs": [],
   "source": [
    "app_info = app_info.drop([\"is_installed\",\"is_active\"], axis=1)"
   ]
  },
  {
   "cell_type": "code",
   "execution_count": 7,
   "metadata": {
    "collapsed": false
   },
   "outputs": [],
   "source": [
    "app_info.to_csv(\"files/finalSets/apps.csv\", index=False)"
   ]
  },
  {
   "cell_type": "markdown",
   "metadata": {},
   "source": [
    "### Merge labels and apps\n",
    "In the end, we can drop app_id completely and only use the app label."
   ]
  },
  {
   "cell_type": "markdown",
   "metadata": {},
   "source": [
    "We'd like to categorise the `app_id`s so we need label information."
   ]
  },
  {
   "cell_type": "code",
   "execution_count": 8,
   "metadata": {
    "collapsed": true
   },
   "outputs": [],
   "source": [
    "del evts_hasApp\n",
    "del app_info"
   ]
  },
  {
   "cell_type": "code",
   "execution_count": 10,
   "metadata": {
    "collapsed": true
   },
   "outputs": [],
   "source": [
    "# ok, let's continue with the grouped labels\n",
    "app_info = pd.read_csv(\"files/finalSets/apps.csv\", chunksize=30000)\n",
    "label = pd.read_csv(files_dir+\"finalSets/app_categories_grouped.csv\")"
   ]
  },
  {
   "cell_type": "code",
   "execution_count": 5,
   "metadata": {
    "collapsed": false
   },
   "outputs": [],
   "source": [
    "app = pd.DataFrame()\n",
    "for i,x in enumerate(app_info):\n",
    "    if i == 2: \n",
    "        break\n",
    "    x=x.merge(label,on=\"app_id\", how=\"left\")\n",
    "    if i== 0:\n",
    "        app = x\n",
    "    else:\n",
    "        app = pd.concat([app,x], ignore_index=True)"
   ]
  },
  {
   "cell_type": "code",
   "execution_count": 11,
   "metadata": {
    "collapsed": false
   },
   "outputs": [
    {
     "data": {
      "text/html": [
       "<div>\n",
       "<table border=\"1\" class=\"dataframe\">\n",
       "  <thead>\n",
       "    <tr style=\"text-align: right;\">\n",
       "      <th></th>\n",
       "      <th>event_id</th>\n",
       "      <th>app_id</th>\n",
       "    </tr>\n",
       "  </thead>\n",
       "  <tbody>\n",
       "    <tr>\n",
       "      <th>0</th>\n",
       "      <td>2</td>\n",
       "      <td>5927333115845830913</td>\n",
       "    </tr>\n",
       "    <tr>\n",
       "      <th>1</th>\n",
       "      <td>2</td>\n",
       "      <td>-653184325010919369</td>\n",
       "    </tr>\n",
       "    <tr>\n",
       "      <th>2</th>\n",
       "      <td>2</td>\n",
       "      <td>8693964245073640147</td>\n",
       "    </tr>\n",
       "    <tr>\n",
       "      <th>3</th>\n",
       "      <td>2</td>\n",
       "      <td>4775896950989639373</td>\n",
       "    </tr>\n",
       "    <tr>\n",
       "      <th>4</th>\n",
       "      <td>2</td>\n",
       "      <td>7167114343576723123</td>\n",
       "    </tr>\n",
       "  </tbody>\n",
       "</table>\n",
       "</div>"
      ],
      "text/plain": [
       "   event_id               app_id\n",
       "0         2  5927333115845830913\n",
       "1         2  -653184325010919369\n",
       "2         2  8693964245073640147\n",
       "3         2  4775896950989639373\n",
       "4         2  7167114343576723123"
      ]
     },
     "execution_count": 11,
     "metadata": {},
     "output_type": "execute_result"
    }
   ],
   "source": [
    "app_info.read().head()"
   ]
  },
  {
   "cell_type": "code",
   "execution_count": 12,
   "metadata": {
    "collapsed": false
   },
   "outputs": [
    {
     "data": {
      "text/html": [
       "<div>\n",
       "<table border=\"1\" class=\"dataframe\">\n",
       "  <thead>\n",
       "    <tr style=\"text-align: right;\">\n",
       "      <th></th>\n",
       "      <th>app_id</th>\n",
       "      <th>general_groups</th>\n",
       "    </tr>\n",
       "  </thead>\n",
       "  <tbody>\n",
       "    <tr>\n",
       "      <th>3152</th>\n",
       "      <td>5927333115845830913</td>\n",
       "      <td>cat_Property</td>\n",
       "    </tr>\n",
       "    <tr>\n",
       "      <th>8139</th>\n",
       "      <td>5927333115845830913</td>\n",
       "      <td>cat_Family</td>\n",
       "    </tr>\n",
       "    <tr>\n",
       "      <th>69351</th>\n",
       "      <td>5927333115845830913</td>\n",
       "      <td>cat_Property</td>\n",
       "    </tr>\n",
       "    <tr>\n",
       "      <th>187954</th>\n",
       "      <td>5927333115845830913</td>\n",
       "      <td>cat_Industry tag</td>\n",
       "    </tr>\n",
       "    <tr>\n",
       "      <th>430991</th>\n",
       "      <td>5927333115845830913</td>\n",
       "      <td>cat_Communication</td>\n",
       "    </tr>\n",
       "  </tbody>\n",
       "</table>\n",
       "</div>"
      ],
      "text/plain": [
       "                     app_id     general_groups\n",
       "3152    5927333115845830913       cat_Property\n",
       "8139    5927333115845830913         cat_Family\n",
       "69351   5927333115845830913       cat_Property\n",
       "187954  5927333115845830913   cat_Industry tag\n",
       "430991  5927333115845830913  cat_Communication"
      ]
     },
     "execution_count": 12,
     "metadata": {},
     "output_type": "execute_result"
    }
   ],
   "source": [
    "label[label.app_id==5927333115845830913]"
   ]
  },
  {
   "cell_type": "markdown",
   "metadata": {},
   "source": [
    "This is unfortunate. The app_id is bijective with the label_id and category. Yes, an app might fall into more than one category.\n",
    "Now we need a way to deal with this. "
   ]
  },
  {
   "cell_type": "markdown",
   "metadata": {},
   "source": [
    "### Deal with multiple labels per app id"
   ]
  },
  {
   "cell_type": "code",
   "execution_count": 13,
   "metadata": {
    "collapsed": false
   },
   "outputs": [],
   "source": [
    "label = pd.read_csv(files_dir+\"finalSets/app_categories_grouped.csv\")"
   ]
  },
  {
   "cell_type": "code",
   "execution_count": 12,
   "metadata": {
    "collapsed": false
   },
   "outputs": [
    {
     "data": {
      "text/html": [
       "<div>\n",
       "<table border=\"1\" class=\"dataframe\">\n",
       "  <thead>\n",
       "    <tr style=\"text-align: right;\">\n",
       "      <th></th>\n",
       "      <th>event_id</th>\n",
       "      <th>app_id</th>\n",
       "      <th>general_groups</th>\n",
       "    </tr>\n",
       "  </thead>\n",
       "  <tbody>\n",
       "    <tr>\n",
       "      <th>0</th>\n",
       "      <td>2</td>\n",
       "      <td>5927333115845830913</td>\n",
       "      <td>cat_Property</td>\n",
       "    </tr>\n",
       "    <tr>\n",
       "      <th>1</th>\n",
       "      <td>2</td>\n",
       "      <td>5927333115845830913</td>\n",
       "      <td>cat_Family</td>\n",
       "    </tr>\n",
       "    <tr>\n",
       "      <th>2</th>\n",
       "      <td>2</td>\n",
       "      <td>5927333115845830913</td>\n",
       "      <td>cat_Property</td>\n",
       "    </tr>\n",
       "    <tr>\n",
       "      <th>3</th>\n",
       "      <td>2</td>\n",
       "      <td>5927333115845830913</td>\n",
       "      <td>cat_Industry tag</td>\n",
       "    </tr>\n",
       "    <tr>\n",
       "      <th>4</th>\n",
       "      <td>2</td>\n",
       "      <td>5927333115845830913</td>\n",
       "      <td>cat_Communication</td>\n",
       "    </tr>\n",
       "    <tr>\n",
       "      <th>5</th>\n",
       "      <td>2</td>\n",
       "      <td>-653184325010919369</td>\n",
       "      <td>cat_Custom label</td>\n",
       "    </tr>\n",
       "    <tr>\n",
       "      <th>6</th>\n",
       "      <td>2</td>\n",
       "      <td>-653184325010919369</td>\n",
       "      <td>cat_Esoteric</td>\n",
       "    </tr>\n",
       "    <tr>\n",
       "      <th>7</th>\n",
       "      <td>2</td>\n",
       "      <td>-653184325010919369</td>\n",
       "      <td>cat_Finance</td>\n",
       "    </tr>\n",
       "    <tr>\n",
       "      <th>8</th>\n",
       "      <td>2</td>\n",
       "      <td>-653184325010919369</td>\n",
       "      <td>cat_Finance</td>\n",
       "    </tr>\n",
       "    <tr>\n",
       "      <th>9</th>\n",
       "      <td>2</td>\n",
       "      <td>-653184325010919369</td>\n",
       "      <td>cat_Finance</td>\n",
       "    </tr>\n",
       "  </tbody>\n",
       "</table>\n",
       "</div>"
      ],
      "text/plain": [
       "   event_id               app_id     general_groups\n",
       "0         2  5927333115845830913       cat_Property\n",
       "1         2  5927333115845830913         cat_Family\n",
       "2         2  5927333115845830913       cat_Property\n",
       "3         2  5927333115845830913   cat_Industry tag\n",
       "4         2  5927333115845830913  cat_Communication\n",
       "5         2  -653184325010919369   cat_Custom label\n",
       "6         2  -653184325010919369       cat_Esoteric\n",
       "7         2  -653184325010919369        cat_Finance\n",
       "8         2  -653184325010919369        cat_Finance\n",
       "9         2  -653184325010919369        cat_Finance"
      ]
     },
     "execution_count": 12,
     "metadata": {},
     "output_type": "execute_result"
    }
   ],
   "source": [
    "app_info.head(10)"
   ]
  },
  {
   "cell_type": "markdown",
   "metadata": {},
   "source": [
    "# ToDo:\n",
    "- drop entries in app_info which don't have corresponding information in the events dataset\n",
    "- merge app_info with labels.\n",
    "- merge app_info with events info, drop dublicates.\n",
    "- write device_id to app data\n",
    "- prepare datasets: normalisations, transformation, encoding... \n",
    "- train models!\n",
    "- try to optimise ensemble output, there will be many predictions for each device_id when we train on events or app data.\n",
    "- curious what comes out of it."
   ]
  }
 ],
 "metadata": {
  "anaconda-cloud": {},
  "kernelspec": {
   "display_name": "Python [Root]",
   "language": "python",
   "name": "Python [Root]"
  },
  "language_info": {
   "codemirror_mode": {
    "name": "ipython",
    "version": 3
   },
   "file_extension": ".py",
   "mimetype": "text/x-python",
   "name": "python",
   "nbconvert_exporter": "python",
   "pygments_lexer": "ipython3",
   "version": "3.5.2"
  }
 },
 "nbformat": 4,
 "nbformat_minor": 0
}
