{
 "cells": [
  {
   "cell_type": "markdown",
   "metadata": {},
   "source": [
    "# Common import statements\n",
    "For different splits go to the respective sections."
   ]
  },
  {
   "cell_type": "code",
   "execution_count": 74,
   "metadata": {
    "collapsed": true
   },
   "outputs": [],
   "source": [
    "import pandas as pd\n",
    "from pandas import DataFrame as df\n",
    "import IPython as ip\n",
    "import re\n",
    "import numpy as np\n",
    "import time\n",
    "\n",
    "import seaborn as sns\n",
    "sns.set(color_codes=True)\n",
    "\n",
    "import matplotlib.pyplot as plt\n",
    "# Set input dir\n",
    "import sys\n",
    "sys.path.append(\"/home/mschlupp/pythonTools\")\n",
    "files_dir = \"files/\"\n",
    "%matplotlib inline"
   ]
  },
  {
   "cell_type": "markdown",
   "metadata": {},
   "source": [
    "## Split data into `hasEvents` and `noEvents`"
   ]
  },
  {
   "cell_type": "code",
   "execution_count": 105,
   "metadata": {
    "collapsed": true
   },
   "outputs": [],
   "source": [
    "ga_full = pd.read_csv(files_dir+\"traintest_fullevt.csv\")"
   ]
  },
  {
   "cell_type": "code",
   "execution_count": 10,
   "metadata": {
    "collapsed": false
   },
   "outputs": [],
   "source": [
    "ga_hasEvts = ga_full[ga_full.hasEvents>0]"
   ]
  },
  {
   "cell_type": "code",
   "execution_count": 9,
   "metadata": {
    "collapsed": true
   },
   "outputs": [],
   "source": [
    "ga_noEvts = ga_full[ga_full.hasEvents==0]"
   ]
  },
  {
   "cell_type": "code",
   "execution_count": 13,
   "metadata": {
    "collapsed": false
   },
   "outputs": [],
   "source": [
    "ga_noEvts = ga_noEvts.drop([\"hasEvents\", \"nEvts\", \"longitude_mean\"\n",
    "                , \"longitude_variance\", \"latitude_mean\"\n",
    "                , \"latitude_variance\", \"usageTime_mean\"\n",
    "                , \"usageTime_variance\", \"usageDay_mean\"\n",
    "                ,\"usageDay_variance\"], axis=1)"
   ]
  },
  {
   "cell_type": "code",
   "execution_count": 14,
   "metadata": {
    "collapsed": true
   },
   "outputs": [],
   "source": [
    "ga_noEvts.to_csv(\"files/ga_noEvts.csv\", index=False)"
   ]
  },
  {
   "cell_type": "code",
   "execution_count": 15,
   "metadata": {
    "collapsed": false
   },
   "outputs": [],
   "source": [
    "ga_hasEvts.to_csv(\"files/ga_hasEvts.csv\", index=False)"
   ]
  },
  {
   "cell_type": "code",
   "execution_count": 17,
   "metadata": {
    "collapsed": false
   },
   "outputs": [
    {
     "name": "stdout",
     "output_type": "stream",
     "text": [
      "app_events.csv              label_categories.csv\r\n",
      "app_labels.csv              phone_brand_device_model.csv\r\n",
      "apps_labels_categories.csv  phone_brand_device_model_engl.csv\r\n",
      "events.csv                  sample_submission.csv\r\n",
      "events_day_hour.csv         traintest_fullevt.csv\r\n",
      "ga_hasEvts.csv              traintest_phone.csv\r\n",
      "ga_noEvts.csv               traintest_phone_day_hour.csv\r\n",
      "gender_age_test.csv         traintest_phone_evts.csv\r\n",
      "gender_age_train.csv\r\n"
     ]
    }
   ],
   "source": [
    "%ls files/"
   ]
  },
  {
   "cell_type": "markdown",
   "metadata": {},
   "source": [
    "## Split events data in ```hasApp``` and ```noApp```"
   ]
  },
  {
   "cell_type": "code",
   "execution_count": 7,
   "metadata": {
    "collapsed": true
   },
   "outputs": [],
   "source": [
    "evts= pd.read_csv(\"files/events_day_hour.csv\", index_col=0)"
   ]
  },
  {
   "cell_type": "code",
   "execution_count": 6,
   "metadata": {
    "collapsed": true
   },
   "outputs": [],
   "source": [
    "ga_evts = pd.read_csv(\"files/ga_hasEvts.csv\")"
   ]
  },
  {
   "cell_type": "code",
   "execution_count": 111,
   "metadata": {
    "collapsed": false
   },
   "outputs": [
    {
     "data": {
      "text/html": [
       "<div>\n",
       "<table border=\"1\" class=\"dataframe\">\n",
       "  <thead>\n",
       "    <tr style=\"text-align: right;\">\n",
       "      <th></th>\n",
       "      <th>age</th>\n",
       "      <th>device_id</th>\n",
       "      <th>gender</th>\n",
       "      <th>group</th>\n",
       "      <th>isTrain</th>\n",
       "      <th>phone_brand</th>\n",
       "      <th>device_model</th>\n",
       "      <th>hasEvents</th>\n",
       "      <th>nEvts</th>\n",
       "      <th>longitude_mean</th>\n",
       "      <th>longitude_variance</th>\n",
       "      <th>latitude_mean</th>\n",
       "      <th>latitude_variance</th>\n",
       "      <th>usageTime_mean</th>\n",
       "      <th>usageTime_variance</th>\n",
       "      <th>usageDay_mean</th>\n",
       "      <th>usageDay_variance</th>\n",
       "    </tr>\n",
       "  </thead>\n",
       "  <tbody>\n",
       "    <tr>\n",
       "      <th>58501</th>\n",
       "      <td>-1</td>\n",
       "      <td>2160204780761637517</td>\n",
       "      <td>none</td>\n",
       "      <td>none</td>\n",
       "      <td>0</td>\n",
       "      <td>vivo</td>\n",
       "      <td>Y17T</td>\n",
       "      <td>1</td>\n",
       "      <td>5</td>\n",
       "      <td>106.01</td>\n",
       "      <td>0</td>\n",
       "      <td>32.05</td>\n",
       "      <td>0</td>\n",
       "      <td>0.000</td>\n",
       "      <td>0.000000</td>\n",
       "      <td>0.0</td>\n",
       "      <td>0.000000</td>\n",
       "    </tr>\n",
       "    <tr>\n",
       "      <th>58502</th>\n",
       "      <td>-1</td>\n",
       "      <td>7583643168012624381</td>\n",
       "      <td>none</td>\n",
       "      <td>none</td>\n",
       "      <td>0</td>\n",
       "      <td>华为</td>\n",
       "      <td>荣耀6 Plus</td>\n",
       "      <td>1</td>\n",
       "      <td>8</td>\n",
       "      <td>0.00</td>\n",
       "      <td>0</td>\n",
       "      <td>0.00</td>\n",
       "      <td>0</td>\n",
       "      <td>12.375</td>\n",
       "      <td>6.839286</td>\n",
       "      <td>3.5</td>\n",
       "      <td>0.285714</td>\n",
       "    </tr>\n",
       "  </tbody>\n",
       "</table>\n",
       "</div>"
      ],
      "text/plain": [
       "       age            device_id gender group  isTrain phone_brand  \\\n",
       "58501   -1  2160204780761637517   none  none        0        vivo   \n",
       "58502   -1  7583643168012624381   none  none        0          华为   \n",
       "\n",
       "      device_model  hasEvents  nEvts  longitude_mean  longitude_variance  \\\n",
       "58501         Y17T          1      5          106.01                   0   \n",
       "58502     荣耀6 Plus          1      8            0.00                   0   \n",
       "\n",
       "       latitude_mean  latitude_variance  usageTime_mean  usageTime_variance  \\\n",
       "58501          32.05                  0           0.000            0.000000   \n",
       "58502           0.00                  0          12.375            6.839286   \n",
       "\n",
       "       usageDay_mean  usageDay_variance  \n",
       "58501            0.0           0.000000  \n",
       "58502            3.5           0.285714  "
      ]
     },
     "execution_count": 111,
     "metadata": {},
     "output_type": "execute_result"
    }
   ],
   "source": [
    "ga_evts.tail(2)"
   ]
  },
  {
   "cell_type": "markdown",
   "metadata": {},
   "source": [
    "There are actually devide_ids that are not in the training and test set, but present in the events data. First get rid of those.\n",
    "\n",
    "Eg:"
   ]
  },
  {
   "cell_type": "code",
   "execution_count": 9,
   "metadata": {
    "collapsed": false
   },
   "outputs": [
    {
     "data": {
      "text/plain": [
       "False"
      ]
     },
     "execution_count": 9,
     "metadata": {},
     "output_type": "execute_result"
    }
   ],
   "source": [
    "-8295895346874348777 in ga_evts.device_id.values"
   ]
  },
  {
   "cell_type": "code",
   "execution_count": 151,
   "metadata": {
    "collapsed": true
   },
   "outputs": [],
   "source": [
    "# this is not very fast!\n",
    "#ll = evts.device_id.map(lambda x: x in ga_evts.device_id.values)\n",
    "#ll.value_counts()\n",
    "\n",
    "#True     3160417\n",
    "#False      92533\n",
    "#Name: device_id, dtype: int64"
   ]
  },
  {
   "cell_type": "code",
   "execution_count": 153,
   "metadata": {
    "collapsed": false
   },
   "outputs": [],
   "source": [
    "# ask if the evts.device_id is in ga_evts\n",
    "evts=evts.drop([\"timestamp\"],axis=1)\n",
    "evts=evts[list(map(lambda x: x in ga_evts.device_id.values,evts.device_id))]"
   ]
  },
  {
   "cell_type": "code",
   "execution_count": 155,
   "metadata": {
    "collapsed": false
   },
   "outputs": [
    {
     "data": {
      "text/plain": [
       "3160417"
      ]
     },
     "execution_count": 155,
     "metadata": {},
     "output_type": "execute_result"
    }
   ],
   "source": [
    "len(evts)"
   ]
  },
  {
   "cell_type": "code",
   "execution_count": 157,
   "metadata": {
    "collapsed": true
   },
   "outputs": [],
   "source": [
    "evts.to_csv(\"files/evts_ga_aligned_ids.csv\", index=False)"
   ]
  },
  {
   "cell_type": "markdown",
   "metadata": {},
   "source": [
    "Ok now all `device_id` entries are present in the train and test samples."
   ]
  },
  {
   "cell_type": "code",
   "execution_count": 112,
   "metadata": {
    "collapsed": true
   },
   "outputs": [],
   "source": [
    "#read file in chunks, because else we run in memory troubles\n",
    "size=50000\n",
    "evts_chunks= pd.read_csv(\"files/evts_ga_aligned_ids.csv\", chunksize=size)"
   ]
  },
  {
   "cell_type": "code",
   "execution_count": 113,
   "metadata": {
    "collapsed": true
   },
   "outputs": [],
   "source": [
    "evts = pd.DataFrame()"
   ]
  },
  {
   "cell_type": "code",
   "execution_count": 114,
   "metadata": {
    "collapsed": false
   },
   "outputs": [
    {
     "name": "stdout",
     "output_type": "stream",
     "text": [
      "50.0 k events processed! Took:  0.002494255701700846  minutes.\n",
      "550.0 k events processed! Took:  0.03510509729385376  minutes.\n",
      "1050.0 k events processed! Took:  0.09955893754959107  minutes.\n",
      "1550.0 k events processed! Took:  0.17054517269134523  minutes.\n",
      "2050.0 k events processed! Took:  0.2602207104365031  minutes.\n",
      "2550.0 k events processed! Took:  0.37145033677419026  minutes.\n",
      "3050.0 k events processed! Took:  0.502344552675883  minutes.\n",
      "\n",
      "\n",
      " done in  0.5552177627881368  minutes\n"
     ]
    }
   ],
   "source": [
    "# this got a bit more complicated than necessary due to missing device ids\n",
    "\n",
    "# add training flag and write output to file\n",
    "#start=time.time()\n",
    "#for i,chunk in enumerate(evts_chunks): \n",
    "#    l=list()\n",
    "#    for x in chunk.device_id.values:\n",
    "#        l.append(ga_evts[ga_evts.device_id==x].isTrain.values[0])    \n",
    "#    chunk[\"isTrain\"]=l\n",
    "    #print(type(l), \"\\n\", l)\n",
    "#    if i % 10 == 0:\n",
    "#        t = time.time()\n",
    "#        print(i*size/1e3, \"k events processed! Took: \", (t-start)/60., \" minutes.\")\n",
    "#    if i==0:\n",
    "#        evts = chunk #.to_csv(\"files/finalSets/evts_withTrain.csv\", mode='w')\n",
    "#    else:\n",
    "#        evts = evts.append(chunk, ignore_index=True) #.to_csv(\"files/finalSets/evts_withTrain.csv\", mode='a',header=False)\n",
    "        \n",
    "# print(\"\\n\\n done in \", (time.time()-s)/60., \" minutes\")\n",
    "# horribly slow: about 50 minutes\n",
    "\n",
    "# try to be faster\n",
    "# that's so much faster!! --> 0.8 minutes!\n",
    "start=time.time()\n",
    "for i,chunk in enumerate(evts_chunks): \n",
    "    chunk = chunk.merge(ga_evts[[\"device_id\",\"isTrain\", \"group\"]]\n",
    "                        ,on=\"device_id\", how=\"left\")\n",
    "    #print(type(l), \"\\n\", l)\n",
    "    if i % 10 == 0:\n",
    "        t = time.time()\n",
    "        print((i+1)*size/1e3, \"k events processed! Took: \", (t-start)/60., \" minutes.\")\n",
    "    if i==0:\n",
    "        evts = chunk \n",
    "    else:\n",
    "        evts = pd.concat([evts,chunk], ignore_index=True)\n",
    "        \n",
    "print(\"\\n\\n done in \", (time.time()-start)/60., \" minutes\")"
   ]
  },
  {
   "cell_type": "code",
   "execution_count": 115,
   "metadata": {
    "collapsed": false
   },
   "outputs": [
    {
     "data": {
      "text/plain": [
       "1186608308763918427    33426\n",
       "Name: device_id, dtype: int64"
      ]
     },
     "execution_count": 115,
     "metadata": {},
     "output_type": "execute_result"
    }
   ],
   "source": [
    "# take device with highest amount of events occurrances\n",
    "evts.device_id.value_counts().head(1)"
   ]
  },
  {
   "cell_type": "code",
   "execution_count": 116,
   "metadata": {
    "collapsed": false
   },
   "outputs": [
    {
     "name": "stdout",
     "output_type": "stream",
     "text": [
      "55072    0\n",
      "Name: isTrain, dtype: int64\n"
     ]
    },
    {
     "data": {
      "text/plain": [
       "0    33426\n",
       "Name: isTrain, dtype: int64"
      ]
     },
     "execution_count": 116,
     "metadata": {},
     "output_type": "execute_result"
    }
   ],
   "source": [
    "# test if the merge was successful\n",
    "print(ga_evts.isTrain[ga_evts.device_id==1186608308763918427])\n",
    "evts[evts.device_id==1186608308763918427].isTrain.value_counts()"
   ]
  },
  {
   "cell_type": "markdown",
   "metadata": {},
   "source": [
    "Ok this worked.\n",
    "Event for the device with the highest number of event occurrences, the `isTrain` flag is correctly set for all of them! Great improvement in speed!!"
   ]
  },
  {
   "cell_type": "code",
   "execution_count": 82,
   "metadata": {
    "collapsed": false
   },
   "outputs": [],
   "source": [
    "evts.to_csv(files_dir+\"finalSets/evts_withTrain.csv\", index=False)"
   ]
  },
  {
   "cell_type": "markdown",
   "metadata": {},
   "source": [
    "## We start to split data"
   ]
  },
  {
   "cell_type": "code",
   "execution_count": 2,
   "metadata": {
    "collapsed": true
   },
   "outputs": [],
   "source": [
    "evts = pd.read_csv(\"files/finalSets/evts_withTrain.csv\")"
   ]
  },
  {
   "cell_type": "code",
   "execution_count": 83,
   "metadata": {
    "collapsed": false
   },
   "outputs": [
    {
     "data": {
      "text/plain": [
       "3160417"
      ]
     },
     "execution_count": 83,
     "metadata": {},
     "output_type": "execute_result"
    }
   ],
   "source": [
    "len(evts)"
   ]
  },
  {
   "cell_type": "code",
   "execution_count": 119,
   "metadata": {
    "collapsed": false
   },
   "outputs": [],
   "source": [
    "# now we need the event ids from the apps data\n",
    "app_evt_id = pd.read_csv(\"files/app_events.csv\", usecols=[\"event_id\"]\n",
    "                         , dtype=np.float64)"
   ]
  },
  {
   "cell_type": "code",
   "execution_count": 120,
   "metadata": {
    "collapsed": false
   },
   "outputs": [],
   "source": [
    "app_evt_id =  pd.DataFrame(app_evt_id.event_id.unique(), columns=[\"event_id\"])"
   ]
  },
  {
   "cell_type": "code",
   "execution_count": 100,
   "metadata": {
    "collapsed": false
   },
   "outputs": [
    {
     "data": {
      "text/plain": [
       "1488096"
      ]
     },
     "execution_count": 100,
     "metadata": {},
     "output_type": "execute_result"
    }
   ],
   "source": [
    "len(app_evt_id)"
   ]
  },
  {
   "cell_type": "code",
   "execution_count": 122,
   "metadata": {
    "collapsed": false
   },
   "outputs": [],
   "source": [
    "evts_hasApp = evts.merge(app_evt_id, on=\"event_id\", how=\"inner\")"
   ]
  },
  {
   "cell_type": "code",
   "execution_count": 123,
   "metadata": {
    "collapsed": false
   },
   "outputs": [
    {
     "name": "stdout",
     "output_type": "stream",
     "text": [
      "1446145\n"
     ]
    },
    {
     "data": {
      "text/html": [
       "<div>\n",
       "<table border=\"1\" class=\"dataframe\">\n",
       "  <thead>\n",
       "    <tr style=\"text-align: right;\">\n",
       "      <th></th>\n",
       "      <th>event_id</th>\n",
       "      <th>device_id</th>\n",
       "      <th>longitude</th>\n",
       "      <th>latitude</th>\n",
       "      <th>day</th>\n",
       "      <th>time</th>\n",
       "      <th>hour</th>\n",
       "      <th>usageDay</th>\n",
       "      <th>isTrain</th>\n",
       "      <th>group</th>\n",
       "    </tr>\n",
       "  </thead>\n",
       "  <tbody>\n",
       "    <tr>\n",
       "      <th>0</th>\n",
       "      <td>2</td>\n",
       "      <td>-6401643145415154744</td>\n",
       "      <td>103.65</td>\n",
       "      <td>30.97</td>\n",
       "      <td>Sun</td>\n",
       "      <td>00:54:12</td>\n",
       "      <td>0</td>\n",
       "      <td>3</td>\n",
       "      <td>0</td>\n",
       "      <td>none</td>\n",
       "    </tr>\n",
       "    <tr>\n",
       "      <th>1</th>\n",
       "      <td>6</td>\n",
       "      <td>1476664663289716375</td>\n",
       "      <td>0.00</td>\n",
       "      <td>0.00</td>\n",
       "      <td>Sun</td>\n",
       "      <td>00:27:21</td>\n",
       "      <td>0</td>\n",
       "      <td>3</td>\n",
       "      <td>1</td>\n",
       "      <td>M22-</td>\n",
       "    </tr>\n",
       "    <tr>\n",
       "      <th>2</th>\n",
       "      <td>7</td>\n",
       "      <td>5990807147117726237</td>\n",
       "      <td>113.73</td>\n",
       "      <td>23.00</td>\n",
       "      <td>Sun</td>\n",
       "      <td>00:15:13</td>\n",
       "      <td>0</td>\n",
       "      <td>3</td>\n",
       "      <td>0</td>\n",
       "      <td>none</td>\n",
       "    </tr>\n",
       "    <tr>\n",
       "      <th>3</th>\n",
       "      <td>9</td>\n",
       "      <td>-2073340001552902943</td>\n",
       "      <td>0.00</td>\n",
       "      <td>0.00</td>\n",
       "      <td>Sun</td>\n",
       "      <td>00:15:33</td>\n",
       "      <td>0</td>\n",
       "      <td>3</td>\n",
       "      <td>0</td>\n",
       "      <td>none</td>\n",
       "    </tr>\n",
       "    <tr>\n",
       "      <th>4</th>\n",
       "      <td>16</td>\n",
       "      <td>9070651185984875886</td>\n",
       "      <td>0.00</td>\n",
       "      <td>0.00</td>\n",
       "      <td>Sun</td>\n",
       "      <td>00:06:06</td>\n",
       "      <td>0</td>\n",
       "      <td>3</td>\n",
       "      <td>0</td>\n",
       "      <td>none</td>\n",
       "    </tr>\n",
       "  </tbody>\n",
       "</table>\n",
       "</div>"
      ],
      "text/plain": [
       "   event_id            device_id  longitude  latitude  day      time  hour  \\\n",
       "0         2 -6401643145415154744     103.65     30.97  Sun  00:54:12     0   \n",
       "1         6  1476664663289716375       0.00      0.00  Sun  00:27:21     0   \n",
       "2         7  5990807147117726237     113.73     23.00  Sun  00:15:13     0   \n",
       "3         9 -2073340001552902943       0.00      0.00  Sun  00:15:33     0   \n",
       "4        16  9070651185984875886       0.00      0.00  Sun  00:06:06     0   \n",
       "\n",
       "   usageDay  isTrain group  \n",
       "0         3        0  none  \n",
       "1         3        1  M22-  \n",
       "2         3        0  none  \n",
       "3         3        0  none  \n",
       "4         3        0  none  "
      ]
     },
     "execution_count": 123,
     "metadata": {},
     "output_type": "execute_result"
    }
   ],
   "source": [
    "print(len(evts_hasApp))\n",
    "evts_hasApp.head(5)"
   ]
  },
  {
   "cell_type": "code",
   "execution_count": 124,
   "metadata": {
    "collapsed": true
   },
   "outputs": [],
   "source": [
    "evts_hasApp.to_csv(files_dir+\"finalSets/evts_hasApp.csv\", index=False)"
   ]
  },
  {
   "cell_type": "code",
   "execution_count": 134,
   "metadata": {
    "collapsed": false
   },
   "outputs": [],
   "source": [
    "evts_noApp = evts.loc[~(evts[\"event_id\"].isin(evts_hasApp.event_id))]"
   ]
  },
  {
   "cell_type": "code",
   "execution_count": 136,
   "metadata": {
    "collapsed": false
   },
   "outputs": [
    {
     "data": {
      "text/plain": [
       "True"
      ]
     },
     "execution_count": 136,
     "metadata": {},
     "output_type": "execute_result"
    }
   ],
   "source": [
    "len(evts_noApp)+len(evts_hasApp) == len(evts)"
   ]
  },
  {
   "cell_type": "markdown",
   "metadata": {},
   "source": [
    "Cool this worked. Now write the last split to csv and call it a day."
   ]
  },
  {
   "cell_type": "code",
   "execution_count": 137,
   "metadata": {
    "collapsed": true
   },
   "outputs": [],
   "source": [
    "evts_noApp.to_csv(files_dir+\"finalSets/evts_noApp.csv\", index=False)"
   ]
  },
  {
   "cell_type": "markdown",
   "metadata": {},
   "source": [
    "# Now continue with the AppData\n",
    "Here we need to merge the data with the events data that have App information"
   ]
  },
  {
   "cell_type": "code",
   "execution_count": 12,
   "metadata": {
    "collapsed": true
   },
   "outputs": [],
   "source": [
    "evts_hasApp = pd.read_csv(files_dir+\"finalSets/evts_hasApp.csv\")"
   ]
  },
  {
   "cell_type": "code",
   "execution_count": 7,
   "metadata": {
    "collapsed": false
   },
   "outputs": [
    {
     "name": "stdout",
     "output_type": "stream",
     "text": [
      "(1446145, 10)\n"
     ]
    },
    {
     "data": {
      "text/html": [
       "<div>\n",
       "<table border=\"1\" class=\"dataframe\">\n",
       "  <thead>\n",
       "    <tr style=\"text-align: right;\">\n",
       "      <th></th>\n",
       "      <th>event_id</th>\n",
       "      <th>device_id</th>\n",
       "      <th>longitude</th>\n",
       "      <th>latitude</th>\n",
       "      <th>day</th>\n",
       "      <th>time</th>\n",
       "      <th>hour</th>\n",
       "      <th>usageDay</th>\n",
       "      <th>isTrain</th>\n",
       "      <th>group</th>\n",
       "    </tr>\n",
       "  </thead>\n",
       "  <tbody>\n",
       "    <tr>\n",
       "      <th>0</th>\n",
       "      <td>2</td>\n",
       "      <td>-6401643145415154744</td>\n",
       "      <td>103.65</td>\n",
       "      <td>30.97</td>\n",
       "      <td>Sun</td>\n",
       "      <td>00:54:12</td>\n",
       "      <td>0</td>\n",
       "      <td>3</td>\n",
       "      <td>0</td>\n",
       "      <td>none</td>\n",
       "    </tr>\n",
       "    <tr>\n",
       "      <th>1</th>\n",
       "      <td>6</td>\n",
       "      <td>1476664663289716375</td>\n",
       "      <td>0.00</td>\n",
       "      <td>0.00</td>\n",
       "      <td>Sun</td>\n",
       "      <td>00:27:21</td>\n",
       "      <td>0</td>\n",
       "      <td>3</td>\n",
       "      <td>1</td>\n",
       "      <td>M22-</td>\n",
       "    </tr>\n",
       "  </tbody>\n",
       "</table>\n",
       "</div>"
      ],
      "text/plain": [
       "   event_id            device_id  longitude  latitude  day      time  hour  \\\n",
       "0         2 -6401643145415154744     103.65     30.97  Sun  00:54:12     0   \n",
       "1         6  1476664663289716375       0.00      0.00  Sun  00:27:21     0   \n",
       "\n",
       "   usageDay  isTrain group  \n",
       "0         3        0  none  \n",
       "1         3        1  M22-  "
      ]
     },
     "execution_count": 7,
     "metadata": {},
     "output_type": "execute_result"
    }
   ],
   "source": [
    "print(evts_hasApp.shape)\n",
    "evts_hasApp.head(2)"
   ]
  },
  {
   "cell_type": "markdown",
   "metadata": {},
   "source": [
    "This dataset will be merged with the app information. So let's get the app data."
   ]
  },
  {
   "cell_type": "code",
   "execution_count": 5,
   "metadata": {
    "collapsed": false
   },
   "outputs": [
    {
     "name": "stdout",
     "output_type": "stream",
     "text": [
      "app_events.csv\r\n",
      "app_labels.csv\r\n",
      "apps_labels_categories.csv\r\n"
     ]
    }
   ],
   "source": [
    "%ls files | grep \"app\""
   ]
  },
  {
   "cell_type": "code",
   "execution_count": 17,
   "metadata": {
    "collapsed": false
   },
   "outputs": [],
   "source": [
    "app_info = pd.read_csv(files_dir+\"app_events.csv\")"
   ]
  },
  {
   "cell_type": "code",
   "execution_count": 8,
   "metadata": {
    "collapsed": false
   },
   "outputs": [
    {
     "name": "stdout",
     "output_type": "stream",
     "text": [
      "(32473067, 4)\n"
     ]
    },
    {
     "data": {
      "text/html": [
       "<div>\n",
       "<table border=\"1\" class=\"dataframe\">\n",
       "  <thead>\n",
       "    <tr style=\"text-align: right;\">\n",
       "      <th></th>\n",
       "      <th>event_id</th>\n",
       "      <th>app_id</th>\n",
       "      <th>is_installed</th>\n",
       "      <th>is_active</th>\n",
       "    </tr>\n",
       "  </thead>\n",
       "  <tbody>\n",
       "    <tr>\n",
       "      <th>0</th>\n",
       "      <td>2</td>\n",
       "      <td>5927333115845830913</td>\n",
       "      <td>1</td>\n",
       "      <td>1</td>\n",
       "    </tr>\n",
       "    <tr>\n",
       "      <th>1</th>\n",
       "      <td>2</td>\n",
       "      <td>-5720078949152207372</td>\n",
       "      <td>1</td>\n",
       "      <td>0</td>\n",
       "    </tr>\n",
       "  </tbody>\n",
       "</table>\n",
       "</div>"
      ],
      "text/plain": [
       "   event_id               app_id  is_installed  is_active\n",
       "0         2  5927333115845830913             1          1\n",
       "1         2 -5720078949152207372             1          0"
      ]
     },
     "execution_count": 8,
     "metadata": {},
     "output_type": "execute_result"
    }
   ],
   "source": [
    "print(app_info.shape)\n",
    "app_info.head(2)"
   ]
  },
  {
   "cell_type": "code",
   "execution_count": 16,
   "metadata": {
    "collapsed": false
   },
   "outputs": [
    {
     "data": {
      "text/plain": [
       "0              2\n",
       "28769      65269\n",
       "94142     212044\n",
       "153947    346841\n",
       "155249    349776\n",
       "Name: event_id, dtype: int64"
      ]
     },
     "execution_count": 16,
     "metadata": {},
     "output_type": "execute_result"
    }
   ],
   "source": [
    "evts_hasApp.event_id[evts_hasApp.device_id==-6401643145415154744].head()"
   ]
  },
  {
   "cell_type": "code",
   "execution_count": 18,
   "metadata": {
    "collapsed": true
   },
   "outputs": [],
   "source": [
    "app_info = app_info[app_info.event_id.isin([2,65269,212044,346841,349776])]"
   ]
  },
  {
   "cell_type": "code",
   "execution_count": 19,
   "metadata": {
    "collapsed": false
   },
   "outputs": [],
   "source": [
    "group_evt = app_info.groupby(\"event_id\")"
   ]
  },
  {
   "cell_type": "code",
   "execution_count": 20,
   "metadata": {
    "collapsed": false,
    "scrolled": true
   },
   "outputs": [
    {
     "name": "stdout",
     "output_type": "stream",
     "text": [
      "         event_id               app_id  is_installed  is_active\n",
      "3524035    349776  5927333115845830913             1          0\n",
      "3524036    349776 -5720078949152207372             1          0\n",
      "3524037    349776 -1633887856876571208             1          0\n",
      "3524038    349776  8693964245073640147             1          0\n",
      "3524039    349776 -8438435939794089197             1          1\n",
      "3524040    349776  4775896950989639373             1          0\n",
      "3524041    349776  9112463267739110219             1          0\n",
      "3524042    349776 -3725672010020973973             1          0\n",
      "3524043    349776  7167114343576723123             1          1\n",
      "3524044    349776  7460082553072507347             1          0\n",
      "3524045    349776   628020936226491308             1          0\n",
      "3524046    349776   701031210314548601             1          0\n",
      "3524047    349776 -1758857579862594461             1          0\n",
      "3524048    349776  4348659952760821294             1          0\n",
      "3524049    349776 -8942695423876075857             1          0\n",
      "3524050    349776  5497109940653330488             1          0\n",
      "3524051    349776  3717049149426646122             1          0\n",
      "         event_id               app_id  is_installed  is_active\n",
      "3496134    346841  3244407944504629893             1          1\n",
      "3496135    346841  8693964245073640147             1          1\n",
      "3496136    346841  7167114343576723123             1          1\n",
      "3496137    346841  7460082553072507347             1          1\n",
      "    event_id               app_id  is_installed  is_active\n",
      "0          2  5927333115845830913             1          1\n",
      "1          2 -5720078949152207372             1          0\n",
      "2          2 -1633887856876571208             1          0\n",
      "3          2  -653184325010919369             1          1\n",
      "4          2  8693964245073640147             1          1\n",
      "5          2  4775896950989639373             1          1\n",
      "6          2 -8022267440849930066             1          0\n",
      "7          2  9112463267739110219             1          0\n",
      "8          2 -3725672010020973973             1          0\n",
      "9          2  7167114343576723123             1          1\n",
      "10         2   487766649788038994             1          0\n",
      "11         2  7460082553072507347             1          0\n",
      "12         2   628020936226491308             1          0\n",
      "13         2   701031210314548601             1          0\n",
      "14         2 -1758857579862594461             1          0\n",
      "15         2  4348659952760821294             1          0\n",
      "16         2 -8942695423876075857             1          0\n",
      "17         2  5497109940653330488             1          1\n",
      "18         2  3717049149426646122             1          0\n",
      "         event_id               app_id  is_installed  is_active\n",
      "2110988    212044  7167114343576723123             1          1\n",
      "2110989    212044  7928023034387058689             1          1\n",
      "2110990    212044  5927333115845830913             1          1\n",
      "2110991    212044  8693964245073640147             1          1\n",
      "        event_id               app_id  is_installed  is_active\n",
      "651529     65269  5927333115845830913             1          1\n",
      "651530     65269 -5720078949152207372             1          0\n",
      "651531     65269 -1633887856876571208             1          0\n",
      "651532     65269  -653184325010919369             1          1\n",
      "651533     65269  8693964245073640147             1          1\n",
      "651534     65269  4775896950989639373             1          1\n",
      "651535     65269 -8022267440849930066             1          0\n",
      "651536     65269  9112463267739110219             1          0\n",
      "651537     65269 -3725672010020973973             1          0\n",
      "651538     65269  7167114343576723123             1          1\n",
      "651539     65269   487766649788038994             1          0\n",
      "651540     65269  7460082553072507347             1          0\n",
      "651541     65269   628020936226491308             1          0\n",
      "651542     65269   701031210314548601             1          0\n",
      "651543     65269 -1758857579862594461             1          0\n",
      "651544     65269  4348659952760821294             1          0\n",
      "651545     65269 -8942695423876075857             1          0\n",
      "651546     65269  5497109940653330488             1          1\n",
      "651547     65269  3717049149426646122             1          0\n"
     ]
    }
   ],
   "source": [
    "for x in group_evt.groups:\n",
    "    print(group_evt.get_group(x))"
   ]
  },
  {
   "cell_type": "markdown",
   "metadata": {},
   "source": [
    "It seems as if there are different active apps per event and device. Sometimes there is also information about the if an app is installed or not.\n",
    "From now on we only consider app information about the apps that are installed and active in an event. Indeed, there are no app that are active but not installed."
   ]
  },
  {
   "cell_type": "code",
   "execution_count": 33,
   "metadata": {
    "collapsed": true
   },
   "outputs": [],
   "source": [
    "# load full data again and then drop all that is not active in one event\n",
    "app_info = pd.read_csv(files_dir+\"app_events.csv\")"
   ]
  },
  {
   "cell_type": "code",
   "execution_count": 37,
   "metadata": {
    "collapsed": false
   },
   "outputs": [
    {
     "data": {
      "text/plain": [
       "0     11037\n",
       "1    126837\n",
       "Name: is_active, dtype: int64"
      ]
     },
     "execution_count": 37,
     "metadata": {},
     "output_type": "execute_result"
    }
   ],
   "source": [
    "# lets check if there are events with no active app\n",
    "app_info.groupby(\"event_id\")[\"is_active\"].agg(np.sum).value_counts().sort_index().head(2)"
   ]
  },
  {
   "cell_type": "code",
   "execution_count": 67,
   "metadata": {
    "collapsed": false
   },
   "outputs": [],
   "source": [
    "df = pd.DataFrame(app_info.groupby(\"event_id\")[\"is_active\"].agg(np.sum))\n",
    "df.columns = [\"nActiveApps\"]\n",
    "df[\"event_id\"] = df.index\n",
    "df.index= range(len(df))"
   ]
  },
  {
   "cell_type": "code",
   "execution_count": 69,
   "metadata": {
    "collapsed": false,
    "scrolled": true
   },
   "outputs": [],
   "source": [
    "# ok there are events with no active app\n",
    "# let's create a feature that counts the number of active apps per event\n",
    "evts_hasApp = evts_hasApp.merge(df, on=\"event_id\", how=\"left\")"
   ]
  },
  {
   "cell_type": "code",
   "execution_count": 84,
   "metadata": {
    "collapsed": false
   },
   "outputs": [],
   "source": [
    "gp = evts_hasApp.groupby(\"group\")"
   ]
  },
  {
   "cell_type": "code",
   "execution_count": 90,
   "metadata": {
    "collapsed": true
   },
   "outputs": [],
   "source": [
    "?sns.distplot"
   ]
  },
  {
   "cell_type": "code",
   "execution_count": 91,
   "metadata": {
    "collapsed": false
   },
   "outputs": [
    {
     "name": "stderr",
     "output_type": "stream",
     "text": [
      "/home/mschlupp/anaconda3/lib/python3.5/site-packages/statsmodels/nonparametric/kdetools.py:20: VisibleDeprecationWarning: using a non-integer number instead of an integer will result in an error in the future\n",
      "  y = X[:m/2+1] + np.r_[0,X[m/2+1:],0]*1j\n"
     ]
    },
    {
     "data": {
      "image/png": "[encoded data removed]",
      "text/plain": [
       "<matplotlib.figure.Figure at 0x7f457f1939b0>"
      ]
     },
     "metadata": {},
     "output_type": "display_data"
    }
   ],
   "source": [
    "for x in gp.groups:\n",
    "    sns.distplot(gp.get_group(x).nActiveApps, hist=False, label=x);"
   ]
  },
  {
   "cell_type": "markdown",
   "metadata": {},
   "source": [
    "Here we have minor differences, which might help us with other variables."
   ]
  },
  {
   "cell_type": "code",
   "execution_count": 92,
   "metadata": {
    "collapsed": false
   },
   "outputs": [],
   "source": [
    "app_info = app_info.loc[(app_info.is_active ==1 )]"
   ]
  },
  {
   "cell_type": "code",
   "execution_count": 93,
   "metadata": {
    "collapsed": false
   },
   "outputs": [
    {
     "data": {
      "text/html": [
       "<div>\n",
       "<table border=\"1\" class=\"dataframe\">\n",
       "  <thead>\n",
       "    <tr style=\"text-align: right;\">\n",
       "      <th></th>\n",
       "      <th>event_id</th>\n",
       "      <th>app_id</th>\n",
       "      <th>is_active</th>\n",
       "    </tr>\n",
       "  </thead>\n",
       "  <tbody>\n",
       "    <tr>\n",
       "      <th>0</th>\n",
       "      <td>2</td>\n",
       "      <td>5927333115845830913</td>\n",
       "      <td>1</td>\n",
       "    </tr>\n",
       "    <tr>\n",
       "      <th>3</th>\n",
       "      <td>2</td>\n",
       "      <td>-653184325010919369</td>\n",
       "      <td>1</td>\n",
       "    </tr>\n",
       "  </tbody>\n",
       "</table>\n",
       "</div>"
      ],
      "text/plain": [
       "   event_id               app_id  is_active\n",
       "0         2  5927333115845830913          1\n",
       "3         2  -653184325010919369          1"
      ]
     },
     "execution_count": 93,
     "metadata": {},
     "output_type": "execute_result"
    }
   ],
   "source": [
    "app_info = app_info.drop([\"is_installed\"], axis=1)\n",
    "app_info.head(2)"
   ]
  },
  {
   "cell_type": "markdown",
   "metadata": {},
   "source": [
    "We'd like to categorise the `app_id`s so we need label information."
   ]
  }
 ],
 "metadata": {
  "anaconda-cloud": {},
  "kernelspec": {
   "display_name": "Python [Root]",
   "language": "python",
   "name": "Python [Root]"
  },
  "language_info": {
   "codemirror_mode": {
    "name": "ipython",
    "version": 3
   },
   "file_extension": ".py",
   "mimetype": "text/x-python",
   "name": "python",
   "nbconvert_exporter": "python",
   "pygments_lexer": "ipython3",
   "version": "3.5.2"
  }
 },
 "nbformat": 4,
 "nbformat_minor": 0
}
