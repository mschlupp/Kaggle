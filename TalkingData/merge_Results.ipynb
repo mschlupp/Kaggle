{
 "cells": [
  {
   "cell_type": "code",
   "execution_count": 72,
   "metadata": {
    "collapsed": false
   },
   "outputs": [
    {
     "name": "stdout",
     "output_type": "stream",
     "text": [
      "The preamble handles a few imports and defines the following functions:\n",
      "\n",
      "printLoss(y_tr,p_tr,y_te,p_te,loss=log_loss)\n",
      "createDataSet(predictions, group_encoder, device_ids)\n",
      "getBestPrediction(data,var='device_id')\n",
      "\n",
      "\n",
      "A few Debug functions\n"
     ]
    }
   ],
   "source": [
    "%run preamble.ipynb"
   ]
  },
  {
   "cell_type": "code",
   "execution_count": 2,
   "metadata": {
    "collapsed": false
   },
   "outputs": [
    {
     "name": "stdout",
     "output_type": "stream",
     "text": [
      " Volume in drive C has no label.\n",
      " Volume Serial Number is 9C71-F73D\n",
      "\n",
      " Directory of C:\\Users\\maxxo_000\\Kaggle\\TalkingData\\finalOutputs\n",
      "\n",
      "02.09.2016  13:22    <DIR>          .\n",
      "02.09.2016  13:22    <DIR>          ..\n",
      "31.08.2016  14:29        20.003.618 gbdt_gaNoEvts_predictions.csv\n",
      "01.09.2016  14:41     2.016.053.610 lr_App_c001_lowTol.csv\n",
      "31.08.2016  21:19         9.261.107 lr_App_C04lin.csv\n",
      "31.08.2016  14:29         4.457.377 lr_Evts.csv\n",
      "01.09.2016  21:06       283.279.574 lr_Evts_woLatLong.csv\n",
      "31.08.2016  14:29        20.010.889 lr_gaNoEvts_prediction.csv\n",
      "02.09.2016  13:43     3.706.869.670 rf_app_200_split20.csv\n",
      "02.09.2016  01:05       227.382.994 rf_evts_270_split5_entropy.csv\n",
      "               8 File(s)  6.287.318.839 bytes\n",
      "               2 Dir(s)  67.218.448.384 bytes free\n"
     ]
    }
   ],
   "source": [
    "%ls finalOutputs"
   ]
  },
  {
   "cell_type": "code",
   "execution_count": 118,
   "metadata": {
    "collapsed": false
   },
   "outputs": [],
   "source": [
    "lr_ga = pd.read_csv(\"finalOutputs/lr_gaNoEvts_prediction.csv\")\n",
    "lr_evts = pd.read_csv(\"finalOutputs/rf_evts_270_split5_entropy.csv\")"
   ]
  },
  {
   "cell_type": "code",
   "execution_count": 121,
   "metadata": {
    "collapsed": true
   },
   "outputs": [],
   "source": [
    "rf_app = pd.read_csv(\"finalOutputs/rf_app_wiDev.csv\",index_col=0)"
   ]
  },
  {
   "cell_type": "code",
   "execution_count": 122,
   "metadata": {
    "collapsed": false
   },
   "outputs": [
    {
     "data": {
      "text/html": [
       "<div>\n",
       "<table border=\"1\" class=\"dataframe\">\n",
       "  <thead>\n",
       "    <tr style=\"text-align: right;\">\n",
       "      <th></th>\n",
       "      <th>F23-</th>\n",
       "      <th>F24-26</th>\n",
       "      <th>F27-28</th>\n",
       "      <th>F29-32</th>\n",
       "      <th>F33-42</th>\n",
       "      <th>F43+</th>\n",
       "      <th>M22-</th>\n",
       "      <th>M23-26</th>\n",
       "      <th>M27-28</th>\n",
       "      <th>M29-31</th>\n",
       "      <th>M32-38</th>\n",
       "      <th>M39+</th>\n",
       "      <th>device_id</th>\n",
       "    </tr>\n",
       "  </thead>\n",
       "  <tbody>\n",
       "    <tr>\n",
       "      <th>0</th>\n",
       "      <td>0.127594</td>\n",
       "      <td>0.003034</td>\n",
       "      <td>0.025829</td>\n",
       "      <td>0.000000</td>\n",
       "      <td>0.003498</td>\n",
       "      <td>0.045531</td>\n",
       "      <td>0.123427</td>\n",
       "      <td>0.221113</td>\n",
       "      <td>0.000000</td>\n",
       "      <td>0.078544</td>\n",
       "      <td>0.284489</td>\n",
       "      <td>0.086943</td>\n",
       "      <td>1782450055857303792</td>\n",
       "    </tr>\n",
       "    <tr>\n",
       "      <th>1</th>\n",
       "      <td>0.001235</td>\n",
       "      <td>0.002963</td>\n",
       "      <td>0.000000</td>\n",
       "      <td>0.148148</td>\n",
       "      <td>0.001852</td>\n",
       "      <td>0.000000</td>\n",
       "      <td>0.000000</td>\n",
       "      <td>0.016287</td>\n",
       "      <td>0.506058</td>\n",
       "      <td>0.064559</td>\n",
       "      <td>0.095079</td>\n",
       "      <td>0.163818</td>\n",
       "      <td>8663743929678393765</td>\n",
       "    </tr>\n",
       "  </tbody>\n",
       "</table>\n",
       "</div>"
      ],
      "text/plain": [
       "       F23-    F24-26    F27-28    F29-32    F33-42      F43+      M22-  \\\n",
       "0  0.127594  0.003034  0.025829  0.000000  0.003498  0.045531  0.123427   \n",
       "1  0.001235  0.002963  0.000000  0.148148  0.001852  0.000000  0.000000   \n",
       "\n",
       "     M23-26    M27-28    M29-31    M32-38      M39+            device_id  \n",
       "0  0.221113  0.000000  0.078544  0.284489  0.086943  1782450055857303792  \n",
       "1  0.016287  0.506058  0.064559  0.095079  0.163818  8663743929678393765  "
      ]
     },
     "execution_count": 122,
     "metadata": {},
     "output_type": "execute_result"
    }
   ],
   "source": [
    "lr_evts.head(2)"
   ]
  },
  {
   "cell_type": "code",
   "execution_count": 123,
   "metadata": {
    "collapsed": false
   },
   "outputs": [
    {
     "data": {
      "text/html": [
       "<div>\n",
       "<table border=\"1\" class=\"dataframe\">\n",
       "  <thead>\n",
       "    <tr style=\"text-align: right;\">\n",
       "      <th></th>\n",
       "      <th>0</th>\n",
       "      <th>1</th>\n",
       "      <th>2</th>\n",
       "      <th>3</th>\n",
       "      <th>4</th>\n",
       "      <th>5</th>\n",
       "      <th>6</th>\n",
       "      <th>7</th>\n",
       "      <th>8</th>\n",
       "      <th>9</th>\n",
       "      <th>10</th>\n",
       "      <th>11</th>\n",
       "      <th>device_id</th>\n",
       "    </tr>\n",
       "  </thead>\n",
       "  <tbody>\n",
       "    <tr>\n",
       "      <th>0</th>\n",
       "      <td>0.123231</td>\n",
       "      <td>0.054065</td>\n",
       "      <td>0.207956</td>\n",
       "      <td>0.013802</td>\n",
       "      <td>0.061155</td>\n",
       "      <td>0.049369</td>\n",
       "      <td>0.013261</td>\n",
       "      <td>0.046864</td>\n",
       "      <td>0.048810</td>\n",
       "      <td>0.073646</td>\n",
       "      <td>0.153250</td>\n",
       "      <td>0.154591</td>\n",
       "      <td>-6401643145415154744</td>\n",
       "    </tr>\n",
       "    <tr>\n",
       "      <th>1</th>\n",
       "      <td>0.101103</td>\n",
       "      <td>0.057203</td>\n",
       "      <td>0.213778</td>\n",
       "      <td>0.019087</td>\n",
       "      <td>0.078609</td>\n",
       "      <td>0.054020</td>\n",
       "      <td>0.003164</td>\n",
       "      <td>0.043759</td>\n",
       "      <td>0.042807</td>\n",
       "      <td>0.087061</td>\n",
       "      <td>0.173818</td>\n",
       "      <td>0.125592</td>\n",
       "      <td>-6401643145415154744</td>\n",
       "    </tr>\n",
       "  </tbody>\n",
       "</table>\n",
       "</div>"
      ],
      "text/plain": [
       "          0         1         2         3         4         5         6  \\\n",
       "0  0.123231  0.054065  0.207956  0.013802  0.061155  0.049369  0.013261   \n",
       "1  0.101103  0.057203  0.213778  0.019087  0.078609  0.054020  0.003164   \n",
       "\n",
       "          7         8         9        10        11            device_id  \n",
       "0  0.046864  0.048810  0.073646  0.153250  0.154591 -6401643145415154744  \n",
       "1  0.043759  0.042807  0.087061  0.173818  0.125592 -6401643145415154744  "
      ]
     },
     "execution_count": 123,
     "metadata": {},
     "output_type": "execute_result"
    }
   ],
   "source": [
    "rf_app.head(2)"
   ]
  },
  {
   "cell_type": "code",
   "execution_count": 124,
   "metadata": {
    "collapsed": true
   },
   "outputs": [],
   "source": [
    "rf_app.columns = lr_evts.columns"
   ]
  },
  {
   "cell_type": "code",
   "execution_count": 126,
   "metadata": {
    "collapsed": false
   },
   "outputs": [
    {
     "data": {
      "text/html": [
       "<div>\n",
       "<table border=\"1\" class=\"dataframe\">\n",
       "  <thead>\n",
       "    <tr style=\"text-align: right;\">\n",
       "      <th></th>\n",
       "      <th>F23-</th>\n",
       "      <th>F24-26</th>\n",
       "      <th>F27-28</th>\n",
       "      <th>F29-32</th>\n",
       "      <th>F33-42</th>\n",
       "      <th>F43+</th>\n",
       "      <th>M22-</th>\n",
       "      <th>M23-26</th>\n",
       "      <th>M27-28</th>\n",
       "      <th>M29-31</th>\n",
       "      <th>M32-38</th>\n",
       "      <th>M39+</th>\n",
       "      <th>device_id</th>\n",
       "    </tr>\n",
       "  </thead>\n",
       "  <tbody>\n",
       "    <tr>\n",
       "      <th>0</th>\n",
       "      <td>0.123231</td>\n",
       "      <td>0.054065</td>\n",
       "      <td>0.207956</td>\n",
       "      <td>0.013802</td>\n",
       "      <td>0.061155</td>\n",
       "      <td>0.049369</td>\n",
       "      <td>0.013261</td>\n",
       "      <td>0.046864</td>\n",
       "      <td>0.048810</td>\n",
       "      <td>0.073646</td>\n",
       "      <td>0.153250</td>\n",
       "      <td>0.154591</td>\n",
       "      <td>-6401643145415154744</td>\n",
       "    </tr>\n",
       "    <tr>\n",
       "      <th>1</th>\n",
       "      <td>0.101103</td>\n",
       "      <td>0.057203</td>\n",
       "      <td>0.213778</td>\n",
       "      <td>0.019087</td>\n",
       "      <td>0.078609</td>\n",
       "      <td>0.054020</td>\n",
       "      <td>0.003164</td>\n",
       "      <td>0.043759</td>\n",
       "      <td>0.042807</td>\n",
       "      <td>0.087061</td>\n",
       "      <td>0.173818</td>\n",
       "      <td>0.125592</td>\n",
       "      <td>-6401643145415154744</td>\n",
       "    </tr>\n",
       "  </tbody>\n",
       "</table>\n",
       "</div>"
      ],
      "text/plain": [
       "       F23-    F24-26    F27-28    F29-32    F33-42      F43+      M22-  \\\n",
       "0  0.123231  0.054065  0.207956  0.013802  0.061155  0.049369  0.013261   \n",
       "1  0.101103  0.057203  0.213778  0.019087  0.078609  0.054020  0.003164   \n",
       "\n",
       "     M23-26    M27-28    M29-31    M32-38      M39+            device_id  \n",
       "0  0.046864  0.048810  0.073646  0.153250  0.154591 -6401643145415154744  \n",
       "1  0.043759  0.042807  0.087061  0.173818  0.125592 -6401643145415154744  "
      ]
     },
     "execution_count": 126,
     "metadata": {},
     "output_type": "execute_result"
    }
   ],
   "source": [
    "rf_app.head(2)"
   ]
  },
  {
   "cell_type": "code",
   "execution_count": 134,
   "metadata": {
    "collapsed": true
   },
   "outputs": [],
   "source": [
    "app_evts = pd.concat([averagePredictions(lr_evts)\n",
    "                      ,averagePredictions(rf_app)], ignore_index=True)\n",
    "#app_evts = pd.concat([evts_best,rf_app_best], ignore_index=True)"
   ]
  },
  {
   "cell_type": "code",
   "execution_count": 132,
   "metadata": {
    "collapsed": false
   },
   "outputs": [],
   "source": [
    "cols = list(app_evts.columns.values)\n",
    "\n",
    "cols = cols[-1:]+cols[:-1]\n",
    "\n",
    "app_evts = app_evts[cols]"
   ]
  },
  {
   "cell_type": "code",
   "execution_count": 135,
   "metadata": {
    "collapsed": false
   },
   "outputs": [
    {
     "data": {
      "text/html": [
       "<div>\n",
       "<table border=\"1\" class=\"dataframe\">\n",
       "  <thead>\n",
       "    <tr style=\"text-align: right;\">\n",
       "      <th></th>\n",
       "      <th>device_id</th>\n",
       "      <th>F23-</th>\n",
       "      <th>F24-26</th>\n",
       "      <th>F27-28</th>\n",
       "      <th>F29-32</th>\n",
       "      <th>F33-42</th>\n",
       "      <th>F43+</th>\n",
       "      <th>M22-</th>\n",
       "      <th>M23-26</th>\n",
       "      <th>M27-28</th>\n",
       "      <th>M29-31</th>\n",
       "      <th>M32-38</th>\n",
       "      <th>M39+</th>\n",
       "    </tr>\n",
       "  </thead>\n",
       "  <tbody>\n",
       "    <tr>\n",
       "      <th>0</th>\n",
       "      <td>1782450055857303792</td>\n",
       "      <td>0.045851</td>\n",
       "      <td>0.002798</td>\n",
       "      <td>0.061008</td>\n",
       "      <td>0.028902</td>\n",
       "      <td>0.009916</td>\n",
       "      <td>0.017832</td>\n",
       "      <td>0.250806</td>\n",
       "      <td>0.181484</td>\n",
       "      <td>0.071845</td>\n",
       "      <td>0.068555</td>\n",
       "      <td>0.192536</td>\n",
       "      <td>0.068465</td>\n",
       "    </tr>\n",
       "    <tr>\n",
       "      <th>1</th>\n",
       "      <td>8663743929678393765</td>\n",
       "      <td>0.003590</td>\n",
       "      <td>0.001498</td>\n",
       "      <td>0.000833</td>\n",
       "      <td>0.453155</td>\n",
       "      <td>0.020875</td>\n",
       "      <td>0.010050</td>\n",
       "      <td>0.014172</td>\n",
       "      <td>0.006238</td>\n",
       "      <td>0.210674</td>\n",
       "      <td>0.039022</td>\n",
       "      <td>0.056757</td>\n",
       "      <td>0.183135</td>\n",
       "    </tr>\n",
       "  </tbody>\n",
       "</table>\n",
       "</div>"
      ],
      "text/plain": [
       "             device_id      F23-    F24-26    F27-28    F29-32    F33-42  \\\n",
       "0  1782450055857303792  0.045851  0.002798  0.061008  0.028902  0.009916   \n",
       "1  8663743929678393765  0.003590  0.001498  0.000833  0.453155  0.020875   \n",
       "\n",
       "       F43+      M22-    M23-26    M27-28    M29-31    M32-38      M39+  \n",
       "0  0.017832  0.250806  0.181484  0.071845  0.068555  0.192536  0.068465  \n",
       "1  0.010050  0.014172  0.006238  0.210674  0.039022  0.056757  0.183135  "
      ]
     },
     "execution_count": 135,
     "metadata": {},
     "output_type": "execute_result"
    }
   ],
   "source": [
    "app_evts.head(2)"
   ]
  },
  {
   "cell_type": "markdown",
   "metadata": {},
   "source": [
    "# `preamble` notebook defines best prediction function"
   ]
  },
  {
   "cell_type": "code",
   "execution_count": 6,
   "metadata": {
    "collapsed": false
   },
   "outputs": [
    {
     "name": "stdout",
     "output_type": "stream",
     "text": [
      "Help on function getBestPrediction in module __main__:\n",
      "\n",
      "getBestPrediction(data, var)\n",
      "    Function that returns data set with \n",
      "    unique `var` entries that satisfy:\n",
      "    highest prediction probability for \n",
      "    the class with highest mean prediction.\n",
      "    \n",
      "    Arguments:\n",
      "    data  - (pd.DataFrame) The dataset to work with\n",
      "    var   - (str) Feature to find uniques\n",
      "\n"
     ]
    }
   ],
   "source": [
    "help(getBestPrediction)"
   ]
  },
  {
   "cell_type": "code",
   "execution_count": 130,
   "metadata": {
    "collapsed": true
   },
   "outputs": [],
   "source": [
    "app_evts_av = averagePredictions(app_evts)"
   ]
  },
  {
   "cell_type": "code",
   "execution_count": 137,
   "metadata": {
    "collapsed": false
   },
   "outputs": [
    {
     "name": "stdout",
     "output_type": "stream",
     "text": [
      "3001 / 35194  groups processed...\n",
      "6001 / 35194  groups processed...\n",
      "9001 / 35194  groups processed...\n",
      "12001 / 35194  groups processed...\n",
      "15001 / 35194  groups processed...\n",
      "18001 / 35194  groups processed...\n",
      "21001 / 35194  groups processed...\n",
      "24001 / 35194  groups processed...\n",
      "27001 / 35194  groups processed...\n",
      "30001 / 35194  groups processed...\n",
      "33001 / 35194  groups processed...\n"
     ]
    }
   ],
   "source": [
    "app_evts_unique = getBestPrediction(app_evts, \"device_id\")"
   ]
  },
  {
   "cell_type": "code",
   "execution_count": 99,
   "metadata": {
    "collapsed": false
   },
   "outputs": [],
   "source": [
    "rf_app_best.columns = evts_best.columns"
   ]
  },
  {
   "cell_type": "code",
   "execution_count": 105,
   "metadata": {
    "collapsed": false
   },
   "outputs": [],
   "source": [
    "res_av= pd.concat([lr_ga,app_evts_av], ignore_index=True)"
   ]
  },
  {
   "cell_type": "code",
   "execution_count": 138,
   "metadata": {
    "collapsed": true
   },
   "outputs": [],
   "source": [
    "res_unique = pd.concat([lr_ga,app_evts_unique], ignore_index=True)"
   ]
  },
  {
   "cell_type": "code",
   "execution_count": 139,
   "metadata": {
    "collapsed": true
   },
   "outputs": [],
   "source": [
    "res_unique.to_csv(\"predictions/LRplusRFplusRF_BestAverageSolution.csv\", index=False)"
   ]
  },
  {
   "cell_type": "markdown",
   "metadata": {},
   "source": [
    "## Does the scoring on Kaggle depend on correct device id ordering?\n",
    "\n",
    "No, it does not!"
   ]
  },
  {
   "cell_type": "code",
   "execution_count": 107,
   "metadata": {
    "collapsed": false
   },
   "outputs": [
    {
     "data": {
      "text/html": [
       "<div>\n",
       "<table border=\"1\" class=\"dataframe\">\n",
       "  <thead>\n",
       "    <tr style=\"text-align: right;\">\n",
       "      <th></th>\n",
       "      <th>device_id</th>\n",
       "      <th>F23-</th>\n",
       "      <th>F24-26</th>\n",
       "      <th>F27-28</th>\n",
       "      <th>F29-32</th>\n",
       "      <th>F33-42</th>\n",
       "      <th>F43+</th>\n",
       "      <th>M22-</th>\n",
       "      <th>M23-26</th>\n",
       "      <th>M27-28</th>\n",
       "      <th>M29-31</th>\n",
       "      <th>M32-38</th>\n",
       "      <th>M39+</th>\n",
       "    </tr>\n",
       "  </thead>\n",
       "  <tbody>\n",
       "    <tr>\n",
       "      <th>0</th>\n",
       "      <td>-5893464122623104785</td>\n",
       "      <td>0.019937</td>\n",
       "      <td>0.099686</td>\n",
       "      <td>0.050342</td>\n",
       "      <td>0.06117</td>\n",
       "      <td>0.048084</td>\n",
       "      <td>0.03401</td>\n",
       "      <td>0.069194</td>\n",
       "      <td>0.15246</td>\n",
       "      <td>0.117277</td>\n",
       "      <td>0.103204</td>\n",
       "      <td>0.15246</td>\n",
       "      <td>0.092176</td>\n",
       "    </tr>\n",
       "    <tr>\n",
       "      <th>1</th>\n",
       "      <td>-7560708697029818408</td>\n",
       "      <td>0.019937</td>\n",
       "      <td>0.099686</td>\n",
       "      <td>0.050342</td>\n",
       "      <td>0.06117</td>\n",
       "      <td>0.048084</td>\n",
       "      <td>0.03401</td>\n",
       "      <td>0.069194</td>\n",
       "      <td>0.15246</td>\n",
       "      <td>0.117277</td>\n",
       "      <td>0.103204</td>\n",
       "      <td>0.15246</td>\n",
       "      <td>0.092176</td>\n",
       "    </tr>\n",
       "  </tbody>\n",
       "</table>\n",
       "</div>"
      ],
      "text/plain": [
       "             device_id      F23-    F24-26    F27-28   F29-32    F33-42  \\\n",
       "0 -5893464122623104785  0.019937  0.099686  0.050342  0.06117  0.048084   \n",
       "1 -7560708697029818408  0.019937  0.099686  0.050342  0.06117  0.048084   \n",
       "\n",
       "      F43+      M22-   M23-26    M27-28    M29-31   M32-38      M39+  \n",
       "0  0.03401  0.069194  0.15246  0.117277  0.103204  0.15246  0.092176  \n",
       "1  0.03401  0.069194  0.15246  0.117277  0.103204  0.15246  0.092176  "
      ]
     },
     "execution_count": 107,
     "metadata": {},
     "output_type": "execute_result"
    }
   ],
   "source": [
    "res_unique.head(2)"
   ]
  },
  {
   "cell_type": "code",
   "execution_count": 108,
   "metadata": {
    "collapsed": true
   },
   "outputs": [],
   "source": [
    "ga_test = pd.read_csv(\"files/gender_age_test.csv\",usecols=[\"device_id\"])"
   ]
  },
  {
   "cell_type": "code",
   "execution_count": 115,
   "metadata": {
    "collapsed": false
   },
   "outputs": [
    {
     "data": {
      "text/html": [
       "<div>\n",
       "<table border=\"1\" class=\"dataframe\">\n",
       "  <thead>\n",
       "    <tr style=\"text-align: right;\">\n",
       "      <th></th>\n",
       "      <th>device_id</th>\n",
       "    </tr>\n",
       "  </thead>\n",
       "  <tbody>\n",
       "    <tr>\n",
       "      <th>0</th>\n",
       "      <td>1002079943728939269</td>\n",
       "    </tr>\n",
       "    <tr>\n",
       "      <th>1</th>\n",
       "      <td>-1547860181818787117</td>\n",
       "    </tr>\n",
       "    <tr>\n",
       "      <th>2</th>\n",
       "      <td>7374582448058474277</td>\n",
       "    </tr>\n",
       "    <tr>\n",
       "      <th>3</th>\n",
       "      <td>-6220210354783429585</td>\n",
       "    </tr>\n",
       "    <tr>\n",
       "      <th>4</th>\n",
       "      <td>-5893464122623104785</td>\n",
       "    </tr>\n",
       "    <tr>\n",
       "      <th>5</th>\n",
       "      <td>-7560708697029818408</td>\n",
       "    </tr>\n",
       "  </tbody>\n",
       "</table>\n",
       "</div>"
      ],
      "text/plain": [
       "             device_id\n",
       "0  1002079943728939269\n",
       "1 -1547860181818787117\n",
       "2  7374582448058474277\n",
       "3 -6220210354783429585\n",
       "4 -5893464122623104785\n",
       "5 -7560708697029818408"
      ]
     },
     "execution_count": 115,
     "metadata": {},
     "output_type": "execute_result"
    }
   ],
   "source": [
    "ga_test.head(6)"
   ]
  },
  {
   "cell_type": "code",
   "execution_count": 113,
   "metadata": {
    "collapsed": false
   },
   "outputs": [],
   "source": [
    "sort_av = ga_test.merge(res_av, on=\"device_id\", how=\"left\")"
   ]
  },
  {
   "cell_type": "code",
   "execution_count": 117,
   "metadata": {
    "collapsed": false,
    "scrolled": true
   },
   "outputs": [],
   "source": [
    "sort_av.to_csv(\"predictions/sortedLRLRRF_average.csv\",index=False)"
   ]
  }
 ],
 "metadata": {
  "anaconda-cloud": {},
  "kernelspec": {
   "display_name": "Python [conda env:jupnote]",
   "language": "python",
   "name": "conda-env-jupnote-py"
  },
  "language_info": {
   "codemirror_mode": {
    "name": "ipython",
    "version": 3
   },
   "file_extension": ".py",
   "mimetype": "text/x-python",
   "name": "python",
   "nbconvert_exporter": "python",
   "pygments_lexer": "ipython3",
   "version": "3.5.2"
  }
 },
 "nbformat": 4,
 "nbformat_minor": 0
}
