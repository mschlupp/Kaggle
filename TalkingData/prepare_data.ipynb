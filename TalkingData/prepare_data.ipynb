{
 "cells": [
  {
   "cell_type": "markdown",
   "metadata": {},
   "source": [
    "# ToDo:\n",
    "- merge app_info with labels.\n",
    "- merge app_info with events info, drop dublicates.\n",
    "- write device_id to app data\n",
    "\n",
    "done in here."
   ]
  },
  {
   "cell_type": "code",
   "execution_count": 1,
   "metadata": {
    "collapsed": false
   },
   "outputs": [
    {
     "name": "stdout",
     "output_type": "stream",
     "text": [
      "The preamble handles a few imports and defines the following functions:\n",
      "\n",
      "printLoss(y_tr,p_tr,y_te,p_te,loss=log_loss)\n",
      "createDataSet(predictions, group_encoder, device_ids)\n",
      "getBestPrediction(data,var='device_id')\n"
     ]
    }
   ],
   "source": [
    "%run preamble.ipynb"
   ]
  },
  {
   "cell_type": "markdown",
   "metadata": {},
   "source": [
    "\n",
    "# Merge `app_info` with `labels`"
   ]
  },
  {
   "cell_type": "code",
   "execution_count": 2,
   "metadata": {
    "collapsed": false
   },
   "outputs": [],
   "source": [
    "unique = pd.read_csv(\"files/app_unique_info.csv\")"
   ]
  },
  {
   "cell_type": "code",
   "execution_count": 6,
   "metadata": {
    "collapsed": false
   },
   "outputs": [],
   "source": [
    "app_info = pd.read_csv(\"files/finalSets/apps.csv\"\n",
    "                       , usecols=[\"event_id\",\"app_id\",\"is_active\"]) # has only active apps"
   ]
  },
  {
   "cell_type": "code",
   "execution_count": 7,
   "metadata": {
    "collapsed": false
   },
   "outputs": [
    {
     "data": {
      "text/html": [
       "<div>\n",
       "<table border=\"1\" class=\"dataframe\">\n",
       "  <thead>\n",
       "    <tr style=\"text-align: right;\">\n",
       "      <th></th>\n",
       "      <th>event_id</th>\n",
       "      <th>app_id</th>\n",
       "      <th>is_active</th>\n",
       "    </tr>\n",
       "  </thead>\n",
       "  <tbody>\n",
       "    <tr>\n",
       "      <th>0</th>\n",
       "      <td>2</td>\n",
       "      <td>5927333115845830913</td>\n",
       "      <td>1</td>\n",
       "    </tr>\n",
       "    <tr>\n",
       "      <th>1</th>\n",
       "      <td>2</td>\n",
       "      <td>-5720078949152207372</td>\n",
       "      <td>0</td>\n",
       "    </tr>\n",
       "  </tbody>\n",
       "</table>\n",
       "</div>"
      ],
      "text/plain": [
       "   event_id               app_id  is_active\n",
       "0         2  5927333115845830913          1\n",
       "1         2 -5720078949152207372          0"
      ]
     },
     "execution_count": 7,
     "metadata": {},
     "output_type": "execute_result"
    }
   ],
   "source": [
    "app_info.head(2)"
   ]
  },
  {
   "cell_type": "code",
   "execution_count": 10,
   "metadata": {
    "collapsed": false
   },
   "outputs": [
    {
     "data": {
      "text/plain": [
       "False    31800268\n",
       "dtype: int64"
      ]
     },
     "execution_count": 10,
     "metadata": {},
     "output_type": "execute_result"
    }
   ],
   "source": [
    "app_info.duplicated().value_counts()"
   ]
  },
  {
   "cell_type": "code",
   "execution_count": 11,
   "metadata": {
    "collapsed": false
   },
   "outputs": [],
   "source": [
    "app_info = app_info.merge(unique, on=\"app_id\", how=\"left\")"
   ]
  },
  {
   "cell_type": "code",
   "execution_count": 12,
   "metadata": {
    "collapsed": false
   },
   "outputs": [
    {
     "data": {
      "text/html": [
       "<div>\n",
       "<table border=\"1\" class=\"dataframe\">\n",
       "  <thead>\n",
       "    <tr style=\"text-align: right;\">\n",
       "      <th></th>\n",
       "      <th>event_id</th>\n",
       "      <th>app_id</th>\n",
       "      <th>is_active</th>\n",
       "      <th>nCats</th>\n",
       "      <th>UniqueLabel</th>\n",
       "    </tr>\n",
       "  </thead>\n",
       "  <tbody>\n",
       "    <tr>\n",
       "      <th>0</th>\n",
       "      <td>2</td>\n",
       "      <td>5927333115845830913</td>\n",
       "      <td>1</td>\n",
       "      <td>4.0</td>\n",
       "      <td>cat_Family</td>\n",
       "    </tr>\n",
       "    <tr>\n",
       "      <th>1</th>\n",
       "      <td>2</td>\n",
       "      <td>-5720078949152207372</td>\n",
       "      <td>0</td>\n",
       "      <td>4.0</td>\n",
       "      <td>cat_Productivity</td>\n",
       "    </tr>\n",
       "  </tbody>\n",
       "</table>\n",
       "</div>"
      ],
      "text/plain": [
       "   event_id               app_id  is_active  nCats       UniqueLabel\n",
       "0         2  5927333115845830913          1    4.0        cat_Family\n",
       "1         2 -5720078949152207372          0    4.0  cat_Productivity"
      ]
     },
     "execution_count": 12,
     "metadata": {},
     "output_type": "execute_result"
    }
   ],
   "source": [
    "app_info.head(2)"
   ]
  },
  {
   "cell_type": "code",
   "execution_count": 13,
   "metadata": {
    "collapsed": true
   },
   "outputs": [],
   "source": [
    "app_info.to_csv(\"files/finalSets/apps_wiCats.csv\", index=False)"
   ]
  },
  {
   "cell_type": "markdown",
   "metadata": {},
   "source": [
    "# Merge `app_info` with `evts_hasApp` data"
   ]
  },
  {
   "cell_type": "code",
   "execution_count": 14,
   "metadata": {
    "collapsed": true
   },
   "outputs": [],
   "source": [
    "evts_hasApp = pd.read_csv(\"files/finalSets/evts_withApp_ActInst.csv\",index_col=0)"
   ]
  },
  {
   "cell_type": "code",
   "execution_count": 16,
   "metadata": {
    "collapsed": true
   },
   "outputs": [],
   "source": [
    "gtr=pd.read_csv(\"files/gender_age_train.csv\", usecols=[\"device_id\"])\n",
    "gte=pd.read_csv(\"files/gender_age_test.csv\", usecols=[\"device_id\"])"
   ]
  },
  {
   "cell_type": "code",
   "execution_count": 21,
   "metadata": {
    "collapsed": false
   },
   "outputs": [
    {
     "data": {
      "text/plain": [
       "False    889770\n",
       "True     556375\n",
       "Name: device_id, dtype: int64"
      ]
     },
     "execution_count": 21,
     "metadata": {},
     "output_type": "execute_result"
    }
   ],
   "source": [
    "evts_hasApp.device_id.isin(gtr.device_id).value_counts()"
   ]
  },
  {
   "cell_type": "code",
   "execution_count": 22,
   "metadata": {
    "collapsed": false
   },
   "outputs": [
    {
     "data": {
      "text/plain": [
       "True     889770\n",
       "False    556375\n",
       "Name: device_id, dtype: int64"
      ]
     },
     "execution_count": 22,
     "metadata": {},
     "output_type": "execute_result"
    }
   ],
   "source": [
    "evts_hasApp.device_id.isin(gte.device_id).value_counts()"
   ]
  },
  {
   "cell_type": "code",
   "execution_count": 25,
   "metadata": {
    "collapsed": false
   },
   "outputs": [
    {
     "name": "stdout",
     "output_type": "stream",
     "text": [
      "len uniques ids: d1 58462  d2:  58462\n",
      "sum:  116924\n",
      "\n",
      "intersection of d1 and d2:  58462\n",
      "\n",
      "Unique train in d1 and d2:  23290\n",
      "Unique test in d1 and d2:  35172\n",
      "\n",
      "intersec of train ids in both sets:  23290\n",
      "intersec of test ids in both sets:  35172\n"
     ]
    }
   ],
   "source": [
    "consistent(evts_hasApp,evts_hasApp,gtr.device_id, gte.device_id)"
   ]
  },
  {
   "cell_type": "code",
   "execution_count": 15,
   "metadata": {
    "collapsed": false
   },
   "outputs": [
    {
     "data": {
      "text/plain": [
       "True    31800268\n",
       "Name: event_id, dtype: int64"
      ]
     },
     "execution_count": 15,
     "metadata": {},
     "output_type": "execute_result"
    }
   ],
   "source": [
    "app_info.event_id.isin(evts_hasApp.event_id.unique()).value_counts()"
   ]
  },
  {
   "cell_type": "code",
   "execution_count": 26,
   "metadata": {
    "collapsed": false
   },
   "outputs": [
    {
     "data": {
      "text/html": [
       "<div>\n",
       "<table border=\"1\" class=\"dataframe\">\n",
       "  <thead>\n",
       "    <tr style=\"text-align: right;\">\n",
       "      <th></th>\n",
       "      <th>event_id</th>\n",
       "      <th>device_id</th>\n",
       "      <th>longitude</th>\n",
       "      <th>latitude</th>\n",
       "      <th>day</th>\n",
       "      <th>time</th>\n",
       "      <th>hour</th>\n",
       "      <th>usageDay</th>\n",
       "      <th>isTrain</th>\n",
       "      <th>group</th>\n",
       "      <th>nActiveApps</th>\n",
       "      <th>nInstallApps</th>\n",
       "    </tr>\n",
       "  </thead>\n",
       "  <tbody>\n",
       "    <tr>\n",
       "      <th>0</th>\n",
       "      <td>2</td>\n",
       "      <td>-6401643145415154744</td>\n",
       "      <td>103.65</td>\n",
       "      <td>30.97</td>\n",
       "      <td>Sun</td>\n",
       "      <td>00:54:12</td>\n",
       "      <td>0</td>\n",
       "      <td>3</td>\n",
       "      <td>0</td>\n",
       "      <td>none</td>\n",
       "      <td>6</td>\n",
       "      <td>19</td>\n",
       "    </tr>\n",
       "    <tr>\n",
       "      <th>1</th>\n",
       "      <td>6</td>\n",
       "      <td>1476664663289716375</td>\n",
       "      <td>0.00</td>\n",
       "      <td>0.00</td>\n",
       "      <td>Sun</td>\n",
       "      <td>00:27:21</td>\n",
       "      <td>0</td>\n",
       "      <td>3</td>\n",
       "      <td>1</td>\n",
       "      <td>M22-</td>\n",
       "      <td>15</td>\n",
       "      <td>38</td>\n",
       "    </tr>\n",
       "  </tbody>\n",
       "</table>\n",
       "</div>"
      ],
      "text/plain": [
       "   event_id            device_id  longitude  latitude  day      time  hour  \\\n",
       "0         2 -6401643145415154744     103.65     30.97  Sun  00:54:12     0   \n",
       "1         6  1476664663289716375       0.00      0.00  Sun  00:27:21     0   \n",
       "\n",
       "   usageDay  isTrain group  nActiveApps  nInstallApps  \n",
       "0         3        0  none            6            19  \n",
       "1         3        1  M22-           15            38  "
      ]
     },
     "execution_count": 26,
     "metadata": {},
     "output_type": "execute_result"
    }
   ],
   "source": [
    "evts_hasApp.head(2)"
   ]
  },
  {
   "cell_type": "code",
   "execution_count": 27,
   "metadata": {
    "collapsed": true
   },
   "outputs": [],
   "source": [
    "evts_hasApp = evts_hasApp.drop([\"day\", \"time\",\"latitude\",\"longitude\"], axis=1)"
   ]
  },
  {
   "cell_type": "code",
   "execution_count": 29,
   "metadata": {
    "collapsed": true
   },
   "outputs": [],
   "source": [
    "app_info = app_info.merge(evts_hasApp, on=\"event_id\", how=\"left\")"
   ]
  },
  {
   "cell_type": "code",
   "execution_count": 30,
   "metadata": {
    "collapsed": false
   },
   "outputs": [
    {
     "data": {
      "text/html": [
       "<div>\n",
       "<table border=\"1\" class=\"dataframe\">\n",
       "  <thead>\n",
       "    <tr style=\"text-align: right;\">\n",
       "      <th></th>\n",
       "      <th>event_id</th>\n",
       "      <th>app_id</th>\n",
       "      <th>is_active</th>\n",
       "      <th>nCats</th>\n",
       "      <th>UniqueLabel</th>\n",
       "      <th>device_id</th>\n",
       "      <th>hour</th>\n",
       "      <th>usageDay</th>\n",
       "      <th>isTrain</th>\n",
       "      <th>group</th>\n",
       "      <th>nActiveApps</th>\n",
       "      <th>nInstallApps</th>\n",
       "    </tr>\n",
       "  </thead>\n",
       "  <tbody>\n",
       "    <tr>\n",
       "      <th>0</th>\n",
       "      <td>2</td>\n",
       "      <td>5927333115845830913</td>\n",
       "      <td>1</td>\n",
       "      <td>4.0</td>\n",
       "      <td>cat_Family</td>\n",
       "      <td>-6401643145415154744</td>\n",
       "      <td>0</td>\n",
       "      <td>3</td>\n",
       "      <td>0</td>\n",
       "      <td>none</td>\n",
       "      <td>6</td>\n",
       "      <td>19</td>\n",
       "    </tr>\n",
       "    <tr>\n",
       "      <th>1</th>\n",
       "      <td>2</td>\n",
       "      <td>-5720078949152207372</td>\n",
       "      <td>0</td>\n",
       "      <td>4.0</td>\n",
       "      <td>cat_Productivity</td>\n",
       "      <td>-6401643145415154744</td>\n",
       "      <td>0</td>\n",
       "      <td>3</td>\n",
       "      <td>0</td>\n",
       "      <td>none</td>\n",
       "      <td>6</td>\n",
       "      <td>19</td>\n",
       "    </tr>\n",
       "    <tr>\n",
       "      <th>2</th>\n",
       "      <td>2</td>\n",
       "      <td>-1633887856876571208</td>\n",
       "      <td>0</td>\n",
       "      <td>5.0</td>\n",
       "      <td>cat_Education</td>\n",
       "      <td>-6401643145415154744</td>\n",
       "      <td>0</td>\n",
       "      <td>3</td>\n",
       "      <td>0</td>\n",
       "      <td>none</td>\n",
       "      <td>6</td>\n",
       "      <td>19</td>\n",
       "    </tr>\n",
       "    <tr>\n",
       "      <th>3</th>\n",
       "      <td>2</td>\n",
       "      <td>-653184325010919369</td>\n",
       "      <td>1</td>\n",
       "      <td>3.0</td>\n",
       "      <td>cat_Esoteric</td>\n",
       "      <td>-6401643145415154744</td>\n",
       "      <td>0</td>\n",
       "      <td>3</td>\n",
       "      <td>0</td>\n",
       "      <td>none</td>\n",
       "      <td>6</td>\n",
       "      <td>19</td>\n",
       "    </tr>\n",
       "    <tr>\n",
       "      <th>4</th>\n",
       "      <td>2</td>\n",
       "      <td>8693964245073640147</td>\n",
       "      <td>1</td>\n",
       "      <td>4.0</td>\n",
       "      <td>cat_Family</td>\n",
       "      <td>-6401643145415154744</td>\n",
       "      <td>0</td>\n",
       "      <td>3</td>\n",
       "      <td>0</td>\n",
       "      <td>none</td>\n",
       "      <td>6</td>\n",
       "      <td>19</td>\n",
       "    </tr>\n",
       "    <tr>\n",
       "      <th>5</th>\n",
       "      <td>2</td>\n",
       "      <td>4775896950989639373</td>\n",
       "      <td>1</td>\n",
       "      <td>7.0</td>\n",
       "      <td>cat_Game_Skill</td>\n",
       "      <td>-6401643145415154744</td>\n",
       "      <td>0</td>\n",
       "      <td>3</td>\n",
       "      <td>0</td>\n",
       "      <td>none</td>\n",
       "      <td>6</td>\n",
       "      <td>19</td>\n",
       "    </tr>\n",
       "    <tr>\n",
       "      <th>6</th>\n",
       "      <td>2</td>\n",
       "      <td>-8022267440849930066</td>\n",
       "      <td>0</td>\n",
       "      <td>6.0</td>\n",
       "      <td>cat_Game_Skill</td>\n",
       "      <td>-6401643145415154744</td>\n",
       "      <td>0</td>\n",
       "      <td>3</td>\n",
       "      <td>0</td>\n",
       "      <td>none</td>\n",
       "      <td>6</td>\n",
       "      <td>19</td>\n",
       "    </tr>\n",
       "    <tr>\n",
       "      <th>7</th>\n",
       "      <td>2</td>\n",
       "      <td>9112463267739110219</td>\n",
       "      <td>0</td>\n",
       "      <td>4.0</td>\n",
       "      <td>cat_Shopping</td>\n",
       "      <td>-6401643145415154744</td>\n",
       "      <td>0</td>\n",
       "      <td>3</td>\n",
       "      <td>0</td>\n",
       "      <td>none</td>\n",
       "      <td>6</td>\n",
       "      <td>19</td>\n",
       "    </tr>\n",
       "    <tr>\n",
       "      <th>8</th>\n",
       "      <td>2</td>\n",
       "      <td>-3725672010020973973</td>\n",
       "      <td>0</td>\n",
       "      <td>1.0</td>\n",
       "      <td>cat_Game_Sports</td>\n",
       "      <td>-6401643145415154744</td>\n",
       "      <td>0</td>\n",
       "      <td>3</td>\n",
       "      <td>0</td>\n",
       "      <td>none</td>\n",
       "      <td>6</td>\n",
       "      <td>19</td>\n",
       "    </tr>\n",
       "    <tr>\n",
       "      <th>9</th>\n",
       "      <td>2</td>\n",
       "      <td>7167114343576723123</td>\n",
       "      <td>1</td>\n",
       "      <td>8.0</td>\n",
       "      <td>cat_Other</td>\n",
       "      <td>-6401643145415154744</td>\n",
       "      <td>0</td>\n",
       "      <td>3</td>\n",
       "      <td>0</td>\n",
       "      <td>none</td>\n",
       "      <td>6</td>\n",
       "      <td>19</td>\n",
       "    </tr>\n",
       "  </tbody>\n",
       "</table>\n",
       "</div>"
      ],
      "text/plain": [
       "   event_id               app_id  is_active  nCats       UniqueLabel  \\\n",
       "0         2  5927333115845830913          1    4.0        cat_Family   \n",
       "1         2 -5720078949152207372          0    4.0  cat_Productivity   \n",
       "2         2 -1633887856876571208          0    5.0     cat_Education   \n",
       "3         2  -653184325010919369          1    3.0      cat_Esoteric   \n",
       "4         2  8693964245073640147          1    4.0        cat_Family   \n",
       "5         2  4775896950989639373          1    7.0    cat_Game_Skill   \n",
       "6         2 -8022267440849930066          0    6.0    cat_Game_Skill   \n",
       "7         2  9112463267739110219          0    4.0      cat_Shopping   \n",
       "8         2 -3725672010020973973          0    1.0   cat_Game_Sports   \n",
       "9         2  7167114343576723123          1    8.0         cat_Other   \n",
       "\n",
       "             device_id  hour  usageDay  isTrain group  nActiveApps  \\\n",
       "0 -6401643145415154744     0         3        0  none            6   \n",
       "1 -6401643145415154744     0         3        0  none            6   \n",
       "2 -6401643145415154744     0         3        0  none            6   \n",
       "3 -6401643145415154744     0         3        0  none            6   \n",
       "4 -6401643145415154744     0         3        0  none            6   \n",
       "5 -6401643145415154744     0         3        0  none            6   \n",
       "6 -6401643145415154744     0         3        0  none            6   \n",
       "7 -6401643145415154744     0         3        0  none            6   \n",
       "8 -6401643145415154744     0         3        0  none            6   \n",
       "9 -6401643145415154744     0         3        0  none            6   \n",
       "\n",
       "   nInstallApps  \n",
       "0            19  \n",
       "1            19  \n",
       "2            19  \n",
       "3            19  \n",
       "4            19  \n",
       "5            19  \n",
       "6            19  \n",
       "7            19  \n",
       "8            19  \n",
       "9            19  "
      ]
     },
     "execution_count": 30,
     "metadata": {},
     "output_type": "execute_result"
    }
   ],
   "source": [
    "app_info.head(10)"
   ]
  },
  {
   "cell_type": "code",
   "execution_count": 20,
   "metadata": {
    "collapsed": true
   },
   "outputs": [],
   "source": [
    "app_info.to_csv(\"files/finalSets/apps_wiEvts.csv\", index=False)"
   ]
  },
  {
   "cell_type": "markdown",
   "metadata": {},
   "source": [
    "# Merge `app_info` with `device` info"
   ]
  },
  {
   "cell_type": "code",
   "execution_count": 2,
   "metadata": {
    "collapsed": false
   },
   "outputs": [],
   "source": [
    "app_info = pd.read_csv(\"files/finalSets/apps_wiEvts.csv\")"
   ]
  },
  {
   "cell_type": "code",
   "execution_count": 3,
   "metadata": {
    "collapsed": false
   },
   "outputs": [
    {
     "data": {
      "text/html": [
       "<div>\n",
       "<table border=\"1\" class=\"dataframe\">\n",
       "  <thead>\n",
       "    <tr style=\"text-align: right;\">\n",
       "      <th></th>\n",
       "      <th>event_id</th>\n",
       "      <th>app_id</th>\n",
       "      <th>nCats</th>\n",
       "      <th>UniqueLabel</th>\n",
       "      <th>device_id</th>\n",
       "      <th>longitude</th>\n",
       "      <th>latitude</th>\n",
       "      <th>hour</th>\n",
       "      <th>usageDay</th>\n",
       "      <th>isTrain</th>\n",
       "      <th>group</th>\n",
       "      <th>nActiveApps</th>\n",
       "      <th>nInstallApps</th>\n",
       "    </tr>\n",
       "  </thead>\n",
       "  <tbody>\n",
       "    <tr>\n",
       "      <th>0</th>\n",
       "      <td>2</td>\n",
       "      <td>5927333115845830913</td>\n",
       "      <td>4</td>\n",
       "      <td>cat_Family</td>\n",
       "      <td>-6401643145415154744</td>\n",
       "      <td>103.65</td>\n",
       "      <td>30.97</td>\n",
       "      <td>0</td>\n",
       "      <td>3</td>\n",
       "      <td>0</td>\n",
       "      <td>none</td>\n",
       "      <td>6</td>\n",
       "      <td>19</td>\n",
       "    </tr>\n",
       "    <tr>\n",
       "      <th>1</th>\n",
       "      <td>2</td>\n",
       "      <td>-653184325010919369</td>\n",
       "      <td>3</td>\n",
       "      <td>cat_Esoteric</td>\n",
       "      <td>-6401643145415154744</td>\n",
       "      <td>103.65</td>\n",
       "      <td>30.97</td>\n",
       "      <td>0</td>\n",
       "      <td>3</td>\n",
       "      <td>0</td>\n",
       "      <td>none</td>\n",
       "      <td>6</td>\n",
       "      <td>19</td>\n",
       "    </tr>\n",
       "  </tbody>\n",
       "</table>\n",
       "</div>"
      ],
      "text/plain": [
       "   event_id               app_id  nCats   UniqueLabel            device_id  \\\n",
       "0         2  5927333115845830913      4    cat_Family -6401643145415154744   \n",
       "1         2  -653184325010919369      3  cat_Esoteric -6401643145415154744   \n",
       "\n",
       "   longitude  latitude  hour  usageDay  isTrain group  nActiveApps  \\\n",
       "0     103.65     30.97     0         3        0  none            6   \n",
       "1     103.65     30.97     0         3        0  none            6   \n",
       "\n",
       "   nInstallApps  \n",
       "0            19  \n",
       "1            19  "
      ]
     },
     "execution_count": 3,
     "metadata": {},
     "output_type": "execute_result"
    }
   ],
   "source": [
    "app_info.head(2)"
   ]
  },
  {
   "cell_type": "code",
   "execution_count": 32,
   "metadata": {
    "collapsed": false
   },
   "outputs": [],
   "source": [
    "device_info = pd.read_csv(\"files/ga_hasEvts.csv\",usecols=[\"device_id\",\"phone_brand\",\"device_model\",\"nEvts\"])"
   ]
  },
  {
   "cell_type": "code",
   "execution_count": 33,
   "metadata": {
    "collapsed": false
   },
   "outputs": [
    {
     "data": {
      "text/html": [
       "<div>\n",
       "<table border=\"1\" class=\"dataframe\">\n",
       "  <thead>\n",
       "    <tr style=\"text-align: right;\">\n",
       "      <th></th>\n",
       "      <th>device_id</th>\n",
       "      <th>phone_brand</th>\n",
       "      <th>device_model</th>\n",
       "      <th>nEvts</th>\n",
       "    </tr>\n",
       "  </thead>\n",
       "  <tbody>\n",
       "    <tr>\n",
       "      <th>0</th>\n",
       "      <td>-8260683887967679142</td>\n",
       "      <td>小米</td>\n",
       "      <td>MI 2</td>\n",
       "      <td>1</td>\n",
       "    </tr>\n",
       "    <tr>\n",
       "      <th>1</th>\n",
       "      <td>7477216237379271436</td>\n",
       "      <td>华为</td>\n",
       "      <td>荣耀6 plus</td>\n",
       "      <td>7</td>\n",
       "    </tr>\n",
       "  </tbody>\n",
       "</table>\n",
       "</div>"
      ],
      "text/plain": [
       "             device_id phone_brand device_model  nEvts\n",
       "0 -8260683887967679142          小米         MI 2      1\n",
       "1  7477216237379271436          华为     荣耀6 plus      7"
      ]
     },
     "execution_count": 33,
     "metadata": {},
     "output_type": "execute_result"
    }
   ],
   "source": [
    "device_info.head(2)"
   ]
  },
  {
   "cell_type": "code",
   "execution_count": 34,
   "metadata": {
    "collapsed": false
   },
   "outputs": [],
   "source": [
    "app_info = app_info.merge(device_info, on=\"device_id\", how=\"left\")"
   ]
  },
  {
   "cell_type": "code",
   "execution_count": 35,
   "metadata": {
    "collapsed": false
   },
   "outputs": [
    {
     "data": {
      "text/html": [
       "<div>\n",
       "<table border=\"1\" class=\"dataframe\">\n",
       "  <thead>\n",
       "    <tr style=\"text-align: right;\">\n",
       "      <th></th>\n",
       "      <th>event_id</th>\n",
       "      <th>app_id</th>\n",
       "      <th>is_active</th>\n",
       "      <th>nCats</th>\n",
       "      <th>UniqueLabel</th>\n",
       "      <th>device_id</th>\n",
       "      <th>hour</th>\n",
       "      <th>usageDay</th>\n",
       "      <th>isTrain</th>\n",
       "      <th>group</th>\n",
       "      <th>nActiveApps</th>\n",
       "      <th>nInstallApps</th>\n",
       "      <th>phone_brand</th>\n",
       "      <th>device_model</th>\n",
       "      <th>nEvts</th>\n",
       "    </tr>\n",
       "  </thead>\n",
       "  <tbody>\n",
       "    <tr>\n",
       "      <th>0</th>\n",
       "      <td>2</td>\n",
       "      <td>5927333115845830913</td>\n",
       "      <td>1</td>\n",
       "      <td>4.0</td>\n",
       "      <td>cat_Family</td>\n",
       "      <td>-6401643145415154744</td>\n",
       "      <td>0</td>\n",
       "      <td>3</td>\n",
       "      <td>0</td>\n",
       "      <td>none</td>\n",
       "      <td>6</td>\n",
       "      <td>19</td>\n",
       "      <td>三星</td>\n",
       "      <td>Galaxy Grand Prime</td>\n",
       "      <td>73</td>\n",
       "    </tr>\n",
       "    <tr>\n",
       "      <th>1</th>\n",
       "      <td>2</td>\n",
       "      <td>-5720078949152207372</td>\n",
       "      <td>0</td>\n",
       "      <td>4.0</td>\n",
       "      <td>cat_Productivity</td>\n",
       "      <td>-6401643145415154744</td>\n",
       "      <td>0</td>\n",
       "      <td>3</td>\n",
       "      <td>0</td>\n",
       "      <td>none</td>\n",
       "      <td>6</td>\n",
       "      <td>19</td>\n",
       "      <td>三星</td>\n",
       "      <td>Galaxy Grand Prime</td>\n",
       "      <td>73</td>\n",
       "    </tr>\n",
       "  </tbody>\n",
       "</table>\n",
       "</div>"
      ],
      "text/plain": [
       "   event_id               app_id  is_active  nCats       UniqueLabel  \\\n",
       "0         2  5927333115845830913          1    4.0        cat_Family   \n",
       "1         2 -5720078949152207372          0    4.0  cat_Productivity   \n",
       "\n",
       "             device_id  hour  usageDay  isTrain group  nActiveApps  \\\n",
       "0 -6401643145415154744     0         3        0  none            6   \n",
       "1 -6401643145415154744     0         3        0  none            6   \n",
       "\n",
       "   nInstallApps phone_brand        device_model  nEvts  \n",
       "0            19          三星  Galaxy Grand Prime     73  \n",
       "1            19          三星  Galaxy Grand Prime     73  "
      ]
     },
     "execution_count": 35,
     "metadata": {},
     "output_type": "execute_result"
    }
   ],
   "source": [
    "app_info.head(2)"
   ]
  },
  {
   "cell_type": "code",
   "execution_count": 36,
   "metadata": {
    "collapsed": false
   },
   "outputs": [
    {
     "name": "stdout",
     "output_type": "stream",
     "text": [
      "len uniques ids: d1 58462  d2:  58462\n",
      "sum:  116924\n",
      "\n",
      "intersection of d1 and d2:  58462\n",
      "\n",
      "Unique train in d1 and d2:  23290\n",
      "Unique test in d1 and d2:  35172\n",
      "\n",
      "intersec of train ids in both sets:  23290\n",
      "intersec of test ids in both sets:  35172\n"
     ]
    }
   ],
   "source": [
    "consistent(app_info,app_info,gtr.device_id,gte.device_id)"
   ]
  },
  {
   "cell_type": "code",
   "execution_count": 37,
   "metadata": {
    "collapsed": true
   },
   "outputs": [],
   "source": [
    "app_info.to_csv(\"files/finalSets/apps_full.csv\", index=False)"
   ]
  },
  {
   "cell_type": "markdown",
   "metadata": {},
   "source": [
    "# Merge `evts` with `phone_brand` and `device_model` "
   ]
  },
  {
   "cell_type": "code",
   "execution_count": 39,
   "metadata": {
    "collapsed": false
   },
   "outputs": [],
   "source": [
    "evts = pd.read_csv(\"files/finalSets/evts_noApp.csv\")\n",
    "ga = pd.read_csv(\"files/ga_hasEvts.csv\")"
   ]
  },
  {
   "cell_type": "code",
   "execution_count": 40,
   "metadata": {
    "collapsed": false
   },
   "outputs": [
    {
     "data": {
      "text/html": [
       "<div>\n",
       "<table border=\"1\" class=\"dataframe\">\n",
       "  <thead>\n",
       "    <tr style=\"text-align: right;\">\n",
       "      <th></th>\n",
       "      <th>event_id</th>\n",
       "      <th>device_id</th>\n",
       "      <th>longitude</th>\n",
       "      <th>latitude</th>\n",
       "      <th>day</th>\n",
       "      <th>time</th>\n",
       "      <th>hour</th>\n",
       "      <th>usageDay</th>\n",
       "      <th>isTrain</th>\n",
       "      <th>group</th>\n",
       "    </tr>\n",
       "  </thead>\n",
       "  <tbody>\n",
       "    <tr>\n",
       "      <th>0</th>\n",
       "      <td>1</td>\n",
       "      <td>29182687948017175</td>\n",
       "      <td>121.38</td>\n",
       "      <td>31.24</td>\n",
       "      <td>Sun</td>\n",
       "      <td>00:55:25</td>\n",
       "      <td>0</td>\n",
       "      <td>3</td>\n",
       "      <td>1</td>\n",
       "      <td>M39+</td>\n",
       "    </tr>\n",
       "  </tbody>\n",
       "</table>\n",
       "</div>"
      ],
      "text/plain": [
       "   event_id          device_id  longitude  latitude  day      time  hour  \\\n",
       "0         1  29182687948017175     121.38     31.24  Sun  00:55:25     0   \n",
       "\n",
       "   usageDay  isTrain group  \n",
       "0         3        1  M39+  "
      ]
     },
     "execution_count": 40,
     "metadata": {},
     "output_type": "execute_result"
    }
   ],
   "source": [
    "evts.head(1)"
   ]
  },
  {
   "cell_type": "code",
   "execution_count": 41,
   "metadata": {
    "collapsed": false
   },
   "outputs": [
    {
     "data": {
      "text/plain": [
       "True    1714272\n",
       "Name: device_id, dtype: int64"
      ]
     },
     "execution_count": 41,
     "metadata": {},
     "output_type": "execute_result"
    }
   ],
   "source": [
    "evts.device_id.isin(ga.device_id.values).value_counts()"
   ]
  },
  {
   "cell_type": "code",
   "execution_count": 42,
   "metadata": {
    "collapsed": false,
    "scrolled": true
   },
   "outputs": [],
   "source": [
    "evts.merge(ga[[\"device_id\",\"phone_brand\",\"device_model\",\"nEvts\"]], on=\"device_id\", how=\"left\")\\\n",
    ".to_csv(\"files/finalSets/evts_noApp_phone.csv\", index=False)"
   ]
  },
  {
   "cell_type": "code",
   "execution_count": 43,
   "metadata": {
    "collapsed": false
   },
   "outputs": [
    {
     "name": "stdout",
     "output_type": "stream",
     "text": [
      "len uniques ids: d1 28239  d2:  28239\n",
      "sum:  56478\n",
      "\n",
      "intersection of d1 and d2:  28239\n",
      "\n",
      "Unique train in d1 and d2:  11278\n",
      "Unique test in d1 and d2:  16961\n",
      "\n",
      "intersec of train ids in both sets:  11278\n",
      "intersec of test ids in both sets:  16961\n"
     ]
    }
   ],
   "source": [
    "consistent(evts,evts,gtr.device_id, gte.device_id)"
   ]
  }
 ],
 "metadata": {
  "anaconda-cloud": {},
  "kernelspec": {
   "display_name": "Python [conda env:jupnote]",
   "language": "python",
   "name": "conda-env-jupnote-py"
  },
  "language_info": {
   "codemirror_mode": {
    "name": "ipython",
    "version": 3
   },
   "file_extension": ".py",
   "mimetype": "text/x-python",
   "name": "python",
   "nbconvert_exporter": "python",
   "pygments_lexer": "ipython3",
   "version": "3.5.2"
  }
 },
 "nbformat": 4,
 "nbformat_minor": 0
}
