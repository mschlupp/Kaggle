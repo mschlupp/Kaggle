{
 "cells": [
  {
   "cell_type": "code",
   "execution_count": 1,
   "metadata": {
    "collapsed": true
   },
   "outputs": [],
   "source": [
    "import pandas as pd\n",
    "from pandas import DataFrame as df\n",
    "import seaborn as sns\n",
    "import sys\n",
    "import numpy as np\n",
    "import time\n",
    "\n",
    "%matplotlib inline\n",
    "from matplotlib import pyplot as plt\n",
    "from sklearn.preprocessing import LabelEncoder\n",
    "from sklearn.metrics import log_loss\n",
    "from sklearn.externals import joblib\n",
    "from sklearn.cross_validation import train_test_split\n",
    "from sklearn.grid_search import GridSearchCV\n",
    "from sklearn.metrics import classification_report\n",
    "from sklearn.preprocessing import LabelEncoder, OneHotEncoder, RobustScaler\n",
    "from sklearn.ensemble import GradientBoostingClassifier\n",
    "from sklearn.linear_model import LogisticRegression\n",
    "\n",
    "sns.set_style('ticks')\n",
    "sys.path.append(\"/home/mschlupp/pythonTools\")"
   ]
  },
  {
   "cell_type": "code",
   "execution_count": 2,
   "metadata": {
    "collapsed": true
   },
   "outputs": [],
   "source": [
    "data = pd.read_csv(\"files/finalSets/apps_full.csv\", nrows=2)"
   ]
  },
  {
   "cell_type": "code",
   "execution_count": 3,
   "metadata": {
    "collapsed": false
   },
   "outputs": [
    {
     "data": {
      "text/html": [
       "<div>\n",
       "<table border=\"1\" class=\"dataframe\">\n",
       "  <thead>\n",
       "    <tr style=\"text-align: right;\">\n",
       "      <th></th>\n",
       "      <th>event_id</th>\n",
       "      <th>app_id</th>\n",
       "      <th>nCats</th>\n",
       "      <th>UniqueLabel</th>\n",
       "      <th>device_id</th>\n",
       "      <th>longitude</th>\n",
       "      <th>latitude</th>\n",
       "      <th>hour</th>\n",
       "      <th>usageDay</th>\n",
       "      <th>isTrain</th>\n",
       "      <th>group</th>\n",
       "      <th>nActiveApps</th>\n",
       "      <th>nInstallApps</th>\n",
       "      <th>phone_brand</th>\n",
       "      <th>device_model</th>\n",
       "    </tr>\n",
       "  </thead>\n",
       "  <tbody>\n",
       "    <tr>\n",
       "      <th>0</th>\n",
       "      <td>2</td>\n",
       "      <td>5927333115845830913</td>\n",
       "      <td>4</td>\n",
       "      <td>cat_Family</td>\n",
       "      <td>-6401643145415154744</td>\n",
       "      <td>103.65</td>\n",
       "      <td>30.97</td>\n",
       "      <td>0</td>\n",
       "      <td>3</td>\n",
       "      <td>0</td>\n",
       "      <td>none</td>\n",
       "      <td>6</td>\n",
       "      <td>19</td>\n",
       "      <td>三星</td>\n",
       "      <td>Galaxy Grand Prime</td>\n",
       "    </tr>\n",
       "    <tr>\n",
       "      <th>1</th>\n",
       "      <td>2</td>\n",
       "      <td>-653184325010919369</td>\n",
       "      <td>3</td>\n",
       "      <td>cat_Esoteric</td>\n",
       "      <td>-6401643145415154744</td>\n",
       "      <td>103.65</td>\n",
       "      <td>30.97</td>\n",
       "      <td>0</td>\n",
       "      <td>3</td>\n",
       "      <td>0</td>\n",
       "      <td>none</td>\n",
       "      <td>6</td>\n",
       "      <td>19</td>\n",
       "      <td>三星</td>\n",
       "      <td>Galaxy Grand Prime</td>\n",
       "    </tr>\n",
       "  </tbody>\n",
       "</table>\n",
       "</div>"
      ],
      "text/plain": [
       "   event_id               app_id  nCats   UniqueLabel            device_id  \\\n",
       "0         2  5927333115845830913      4    cat_Family -6401643145415154744   \n",
       "1         2  -653184325010919369      3  cat_Esoteric -6401643145415154744   \n",
       "\n",
       "   longitude  latitude  hour  usageDay  isTrain group  nActiveApps  \\\n",
       "0     103.65     30.97     0         3        0  none            6   \n",
       "1     103.65     30.97     0         3        0  none            6   \n",
       "\n",
       "   nInstallApps phone_brand        device_model  \n",
       "0            19          三星  Galaxy Grand Prime  \n",
       "1            19          三星  Galaxy Grand Prime  "
      ]
     },
     "execution_count": 3,
     "metadata": {},
     "output_type": "execute_result"
    }
   ],
   "source": [
    "data.head()"
   ]
  },
  {
   "cell_type": "code",
   "execution_count": null,
   "metadata": {
    "collapsed": true
   },
   "outputs": [],
   "source": [
    "enc_brand = LabelEncoder()\n",
    "enc_device = LabelEncoder()\n",
    "enc_group = LabelEncoder()\n",
    "data[\"phone_brand\"] = enc_brand.fit_transform(data.phone_brand)\n",
    "data[\"device_model\"] = enc_device.fit_transform(data.device_model)\n",
    "data[\"group\"] = enc_group.fit_transform(data.group)\n",
    "\n",
    "scaler_long = RobustScaler()\n",
    "scaler_lat = RobustScaler()\n",
    "scaler_nevts = RobustScaler()\n",
    "data[\"latitude\"] = scaler_lat.fit_transform(data.latitude.reshape(-1,1))\n",
    "data[\"longitude\"] = scaler_long.fit_transform(data.longitude.reshape(-1,1))\n",
    "#data[\"nEvts\"] = scaler_nevts.fit_transform(data.nEvts.reshape(-1,1))\n",
    "\n",
    "lr_enc = OneHotEncoder(categorical_features=[0,1,2,3,4])\n",
    "lr_enc.fit(data.drop([\"isTrain\",\"device_id\",\"group\",\"longitude\",\"latitude\"],axis=1))"
   ]
  }
 ],
 "metadata": {
  "kernelspec": {
   "display_name": "Python [Root]",
   "language": "python",
   "name": "Python [Root]"
  },
  "language_info": {
   "codemirror_mode": {
    "name": "ipython",
    "version": 3
   },
   "file_extension": ".py",
   "mimetype": "text/x-python",
   "name": "python",
   "nbconvert_exporter": "python",
   "pygments_lexer": "ipython3",
   "version": "3.5.2"
  }
 },
 "nbformat": 4,
 "nbformat_minor": 0
}
