{
 "cells": [
  {
   "cell_type": "code",
   "execution_count": 2,
   "metadata": {
    "collapsed": false
   },
   "outputs": [],
   "source": [
    "# This Python 3 environment comes with many helpful analytics libraries installed\n",
    "# It is defined by the kaggle/python docker image: https://github.com/kaggle/docker-python\n",
    "# For example, here's several helpful packages to load in \n",
    "\n",
    "# This notebook is a modified copy of \n",
    "# https://www.kaggle.com/nickdudaev/talkingdata-mobile-user-demographics/categorizing-labels\n",
    "# unfortunately the fork and download didn't work\n",
    "\n",
    "import numpy as np # linear algebra\n",
    "import pandas as pd # data processing, CSV file I/O (e.g. pd.read_csv)\n",
    "import seaborn as sns\n",
    "import matplotlib.pyplot as plt\n",
    "%matplotlib inline\n",
    "import re\n"
   ]
  },
  {
   "cell_type": "markdown",
   "metadata": {},
   "source": [
    "# Original author's foreword\n",
    "\n",
    "## Foreword:\n",
    "\n",
    "I realize that there maybe some mistakes in generalizing labels. \n",
    "I also have left some categories unchanged because they have big counts and because I am not sure how to categorize them.\n",
    "For example, *_Tencent_* label. I googled and they produce different apps, messangers, games and so on. How to categorize them\n",
    "Another example, *_Industry tag_*. I left it unchanged.\n",
    "\n",
    "Regarding minor mistakes in categorization I thought I will not care much about it at the moment because:\n",
    "* in general labels list is very messy. I have strong impression that these was generated from few disparate lists which makes it difficult to work with in a more reasonable way\n",
    "* Few mistakes in categorization should not have a big impact on final picture when I look at it from *_gender age_* angle\n",
    "\n",
    "Further comments are for each category, those explain my logic\n",
    "\n",
    "I also tried to avoid creating too 'narrow' categories because it could be that this category would not be that representative\n",
    "\n",
    "** P.S. This can be by no doubt further improved **"
   ]
  },
  {
   "cell_type": "code",
   "execution_count": null,
   "metadata": {
    "collapsed": true
   },
   "outputs": [],
   "source": [
    "labels = pd.read_csv(\"files/label_categories.csv\")\n",
    "app_labels = pd.read_csv(\"files/app_labels.csv\")\n",
    "apps = pd.merge(app_labels, labels, how='left', on='label_id')"
   ]
  },
  {
   "cell_type": "code",
   "execution_count": null,
   "metadata": {
    "collapsed": true
   },
   "outputs": [],
   "source": [
    "apps['general_groups'] = apps['category']"
   ]
  },
  {
   "cell_type": "code",
   "execution_count": null,
   "metadata": {
    "collapsed": true
   },
   "outputs": [],
   "source": [
    "def to_Games(x):\n",
    "    # I have gone through 'almost' manually through existing categories and came up with this non-elegant regex\n",
    "    # there are a lot of games, so we can split the games category further\n",
    "    # add gambling\n",
    "    if re.search(\"(?i)((poker)|(gambl)|(roulette)|(casino))\"\n",
    "                 ,x) is not None:\n",
    "        return('Game_Gambling')\n",
    "    # add action games\n",
    "    patter = re.compile(\"(?i)((action)|(game))\")\n",
    "    if re.search(\"(?i)((shoot)|(fight)|(tank)|(snipe)|(zombie)|(military)|(moba)|(martial)|(senki)|(ninja))\"\n",
    "                 ,x) is not None or len(pattern.findall(x))>1:\n",
    "        return('Game_Action')\n",
    "    # add rpg and strategy games\n",
    "    if re.search('(RPG)|(MMO)|(ARPG)|([sS]trategy)|(Warcraft)|(tower)|(role)', x) is not None:\n",
    "        return('Game_RPG')\n",
    "    # add sport games, be aware of activity apps\n",
    "    patter = re.compile(\"(?i)((sport)|(game)|(fishing)|(box)|(motorcyle)|(parkour)|(flight))\") \n",
    "    if re.search(\"(?i)((ball)|(tennis)|(billard)|(sailing)|(racing)|(rowing)|(aircraft))\"\n",
    "                 ,x) is not None or len(patter.findall(x))>1:\n",
    "        return('Game_Sports')\n",
    "    # puzzle and skill\n",
    "    pattern = re.compile(\"(?i)((gem)|(game)|(table)|(board)|(card)|(word)|(education)|(adventures))\") \n",
    "    if re.search('(?i)((chess)|(puzzle)|(math)|(dice)|(simulat)|(tactic)|(majiang))', x) is not None or len(pattern.findall(x))>1:\n",
    "        return('Game_Skill')\n",
    "    # then just categorise other games\n",
    "    if re.search(\"(?i)(game)\",x) is not None:\n",
    "        return('Game_Other')\n",
    "    else:\n",
    "        return(x)"
   ]
  },
  {
   "cell_type": "code",
   "execution_count": null,
   "metadata": {
    "collapsed": true
   },
   "outputs": [],
   "source": []
  }
 ],
 "metadata": {
  "kernelspec": {
   "display_name": "Python [Root]",
   "language": "python",
   "name": "Python [Root]"
  },
  "language_info": {
   "codemirror_mode": {
    "name": "ipython",
    "version": 3
   },
   "file_extension": ".py",
   "mimetype": "text/x-python",
   "name": "python",
   "nbconvert_exporter": "python",
   "pygments_lexer": "ipython3",
   "version": "3.5.2"
  }
 },
 "nbformat": 4,
 "nbformat_minor": 0
}
