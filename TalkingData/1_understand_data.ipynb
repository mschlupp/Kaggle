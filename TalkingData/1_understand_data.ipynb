{
 "cells": [
  {
   "cell_type": "markdown",
   "metadata": {},
   "source": [
    "# Goals\n",
    "\n",
    "#### Predict Gender and age in given groups based on the datasets provided \n",
    "These datasets come in csv files connected by different identification keys. \n",
    "\n",
    "# Understand the data\n",
    "This is crucial! There are basic explanations on the competitions [website](https://www.kaggle.com/c/talkingdata-mobile-user-demographics/data). Here is the data connection diagramm given:\n",
    "![Data diagramm](data_tree.png)\n",
    "\n",
    "We also already now that the company names are provided in chinese, which is not particularly helpful. Then, we see that the apps already are categorised, which is handy. However, doubt is present that the variable can be used out-of-the box."
   ]
  },
  {
   "cell_type": "code",
   "execution_count": 1,
   "metadata": {
    "collapsed": false
   },
   "outputs": [],
   "source": [
    "# Set input dir\n",
    "import sys\n",
    "sys.path.append(\"/home/mschlupp/pythonTools\")\n",
    "tmp = %pwd\n",
    "files_dir = tmp + \"/files\" "
   ]
  },
  {
   "cell_type": "code",
   "execution_count": 2,
   "metadata": {
    "collapsed": false
   },
   "outputs": [],
   "source": [
    "# perform imports so that we can use single cells w/o worrying about imports\n",
    "import pandas as pd\n",
    "from pandas import DataFrame as df\n",
    "import IPython as ip\n",
    "\n",
    "import seaborn as sns\n",
    "sns.set(color_codes=True)\n",
    "\n",
    "%matplotlib inline\n",
    "import matplotlib.pyplot as plt"
   ]
  },
  {
   "cell_type": "markdown",
   "metadata": {},
   "source": [
    "#### Load some nice colors from [my github](https://github.com/mschlupp/pythonTools/tree/master/plotting).\n",
    "Then delete a few lines of the original file to make the code a bit leaner."
   ]
  },
  {
   "cell_type": "code",
   "execution_count": 5,
   "metadata": {
    "collapsed": false
   },
   "outputs": [],
   "source": [
    "# %load '/home/mschlupp/pythonTools/plotting/nice_colors.py'\n",
    "\n",
    "'''\n",
    "Color dictionaries from \n",
    "http://tableaufriction.blogspot.de/2012/11/finally-you-can-use-tableau-data-colors.html\n",
    "'''\n",
    "\n",
    "Tableau10_Medium = { \n",
    "\t\"blue\"   : (114/255.,158/255.,206/255.),\n",
    "\t\"orange\" : (255/255.,158/255.,74/255.),\n",
    "\t\"green\"  : (103/255.,191/255.,92/255.),\n",
    "\t\"red\"    : (237/255.,102/255.,93/255.),\n",
    "\t\"purple\" : (173/255.,139/255.,201/255.),\n",
    "\t\"brown\"  : (168/255.,120/255.,110/255.),\n",
    "\t\"pink\"   : (237/255.,151/255.,202/255.),\n",
    "\t\"gray\"   : (162/255.,162/255.,162/255.),\n",
    "\t\"olive\"  : (205/255.,204/255.,93/255.),\n",
    "\t\"cyan\"   : (109/255.,204/255.,218/255.)\n",
    "}\n",
    "\n",
    "ColorBlind10 = {\n",
    "\t\"azure\"        : (0./255.,107./255.,164/255.),\n",
    "\t\"orange\"       : (255./255.,128./255.,14/255.),\n",
    "\t\"grey_medium\"  : (171./255.,171./255.,171/255.),\n",
    "\t\"grey_dark\"    : (89./255.,89./255.,89/255.),\n",
    "\t\"blue_medium\"  : (95./255.,158./255.,209/255.),\n",
    "\t\"orange_dark\"  : (200./255.,82./255.,0/255.),\n",
    "\t\"grey\"         : (137./255.,137./255.,137/255.),\n",
    "\t\"blue_light\"   : (162./255.,200./255.,236/255.),\n",
    "\t\"orange_light\" : (255./255.,188./255.,121/255.),\n",
    "\t\"grey_light\"   : (207./255.,207./255.,207/255.)\n",
    "\n",
    "}\n"
   ]
  },
  {
   "cell_type": "code",
   "execution_count": 6,
   "metadata": {
    "collapsed": false
   },
   "outputs": [
    {
     "name": "stdout",
     "output_type": "stream",
     "text": [
      "app_events.csv       gender_age_train.csv               sample_submission.csv\r\n",
      "app_labels.csv       label_categories.csv               traintest_phone.csv\r\n",
      "events.csv           phone_brand_device_model.csv\r\n",
      "gender_age_test.csv  phone_brand_device_model_engl.csv\r\n"
     ]
    }
   ],
   "source": [
    "# We can have a look what's in the files' directory\n",
    "%ls files/"
   ]
  },
  {
   "cell_type": "code",
   "execution_count": 7,
   "metadata": {
    "collapsed": false
   },
   "outputs": [],
   "source": [
    "ga_test = pd.read_csv(files_dir+\"/gender_age_test.csv\")\n",
    "ga_train = pd.read_csv(files_dir+\"/gender_age_train.csv\")"
   ]
  },
  {
   "cell_type": "code",
   "execution_count": 8,
   "metadata": {
    "collapsed": false
   },
   "outputs": [
    {
     "data": {
      "text/html": [
       "<div>\n",
       "<table border=\"1\" class=\"dataframe\">\n",
       "  <thead>\n",
       "    <tr style=\"text-align: right;\">\n",
       "      <th></th>\n",
       "      <th>device_id</th>\n",
       "    </tr>\n",
       "  </thead>\n",
       "  <tbody>\n",
       "    <tr>\n",
       "      <th>0</th>\n",
       "      <td>1002079943728939269</td>\n",
       "    </tr>\n",
       "    <tr>\n",
       "      <th>1</th>\n",
       "      <td>-1547860181818787117</td>\n",
       "    </tr>\n",
       "    <tr>\n",
       "      <th>2</th>\n",
       "      <td>7374582448058474277</td>\n",
       "    </tr>\n",
       "    <tr>\n",
       "      <th>3</th>\n",
       "      <td>-6220210354783429585</td>\n",
       "    </tr>\n",
       "    <tr>\n",
       "      <th>4</th>\n",
       "      <td>-5893464122623104785</td>\n",
       "    </tr>\n",
       "  </tbody>\n",
       "</table>\n",
       "</div>"
      ],
      "text/plain": [
       "             device_id\n",
       "0  1002079943728939269\n",
       "1 -1547860181818787117\n",
       "2  7374582448058474277\n",
       "3 -6220210354783429585\n",
       "4 -5893464122623104785"
      ]
     },
     "metadata": {},
     "output_type": "display_data"
    },
    {
     "data": {
      "text/html": [
       "<div>\n",
       "<table border=\"1\" class=\"dataframe\">\n",
       "  <thead>\n",
       "    <tr style=\"text-align: right;\">\n",
       "      <th></th>\n",
       "      <th>device_id</th>\n",
       "    </tr>\n",
       "  </thead>\n",
       "  <tbody>\n",
       "    <tr>\n",
       "      <th>count</th>\n",
       "      <td>1.120710e+05</td>\n",
       "    </tr>\n",
       "    <tr>\n",
       "      <th>mean</th>\n",
       "      <td>-2.367461e+16</td>\n",
       "    </tr>\n",
       "    <tr>\n",
       "      <th>std</th>\n",
       "      <td>5.331855e+18</td>\n",
       "    </tr>\n",
       "    <tr>\n",
       "      <th>min</th>\n",
       "      <td>-9.223322e+18</td>\n",
       "    </tr>\n",
       "    <tr>\n",
       "      <th>25%</th>\n",
       "      <td>-4.661036e+18</td>\n",
       "    </tr>\n",
       "    <tr>\n",
       "      <th>50%</th>\n",
       "      <td>-3.107321e+16</td>\n",
       "    </tr>\n",
       "    <tr>\n",
       "      <th>75%</th>\n",
       "      <td>4.581985e+18</td>\n",
       "    </tr>\n",
       "    <tr>\n",
       "      <th>max</th>\n",
       "      <td>9.223069e+18</td>\n",
       "    </tr>\n",
       "  </tbody>\n",
       "</table>\n",
       "</div>"
      ],
      "text/plain": [
       "          device_id\n",
       "count  1.120710e+05\n",
       "mean  -2.367461e+16\n",
       "std    5.331855e+18\n",
       "min   -9.223322e+18\n",
       "25%   -4.661036e+18\n",
       "50%   -3.107321e+16\n",
       "75%    4.581985e+18\n",
       "max    9.223069e+18"
      ]
     },
     "metadata": {},
     "output_type": "display_data"
    }
   ],
   "source": [
    "ip.display.display(ga_test.head(5),ga_test.describe())\n",
    "# simple device ids. to predict gender and age, we need to combine the devide ids with our features that are finally used to predict the category"
   ]
  },
  {
   "cell_type": "markdown",
   "metadata": {},
   "source": [
    "#### In total we have 112,071 devices to predict"
   ]
  },
  {
   "cell_type": "code",
   "execution_count": 9,
   "metadata": {
    "collapsed": false
   },
   "outputs": [
    {
     "data": {
      "text/html": [
       "<div>\n",
       "<table border=\"1\" class=\"dataframe\">\n",
       "  <thead>\n",
       "    <tr style=\"text-align: right;\">\n",
       "      <th></th>\n",
       "      <th>device_id</th>\n",
       "      <th>gender</th>\n",
       "      <th>age</th>\n",
       "      <th>group</th>\n",
       "    </tr>\n",
       "  </thead>\n",
       "  <tbody>\n",
       "    <tr>\n",
       "      <th>0</th>\n",
       "      <td>-8076087639492063270</td>\n",
       "      <td>M</td>\n",
       "      <td>35</td>\n",
       "      <td>M32-38</td>\n",
       "    </tr>\n",
       "    <tr>\n",
       "      <th>1</th>\n",
       "      <td>-2897161552818060146</td>\n",
       "      <td>M</td>\n",
       "      <td>35</td>\n",
       "      <td>M32-38</td>\n",
       "    </tr>\n",
       "    <tr>\n",
       "      <th>2</th>\n",
       "      <td>-8260683887967679142</td>\n",
       "      <td>M</td>\n",
       "      <td>35</td>\n",
       "      <td>M32-38</td>\n",
       "    </tr>\n",
       "    <tr>\n",
       "      <th>3</th>\n",
       "      <td>-4938849341048082022</td>\n",
       "      <td>M</td>\n",
       "      <td>30</td>\n",
       "      <td>M29-31</td>\n",
       "    </tr>\n",
       "    <tr>\n",
       "      <th>4</th>\n",
       "      <td>245133531816851882</td>\n",
       "      <td>M</td>\n",
       "      <td>30</td>\n",
       "      <td>M29-31</td>\n",
       "    </tr>\n",
       "  </tbody>\n",
       "</table>\n",
       "</div>"
      ],
      "text/plain": [
       "             device_id gender  age   group\n",
       "0 -8076087639492063270      M   35  M32-38\n",
       "1 -2897161552818060146      M   35  M32-38\n",
       "2 -8260683887967679142      M   35  M32-38\n",
       "3 -4938849341048082022      M   30  M29-31\n",
       "4   245133531816851882      M   30  M29-31"
      ]
     },
     "metadata": {},
     "output_type": "display_data"
    },
    {
     "data": {
      "text/html": [
       "<div>\n",
       "<table border=\"1\" class=\"dataframe\">\n",
       "  <thead>\n",
       "    <tr style=\"text-align: right;\">\n",
       "      <th></th>\n",
       "      <th>device_id</th>\n",
       "      <th>age</th>\n",
       "    </tr>\n",
       "  </thead>\n",
       "  <tbody>\n",
       "    <tr>\n",
       "      <th>count</th>\n",
       "      <td>7.464500e+04</td>\n",
       "      <td>74645.000000</td>\n",
       "    </tr>\n",
       "    <tr>\n",
       "      <th>mean</th>\n",
       "      <td>-7.491354e+14</td>\n",
       "      <td>31.410342</td>\n",
       "    </tr>\n",
       "    <tr>\n",
       "      <th>std</th>\n",
       "      <td>5.327150e+18</td>\n",
       "      <td>9.868735</td>\n",
       "    </tr>\n",
       "    <tr>\n",
       "      <th>min</th>\n",
       "      <td>-9.223067e+18</td>\n",
       "      <td>1.000000</td>\n",
       "    </tr>\n",
       "    <tr>\n",
       "      <th>25%</th>\n",
       "      <td>-4.617367e+18</td>\n",
       "      <td>25.000000</td>\n",
       "    </tr>\n",
       "    <tr>\n",
       "      <th>50%</th>\n",
       "      <td>-1.841362e+16</td>\n",
       "      <td>29.000000</td>\n",
       "    </tr>\n",
       "    <tr>\n",
       "      <th>75%</th>\n",
       "      <td>4.636656e+18</td>\n",
       "      <td>36.000000</td>\n",
       "    </tr>\n",
       "    <tr>\n",
       "      <th>max</th>\n",
       "      <td>9.222849e+18</td>\n",
       "      <td>96.000000</td>\n",
       "    </tr>\n",
       "  </tbody>\n",
       "</table>\n",
       "</div>"
      ],
      "text/plain": [
       "          device_id           age\n",
       "count  7.464500e+04  74645.000000\n",
       "mean  -7.491354e+14     31.410342\n",
       "std    5.327150e+18      9.868735\n",
       "min   -9.223067e+18      1.000000\n",
       "25%   -4.617367e+18     25.000000\n",
       "50%   -1.841362e+16     29.000000\n",
       "75%    4.636656e+18     36.000000\n",
       "max    9.222849e+18     96.000000"
      ]
     },
     "metadata": {},
     "output_type": "display_data"
    }
   ],
   "source": [
    "ip.display.display(ga_train.head(5), ga_train.describe())"
   ]
  },
  {
   "cell_type": "markdown",
   "metadata": {},
   "source": [
    "#### Unfortunately we have less data to train on, 'only' 74,645 devices. \n",
    "We have a rich data structure to explore, I guess we'll end up with k-folding."
   ]
  },
  {
   "cell_type": "code",
   "execution_count": 10,
   "metadata": {
    "collapsed": false
   },
   "outputs": [],
   "source": [
    "g = ga_train['gender']"
   ]
  },
  {
   "cell_type": "code",
   "execution_count": 11,
   "metadata": {
    "collapsed": false
   },
   "outputs": [
    {
     "data": {
      "text/plain": [
       "M    47904\n",
       "F    26741\n",
       "Name: gender, dtype: int64"
      ]
     },
     "execution_count": 11,
     "metadata": {},
     "output_type": "execute_result"
    }
   ],
   "source": [
    "g.value_counts()"
   ]
  },
  {
   "cell_type": "code",
   "execution_count": 14,
   "metadata": {
    "collapsed": false
   },
   "outputs": [
    {
     "data": {
      "image/png": "[encoded data removed]",
      "text/plain": [
       "<matplotlib.figure.Figure at 0x7f8dedcf1e10>"
      ]
     },
     "metadata": {},
     "output_type": "display_data"
    }
   ],
   "source": [
    "plt.pie(g.value_counts(),colors=[ColorBlind10['blue_light'],Tableau10_Medium['red']],\n",
    "        labels=g.value_counts().index, autopct='%2.2f%%', startangle=90);\n",
    "plt.axis('equal');"
   ]
  },
  {
   "cell_type": "code",
   "execution_count": 79,
   "metadata": {
    "collapsed": false
   },
   "outputs": [
    {
     "data": {
      "image/png": "[encoded data removed]",
      "text/plain": [
       "<matplotlib.figure.Figure at 0x7f1c9ee95898>"
      ]
     },
     "metadata": {},
     "output_type": "display_data"
    }
   ],
   "source": [
    "plt.hist(ga_train.age[ga_train.gender=='M'],100,normed=True\n",
    "         ,color=Tableau10_Medium['blue'],histtype='stepfilled', alpha=0.5\n",
    "         ,range=(0,100), label='male', linewidth=0); # colon to prevent numeric output prior to plot\n",
    "plt.hist(ga_train.age[ga_train.gender=='F'],100,normed=True\n",
    "         ,color=Tableau10_Medium['red'],histtype='step'\n",
    "         ,range=(0,100),label='female',linewidth=1.5);\n",
    "plt.legend();"
   ]
  },
  {
   "cell_type": "markdown",
   "metadata": {},
   "source": [
    "Data comes from an SDK, explicit agreement of data-use is needed. Bias towards male data might be explained by that. Still, the age distributions look fairly similar, no need to worry about an age biases up to this point.\n",
    "How does the distribution of the training data looks like in the target variable?"
   ]
  },
  {
   "cell_type": "code",
   "execution_count": 109,
   "metadata": {
    "collapsed": false
   },
   "outputs": [
    {
     "data": {
      "text/plain": [
       "array(['F24-26', 'F33-42', 'F27-28', 'F43+', 'F23-', 'F29-32'], dtype=object)"
      ]
     },
     "execution_count": 109,
     "metadata": {},
     "output_type": "execute_result"
    }
   ],
   "source": [
    "ga_train.group[ga_train.gender==\"F\"].unique()"
   ]
  },
  {
   "cell_type": "code",
   "execution_count": 80,
   "metadata": {
    "collapsed": false,
    "scrolled": true
   },
   "outputs": [
    {
     "data": {
      "image/png": "[encoded data removed]",
      "text/plain": [
       "<matplotlib.figure.Figure at 0x7f1c9eeeaf98>"
      ]
     },
     "metadata": {},
     "output_type": "display_data"
    }
   ],
   "source": [
    "# ok try to color female and male differently\n",
    "colors = 'r'*len(ga_train.group[ga_train.gender=='F'].unique()) + 'b'*len(ga_train.group[ga_train.gender=='M'].unique())\n",
    "# this only works if the female and male categories are completely separated. They are not...\n",
    "# next try, construct color string from indices\n",
    "# we could use user defined colors, then we would need to create a list of colors\n",
    "a = ga_train.group.value_counts().sort_index(ascending=False)\n",
    "colors=''\n",
    "for x in a.index :\n",
    "    colors+= 'r' if x.startswith('F') else 'b' \n",
    "\n",
    "a.plot.barh(color=colors,alpha=0.6); # works fine."
   ]
  },
  {
   "cell_type": "markdown",
   "metadata": {},
   "source": [
    "There are different number of customers in each category. When we understand the data a bit better, we can think of applying a deep learning method to predict the categories as follows: a) predict male or female, b) predict age of customer. \n",
    "First we need to continue with the data exploration."
   ]
  },
  {
   "cell_type": "code",
   "execution_count": 15,
   "metadata": {
    "collapsed": false
   },
   "outputs": [
    {
     "name": "stdout",
     "output_type": "stream",
     "text": [
      "app_events.csv       gender_age_train.csv               sample_submission.csv\r\n",
      "app_labels.csv       label_categories.csv               traintest_phone.csv\r\n",
      "events.csv           phone_brand_device_model.csv\r\n",
      "gender_age_test.csv  phone_brand_device_model_engl.csv\r\n"
     ]
    }
   ],
   "source": [
    "# I forgot about the datasets...\n",
    "%ls files/"
   ]
  },
  {
   "cell_type": "code",
   "execution_count": 17,
   "metadata": {
    "collapsed": false
   },
   "outputs": [
    {
     "data": {
      "text/html": [
       "<div>\n",
       "<table border=\"1\" class=\"dataframe\">\n",
       "  <thead>\n",
       "    <tr style=\"text-align: right;\">\n",
       "      <th></th>\n",
       "      <th>device_id</th>\n",
       "      <th>phone_brand</th>\n",
       "      <th>device_model</th>\n",
       "    </tr>\n",
       "  </thead>\n",
       "  <tbody>\n",
       "    <tr>\n",
       "      <th>0</th>\n",
       "      <td>-8890648629457979026</td>\n",
       "      <td>小米</td>\n",
       "      <td>红米</td>\n",
       "    </tr>\n",
       "    <tr>\n",
       "      <th>1</th>\n",
       "      <td>1277779817574759137</td>\n",
       "      <td>小米</td>\n",
       "      <td>MI 2</td>\n",
       "    </tr>\n",
       "  </tbody>\n",
       "</table>\n",
       "</div>"
      ],
      "text/plain": [
       "             device_id phone_brand device_model\n",
       "0 -8890648629457979026          小米           红米\n",
       "1  1277779817574759137          小米         MI 2"
      ]
     },
     "execution_count": 17,
     "metadata": {},
     "output_type": "execute_result"
    }
   ],
   "source": [
    "# The next dataset is probably easily merged with the gender and age dataset.\n",
    "# We can use the device_id to merge the sets\n",
    "\n",
    "# the brand names have been translated, as good as possible:\n",
    "# phone_brand_device_model_engl.csv --- however, this drops ~ 40 brands.\n",
    "# so let's use the chinese names for now.\n",
    "hardware = pd.read_csv(files_dir+\"/phone_brand_device_model.csv\")#,index_col=0)\n",
    "hardware.head(2)"
   ]
  },
  {
   "cell_type": "code",
   "execution_count": 18,
   "metadata": {
    "collapsed": false,
    "scrolled": true
   },
   "outputs": [],
   "source": [
    "def showUniques(df):\n",
    "    print(\"Number of rows: \", len(df))\n",
    "    print(\"Number of unique values per column: \")\n",
    "    for col in df.columns:\n",
    "        print(\"Column {}: \".format(col), df[col].nunique())"
   ]
  },
  {
   "cell_type": "code",
   "execution_count": 19,
   "metadata": {
    "collapsed": false
   },
   "outputs": [
    {
     "name": "stdout",
     "output_type": "stream",
     "text": [
      "Number of rows:  187245\n",
      "Number of unique values per column: \n",
      "Column device_id:  186716\n",
      "Column phone_brand:  131\n",
      "Column device_model:  1599\n"
     ]
    }
   ],
   "source": [
    "showUniques(hardware)"
   ]
  },
  {
   "cell_type": "code",
   "execution_count": 20,
   "metadata": {
    "collapsed": false
   },
   "outputs": [
    {
     "data": {
      "text/plain": [
       "529"
      ]
     },
     "execution_count": 20,
     "metadata": {},
     "output_type": "execute_result"
    }
   ],
   "source": [
    "len(hardware.device_id)-hardware.device_id.nunique()"
   ]
  },
  {
   "cell_type": "markdown",
   "metadata": {},
   "source": [
    "Ok, there are 529 device_ids occuring more than once.\n",
    "Let's find out about the double entries."
   ]
  },
  {
   "cell_type": "code",
   "execution_count": 21,
   "metadata": {
    "collapsed": false
   },
   "outputs": [
    {
     "data": {
      "text/html": [
       "<div>\n",
       "<table border=\"1\" class=\"dataframe\">\n",
       "  <thead>\n",
       "    <tr style=\"text-align: right;\">\n",
       "      <th></th>\n",
       "      <th>phone_brand</th>\n",
       "      <th>device_model</th>\n",
       "    </tr>\n",
       "    <tr>\n",
       "      <th>device_id</th>\n",
       "      <th></th>\n",
       "      <th></th>\n",
       "    </tr>\n",
       "  </thead>\n",
       "  <tbody>\n",
       "    <tr>\n",
       "      <th>1877775838486905855</th>\n",
       "      <td>2</td>\n",
       "      <td>2</td>\n",
       "    </tr>\n",
       "    <tr>\n",
       "      <th>6974738683971424976</th>\n",
       "      <td>2</td>\n",
       "      <td>2</td>\n",
       "    </tr>\n",
       "    <tr>\n",
       "      <th>-3389605147156464826</th>\n",
       "      <td>2</td>\n",
       "      <td>2</td>\n",
       "    </tr>\n",
       "  </tbody>\n",
       "</table>\n",
       "</div>"
      ],
      "text/plain": [
       "                      phone_brand  device_model\n",
       "device_id                                      \n",
       " 1877775838486905855            2             2\n",
       " 6974738683971424976            2             2\n",
       "-3389605147156464826            2             2"
      ]
     },
     "execution_count": 21,
     "metadata": {},
     "output_type": "execute_result"
    }
   ],
   "source": [
    "# first group by device_id, then count the entries and sort the table\n",
    "s = hardware.groupby('device_id')\n",
    "tab = s.count()\n",
    "tab.sort_values(\"phone_brand\",ascending=False).head(3)"
   ]
  },
  {
   "cell_type": "markdown",
   "metadata": {},
   "source": [
    "There are device_ids that have more than one phone. We you check if a customer has more than one phone or if this is just a mistake."
   ]
  },
  {
   "cell_type": "code",
   "execution_count": 156,
   "metadata": {
    "collapsed": false,
    "scrolled": true
   },
   "outputs": [
    {
     "data": {
      "text/html": [
       "<div>\n",
       "<table border=\"1\" class=\"dataframe\">\n",
       "  <thead>\n",
       "    <tr style=\"text-align: right;\">\n",
       "      <th></th>\n",
       "      <th>device_id</th>\n",
       "      <th>phone_brand</th>\n",
       "      <th>device_model</th>\n",
       "    </tr>\n",
       "  </thead>\n",
       "  <tbody>\n",
       "    <tr>\n",
       "      <th>10782</th>\n",
       "      <td>1877775838486905855</td>\n",
       "      <td>vivo</td>\n",
       "      <td>Y13</td>\n",
       "    </tr>\n",
       "    <tr>\n",
       "      <th>22625</th>\n",
       "      <td>1877775838486905855</td>\n",
       "      <td>vivo</td>\n",
       "      <td>Y13</td>\n",
       "    </tr>\n",
       "  </tbody>\n",
       "</table>\n",
       "</div>"
      ],
      "text/plain": [
       "                 device_id phone_brand device_model\n",
       "10782  1877775838486905855        vivo          Y13\n",
       "22625  1877775838486905855        vivo          Y13"
      ]
     },
     "execution_count": 156,
     "metadata": {},
     "output_type": "execute_result"
    }
   ],
   "source": [
    "hardware[hardware.device_id==1877775838486905855]"
   ]
  },
  {
   "cell_type": "markdown",
   "metadata": {},
   "source": [
    "For the first entry this seems to be a mistake, as we can assume that a customer does not buy a phone twice (does it even mean this?). Well, or the customer is old and does not want to learn a new interface."
   ]
  },
  {
   "cell_type": "code",
   "execution_count": 22,
   "metadata": {
    "collapsed": false
   },
   "outputs": [
    {
     "name": "stdout",
     "output_type": "stream",
     "text": [
      "length:  529 mean:  2.0\n"
     ]
    },
    {
     "data": {
      "text/html": [
       "<div>\n",
       "<table border=\"1\" class=\"dataframe\">\n",
       "  <thead>\n",
       "    <tr style=\"text-align: right;\">\n",
       "      <th></th>\n",
       "      <th>device_id</th>\n",
       "      <th>gender</th>\n",
       "      <th>age</th>\n",
       "      <th>group</th>\n",
       "    </tr>\n",
       "  </thead>\n",
       "  <tbody>\n",
       "    <tr>\n",
       "      <th>0</th>\n",
       "      <td>-8076087639492063270</td>\n",
       "      <td>M</td>\n",
       "      <td>35</td>\n",
       "      <td>M32-38</td>\n",
       "    </tr>\n",
       "    <tr>\n",
       "      <th>1</th>\n",
       "      <td>-2897161552818060146</td>\n",
       "      <td>M</td>\n",
       "      <td>35</td>\n",
       "      <td>M32-38</td>\n",
       "    </tr>\n",
       "  </tbody>\n",
       "</table>\n",
       "</div>"
      ],
      "text/plain": [
       "             device_id gender  age   group\n",
       "0 -8076087639492063270      M   35  M32-38\n",
       "1 -2897161552818060146      M   35  M32-38"
      ]
     },
     "execution_count": 22,
     "metadata": {},
     "output_type": "execute_result"
    }
   ],
   "source": [
    "# get the set of device_ids that have more than one phone\n",
    "tab = tab[tab.phone_brand>1]\n",
    "print('length: ', len(tab), 'mean: ', tab.phone_brand.mean())\n",
    "ga_train.head(2)"
   ]
  },
  {
   "cell_type": "markdown",
   "metadata": {},
   "source": [
    "Perfect, we have all the decice_ids with more than one entry.\n",
    "We can test if these device_ids are correlated with age."
   ]
  },
  {
   "cell_type": "code",
   "execution_count": 23,
   "metadata": {
    "collapsed": false
   },
   "outputs": [
    {
     "data": {
      "image/png": "[encoded data removed]",
      "text/plain": [
       "<matplotlib.figure.Figure at 0x7f8dd8999048>"
      ]
     },
     "metadata": {},
     "output_type": "display_data"
    }
   ],
   "source": [
    "# use searborns handy pairplot method to produce 2D scatterplots\n",
    "sns.pairplot(ga_train[ga_train.device_id.isin(tab.index)]);"
   ]
  },
  {
   "cell_type": "markdown",
   "metadata": {},
   "source": [
    "No evident correlation here. Let's drop dublicates."
   ]
  },
  {
   "cell_type": "code",
   "execution_count": 24,
   "metadata": {
    "collapsed": false
   },
   "outputs": [],
   "source": [
    "# Now we introduce a flag that clarifies which is the train and which is the test set.\n",
    "# This is a paranoid new flag to split the data later on.\n",
    "# We could probably also use age, gender, or group.\n",
    "\n",
    "ga_train['isTrain']=1\n",
    "ga_test['isTrain']=0\n",
    "ga_test['age']=-1\n",
    "ga_test['gender']='none'\n",
    "ga_test['group']='none'\n",
    "train_test = pd.concat([ga_train,ga_test])"
   ]
  },
  {
   "cell_type": "code",
   "execution_count": 25,
   "metadata": {
    "collapsed": false
   },
   "outputs": [
    {
     "name": "stdout",
     "output_type": "stream",
     "text": [
      "Number of rows:  186716\n",
      "Number of unique values per column: \n",
      "Column age:  86\n",
      "Column device_id:  186716\n",
      "Column gender:  3\n",
      "Column group:  13\n",
      "Column isTrain:  2\n"
     ]
    }
   ],
   "source": [
    "showUniques(train_test)"
   ]
  },
  {
   "cell_type": "markdown",
   "metadata": {},
   "source": [
    "No double entries in the train and test set."
   ]
  },
  {
   "cell_type": "code",
   "execution_count": 26,
   "metadata": {
    "collapsed": false
   },
   "outputs": [
    {
     "name": "stdout",
     "output_type": "stream",
     "text": [
      "Number of rows:  186716\n",
      "Number of unique values per column: \n",
      "Column device_id:  186716\n",
      "Column phone_brand:  131\n",
      "Column device_model:  1599\n"
     ]
    }
   ],
   "source": [
    "phones = hardware.drop_duplicates('device_id',keep='last')\n",
    "showUniques(phones) "
   ]
  },
  {
   "cell_type": "markdown",
   "metadata": {},
   "source": [
    "This worked, so we can concatenate or merge phones with the other data."
   ]
  },
  {
   "cell_type": "code",
   "execution_count": 27,
   "metadata": {
    "collapsed": false
   },
   "outputs": [
    {
     "name": "stdout",
     "output_type": "stream",
     "text": [
      "186716 186716\n",
      "186716\n"
     ]
    }
   ],
   "source": [
    "phones.index=list(range(0,len(phones)))\n",
    "train_test.index=list(range(0,len(train_test)))\n",
    "print(len(train_test), len(phones))\n",
    "new = pd.merge(left=train_test,right=phones, left_on='device_id', right_on='device_id',how='outer')\n",
    "print(len(new))\n"
   ]
  },
  {
   "cell_type": "code",
   "execution_count": 289,
   "metadata": {
    "collapsed": false
   },
   "outputs": [
    {
     "name": "stdout",
     "output_type": "stream",
     "text": [
      "0.0  % done.\n",
      "x-check tests:\n",
      "MI 2  ==  MI 2  ?? \n",
      "小米  ==  小米  ?? \n",
      "===========\n",
      "next please \n",
      "===========\n",
      "0.2677863707448746  % done.\n",
      "x-check tests:\n",
      "Galaxy Note 3  ==  Galaxy Note 3  ?? \n",
      "三星  ==  三星  ?? \n",
      "===========\n",
      "next please \n",
      "===========\n",
      "0.5355727414897492  % done.\n",
      "x-check tests:\n",
      "MX4 Pro  ==  MX4 Pro  ?? \n",
      "魅族  ==  魅族  ?? \n",
      "===========\n",
      "next please \n",
      "===========\n"
     ]
    }
   ],
   "source": [
    "# let us check if this worked fine\n",
    "from utilities import printBumper\n",
    "for i,id in enumerate(new.device_id):\n",
    "    test_model = phones.device_model[phones.device_id==id].ravel()[0]\n",
    "    new_model  = new[new.device_id==id].device_model.ravel()[0]\n",
    "    test_brand = phones[phones.device_id==id].phone_brand.ravel()[0]\n",
    "    new_brand  = new[new.device_id==id].phone_brand.ravel()[0]\n",
    "    if not test_model==new_model:\n",
    "        print(\"device model not correctly merged.\") \n",
    "    if not test_brand==new_brand:\n",
    "        print(\"phone brand not correctly merged\")\n",
    "    if i % 500 == 0:\n",
    "        print(float(i)/len(new.device_id)*100, \" % done.\")\n",
    "        print(\"x-check tests:\")\n",
    "        print(test_model, \" == \", new_model, \" ?? \")\n",
    "        print(test_brand, \" == \", new_brand, \" ?? \")\n",
    "        printBumper('next please')\n",
    "#  if i > 1e3:\n",
    "#      break"
   ]
  },
  {
   "cell_type": "markdown",
   "metadata": {},
   "source": [
    "#### This worked fine. \n",
    "Let's write this into a new file. We can use this file to start a new notebook."
   ]
  },
  {
   "cell_type": "code",
   "execution_count": 28,
   "metadata": {
    "collapsed": false
   },
   "outputs": [],
   "source": [
    "new.head(2)\n",
    "new.to_csv(files_dir+\"/traintest_phone.csv\")"
   ]
  }
 ],
 "metadata": {
  "anaconda-cloud": {},
  "kernelspec": {
   "display_name": "Python [Root]",
   "language": "python",
   "name": "Python [Root]"
  },
  "language_info": {
   "codemirror_mode": {
    "name": "ipython",
    "version": 3
   },
   "file_extension": ".py",
   "mimetype": "text/x-python",
   "name": "python",
   "nbconvert_exporter": "python",
   "pygments_lexer": "ipython3",
   "version": "3.5.2"
  }
 },
 "nbformat": 4,
 "nbformat_minor": 0
}
