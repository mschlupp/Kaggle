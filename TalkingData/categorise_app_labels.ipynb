{
 "cells": [
  {
   "cell_type": "code",
   "execution_count": 2,
   "metadata": {
    "collapsed": false
   },
   "outputs": [],
   "source": [
    "# This Python 3 environment comes with many helpful analytics libraries installed\n",
    "# It is defined by the kaggle/python docker image: https://github.com/kaggle/docker-python\n",
    "# For example, here's several helpful packages to load in \n",
    "\n",
    "# This notebook is a modified copy of \n",
    "# https://www.kaggle.com/nickdudaev/talkingdata-mobile-user-demographics/categorizing-labels\n",
    "# unfortunately the fork and download didn't work\n",
    "\n",
    "import numpy as np # linear algebra\n",
    "import pandas as pd # data processing, CSV file I/O (e.g. pd.read_csv)\n",
    "import seaborn as sns\n",
    "import matplotlib.pyplot as plt\n",
    "%matplotlib inline\n",
    "import re\n"
   ]
  },
  {
   "cell_type": "markdown",
   "metadata": {},
   "source": [
    "# Original author's foreword\n",
    "\n",
    "## Foreword:\n",
    "\n",
    "I realize that there maybe some mistakes in generalizing labels. \n",
    "I also have left some categories unchanged because they have big counts and because I am not sure how to categorize them.\n",
    "For example, *_Tencent_* label. I googled and they produce different apps, messangers, games and so on. How to categorize them\n",
    "Another example, *_Industry tag_*. I left it unchanged.\n",
    "\n",
    "Regarding minor mistakes in categorization I thought I will not care much about it at the moment because:\n",
    "* in general labels list is very messy. I have strong impression that these was generated from few disparate lists which makes it difficult to work with in a more reasonable way\n",
    "* Few mistakes in categorization should not have a big impact on final picture when I look at it from *_gender age_* angle\n",
    "\n",
    "Further comments are for each category, those explain my logic\n",
    "\n",
    "I also tried to avoid creating too 'narrow' categories because it could be that this category would not be that representative\n",
    "\n",
    "** P.S. This can be by no doubt further improved **"
   ]
  },
  {
   "cell_type": "code",
   "execution_count": 3,
   "metadata": {
    "collapsed": true
   },
   "outputs": [],
   "source": [
    "labels = pd.read_csv(\"files/label_categories.csv\")\n",
    "app_labels = pd.read_csv(\"files/app_labels.csv\")\n",
    "apps = pd.merge(app_labels, labels, how='left', on='label_id')"
   ]
  },
  {
   "cell_type": "code",
   "execution_count": 4,
   "metadata": {
    "collapsed": false
   },
   "outputs": [],
   "source": [
    "gp = app_labels.groupby(\"app_id\")"
   ]
  },
  {
   "cell_type": "code",
   "execution_count": 5,
   "metadata": {
    "collapsed": false
   },
   "outputs": [
    {
     "data": {
      "text/plain": [
       "507"
      ]
     },
     "execution_count": 5,
     "metadata": {},
     "output_type": "execute_result"
    }
   ],
   "source": [
    "len(app_labels.label_id.unique())"
   ]
  },
  {
   "cell_type": "code",
   "execution_count": 6,
   "metadata": {
    "collapsed": false
   },
   "outputs": [],
   "source": [
    "df=pd.DataFrame(app_labels.label_id.unique())"
   ]
  },
  {
   "cell_type": "code",
   "execution_count": 7,
   "metadata": {
    "collapsed": false
   },
   "outputs": [],
   "source": [
    "df.columns=[\"label_id\"]"
   ]
  },
  {
   "cell_type": "code",
   "execution_count": 8,
   "metadata": {
    "collapsed": false
   },
   "outputs": [],
   "source": [
    "df[\"label_id\"]=np.sort(df.label_id)"
   ]
  },
  {
   "cell_type": "code",
   "execution_count": 9,
   "metadata": {
    "collapsed": true
   },
   "outputs": [],
   "source": [
    "uniq_lab = df.merge(labels, on=\"label_id\", how=\"left\")"
   ]
  },
  {
   "cell_type": "code",
   "execution_count": 10,
   "metadata": {
    "collapsed": false
   },
   "outputs": [],
   "source": [
    "uniq_lab.to_csv(\"files/unique_categories.csv\", index=False)"
   ]
  },
  {
   "cell_type": "code",
   "execution_count": 11,
   "metadata": {
    "collapsed": true
   },
   "outputs": [],
   "source": [
    "def to_Games(x):\n",
    "    # I have gone through 'almost' manually through existing categories and came up with this non-elegant regex\n",
    "    # there are a lot of games, so we can split the games category further\n",
    "    # add gambling\n",
    "    if x in [\"game-game type\"]:\n",
    "        return('cat_Game_Other')\n",
    "    if re.search(\"(?i)((poker)|(gambl)|(roulette)|(casino))\"\n",
    "                 ,x) is not None:\n",
    "        return('cat_Game_Gambling')\n",
    "    # add rpg and strategy games\n",
    "    if re.search('(RPG)|(MMO)|(ARPG)|([sS]trategy)|(Warcraft)|(dota)', x) is not None:\n",
    "        return('cat_Game_RPG')\n",
    "    if re.search(\"(?i)((tower)|(role))\", x) is not None:\n",
    "        return('cat_Game_RPG')\n",
    "    # add sport games, be aware of activity apps\n",
    "    pattern = re.compile(\"(?i)((sport)|(game)|(fishing)|(box)|(motorcycle)|(parkour)|(flight))\") \n",
    "    if re.search(\"(?i)((ball)|(tennis)|(billard)|(sailing)|(racing)|(rowing)|(aircraft))\"\n",
    "                 ,x) is not None or len(pattern.findall(x))==2:\n",
    "        return('cat_Game_Sports')\n",
    "    # puzzle and skill\n",
    "    pattern = re.compile(\"(?i)((gem)|(game)|(table)|(board)|(card)|(word)|(education)|(adventure))\") \n",
    "    if re.search('(?i)((chess)|(puzz)|(math)|(dice)|(simulat)|(tactic)|(majiang))', x) is not None or len(pattern.findall(x))>1:\n",
    "        return('cat_Game_Skill')\n",
    "    if re.search('(?i)((cutting)|(fault)|(answer))', x) is not None or len(pattern.findall(x))>1:\n",
    "        return('cat_Game_Skill')\n",
    "    # add action games\n",
    "    pattern = re.compile(\"(?i)((action)|(game))\")\n",
    "    if re.search(\"(?i)((shoot)|(fight)|(tank)|(snipe)|(zombie)|(military)|(moba)|(martial)|(senki)|(ninja))\"\n",
    "                 ,x) is not None or len(pattern.findall(x))==2:\n",
    "        return('cat_Game_Action')\n",
    "    # then just categorise other games\n",
    "    if re.search(\"(?i)(game)|(farm)|(cosplay)\",x) is not None:\n",
    "        return('cat_Game_Other')\n",
    "    else:\n",
    "        return(x)"
   ]
  },
  {
   "cell_type": "code",
   "execution_count": 12,
   "metadata": {
    "collapsed": true
   },
   "outputs": [],
   "source": [
    "def to_Finance(x):\n",
    "    if re.search(\"(?i)((financ)|(profit)|(income)|(risk)|(bank)|(insurance)|(cost)|(metals))\", x) is not None:\n",
    "        return(\"cat_Finance\")\n",
    "    if re.search(\"(?i)((exchange)|(credit)|(bank)|(fund)|(trust)|(futures)|(liquid))\", x) is not None:\n",
    "        return('cat_Finance')\n",
    "    if re.search(\"(?i)((stock)|(shares)|(account)|(wealth)|(loan)|(securities)|(imf))\", x) is not None:\n",
    "        return('cat_Finance')\n",
    "    else:\n",
    "        return(x)"
   ]
  },
  {
   "cell_type": "code",
   "execution_count": 13,
   "metadata": {
    "collapsed": true
   },
   "outputs": [],
   "source": [
    "def to_Family(x):\n",
    "    if re.search(\"(?i)((parent)|(family)|(bab)|(child)|(fetus)|(pregnant))\", x) is not None:\n",
    "        return(\"cat_Family\")\n",
    "    if re.search(\"(?i)((relatives)|(love)|(marry)|(paternity)|(mother))\", x) is not None:\n",
    "        return(\"cat_Family\")\n",
    "    if re.search(\"(?i)((raising))\", x) is not None:\n",
    "        return(\"cat_Family\") #these might be games, but probably better in family category\n",
    "    else:\n",
    "        return(x)"
   ]
  },
  {
   "cell_type": "code",
   "execution_count": 14,
   "metadata": {
    "collapsed": true
   },
   "outputs": [],
   "source": [
    "def to_Shopping(x):\n",
    "    if re.search(\"(?i)((suitcase)|(shoe))\", x) is not None:\n",
    "        return(\"cat_Shopping\")\n",
    "    if re.search(\"(?i)((shopping)|(buy)|(pay)|(sell)|(mall)|(coupon)|(amoy))\", x) is not None:\n",
    "        return(\"cat_Shopping\")\n",
    "    else:\n",
    "        return(x)\n",
    "\n",
    "def to_Beauty(x):\n",
    "    if re.search(\"(?i)((beauty)|(luxury)|(make)|(fashion)|(nail)|(hair)|(skin))\", x) is not None:\n",
    "        return(\"cat_Beauty\")\n",
    "    else:\n",
    "        return(x)"
   ]
  },
  {
   "cell_type": "code",
   "execution_count": 15,
   "metadata": {
    "collapsed": true
   },
   "outputs": [],
   "source": [
    "def to_AsIs(x):\n",
    "    '''\n",
    "    Large categories will be kept as they are.\n",
    "    '''\n",
    "    if x in [\"Industry tag\", \"Custom label\", \"Tencent\", \"unknown\"]:\n",
    "        return(\"cat_\"+x)\n",
    "    else:\n",
    "        return(x)"
   ]
  },
  {
   "cell_type": "code",
   "execution_count": 23,
   "metadata": {
    "collapsed": true
   },
   "outputs": [],
   "source": [
    "def to_Entertainment(x):\n",
    "    if re.search(\"(?i)((comic)|(movie)|(show)|(video)|(TV)|(film))\", x) is not None:\n",
    "        return(\"cat_Entertainment\")\n",
    "    if re.search(\"(?i)((cool)|(fun)|(music)|(animation)|(fiction)|(wars)|(entertainment))\", x) is not None:\n",
    "        return(\"cat_Entertainment\")\n",
    "    if re.search(\"(?i)((joke))\", x) is not None:\n",
    "        return(\"cat_Entertainment\")\n",
    "    else:\n",
    "        return(x)\n",
    "\n",
    "def to_Culture(x):\n",
    "    if re.search(\"(?i)((culture)|(antique)|(literature)|(poetry)|(paint)|(photo)|(radio)|(xian)|(yong))\", x) is not None:\n",
    "        return(\"cat_Culture\")\n",
    "    else:\n",
    "        return(x)"
   ]
  },
  {
   "cell_type": "code",
   "execution_count": 18,
   "metadata": {
    "collapsed": true
   },
   "outputs": [],
   "source": [
    "def to_Property(x):\n",
    "    if re.search(\"(?i)((property)|(estate))\", x) is not None:\n",
    "        return(\"cat_Property\")\n",
    "    else:\n",
    "        return(x)"
   ]
  },
  {
   "cell_type": "code",
   "execution_count": 17,
   "metadata": {
    "collapsed": true
   },
   "outputs": [],
   "source": [
    "def to_Communication(x):\n",
    "    if re.search(\"(?i)((IM)|(commu)|(email)|(phone)|(blogs)|(sharing)|(express))\", x) is not None:\n",
    "        return(\"cat_Communication\")\n",
    "    if re.search(\"(?i)((contact)|(weibo))\", x) is not None:\n",
    "        return(\"cat_Communication\")\n",
    "    else:\n",
    "        return(x)"
   ]
  },
  {
   "cell_type": "code",
   "execution_count": 19,
   "metadata": {
    "collapsed": true
   },
   "outputs": [],
   "source": [
    "def to_Travel(x):\n",
    "    if re.search(\"(?i)((aviatio)|(air)|(booking)|(travel)|(hotel)|(navigation))\", x) is not None:\n",
    "        return(\"cat_Travel\")\n",
    "    if re.search(\"(?i)((train)|(taxi)|(map)|(reserva)|(accom)|(bus)|(car)|(flight))\", x) is not None:\n",
    "        return(\"cat_Travel\")\n",
    "    if re.search(\"(?i)((journey)|(transport)|(tourism)|(mobility)|(region)|(rental))\", x) is not None:\n",
    "        return(\"cat_Travel\")\n",
    "    if re.search(\"(?i)((tour))\", x) is not None:\n",
    "        return(\"cat_Travel\")\n",
    "    else:\n",
    "        return(x)"
   ]
  },
  {
   "cell_type": "code",
   "execution_count": 20,
   "metadata": {
    "collapsed": false
   },
   "outputs": [],
   "source": [
    "def to_Education(x):\n",
    "    # merge information, technology and education categories\n",
    "    if re.search(\"(?i)((stud)|(language)|(educ)|(exams)|(lib)|(dict))\", x) is not None:\n",
    "        return(\"cat_Education\") # former education\n",
    "    if re.search(\"(?i)((read)|(psychology)|(book)|(novel))\", x) is not None:\n",
    "        return(\"cat_Education\") # former education\n",
    "    else:\n",
    "        return(x)\n",
    "    \n",
    "def to_Information(x):\n",
    "    if re.search(\"(?i)((news)|(information)|(magazine)|(review)|(peace))\", x) is not None:\n",
    "        return(\"cat_Information\") # former information\n",
    "    else:\n",
    "        return(x)\n",
    "    \n",
    "def to_Technology(x):\n",
    "    if re.search(\"(?i)((weather)|(wifi)|(science)|(tech)|(ping)|(smart))\", x) is not None:\n",
    "        return(\"cat_Education\") # former technology\n",
    "    if re.search(\"(?i)((engin)|(store)|(system)|(hardware)|(P2P)|(network))\", x) is not None:\n",
    "        return(\"cat_Education\") # former technology\n",
    "    else:\n",
    "        return(x)"
   ]
  },
  {
   "cell_type": "code",
   "execution_count": 21,
   "metadata": {
    "collapsed": true
   },
   "outputs": [],
   "source": [
    "def to_Health(x):\n",
    "    if re.search(\"(?i)((sport)|(parkour)|(health)|(medic)|(weight)|(recipes)|(activ))\", x) is not None:\n",
    "        return(\"cat_Health\")\n",
    "    if re.search(\"(?i)((order)|(vita)|(natur)|(doc)|(enthu)|(exercise)|(effort)|(vermice))\", x) is not None:\n",
    "        return(\"cat_Health\")\n",
    "    else:\n",
    "        return(x)"
   ]
  },
  {
   "cell_type": "code",
   "execution_count": 22,
   "metadata": {
    "collapsed": true
   },
   "outputs": [],
   "source": [
    "def to_Productivity(x):\n",
    "    if re.search(\"(?i)((manage)|(prof)|(clock)|(calendar)|(jobs)|(schedu))\", x) is not None:\n",
    "        return(\"cat_Productivity\")\n",
    "    if re.search(\"(?i)((note)|(edit)|(util)|(search)|(browser)|(desktop))\", x) is not None:\n",
    "        return(\"cat_Productivity\")\n",
    "    if re.search(\"(?i)((customiz)|(effective)|(pursu))\", x) is not None:\n",
    "        return(\"cat_Productivity\")\n",
    "    else:\n",
    "        return(x)"
   ]
  },
  {
   "cell_type": "code",
   "execution_count": 24,
   "metadata": {
    "collapsed": true
   },
   "outputs": [],
   "source": [
    "def to_Esoteric(x):\n",
    "    if re.search(\"(?i)((church)|(lottery)|(heritage)|(romance)|(myth)|(magic))\", x) is not None:\n",
    "        return(\"cat_Esoteric\")\n",
    "    if re.search(\"(?i)((fantasy)|(ident)|(horoscope))\", x) is not None:\n",
    "        return(\"cat_Esoteric\")\n",
    "    else:\n",
    "        return(x)"
   ]
  },
  {
   "cell_type": "code",
   "execution_count": 25,
   "metadata": {
    "collapsed": true
   },
   "outputs": [],
   "source": [
    "def to_House(x):\n",
    "    if re.search(\"(?i)((hous)|(deco)|(appl)|(cozy)|(comfort)|(liv)|(furn))\", x) is not None:\n",
    "        return(\"cat_House\")\n",
    "    else:\n",
    "        return(x)"
   ]
  },
  {
   "cell_type": "code",
   "execution_count": 26,
   "metadata": {
    "collapsed": true
   },
   "outputs": [],
   "source": [
    "def to_Similar(x):\n",
    "    if re.search(\"(?i)(free)\", x) is not None:\n",
    "        return(\"cat_Free\")\n",
    "    if re.search(\"(?i)(service)\", x) is not None:\n",
    "        return(\"cat_Service\")\n",
    "    else:\n",
    "        return(x)"
   ]
  },
  {
   "cell_type": "code",
   "execution_count": 27,
   "metadata": {
    "collapsed": true
   },
   "outputs": [],
   "source": [
    "def to_Category(x):\n",
    "    '''\n",
    "    The idea of this prioritisation of categories is \n",
    "    that some label have stronger separation power than others.\n",
    "    E.g.: if an app is categorised as 'child puzzle', the fact that \n",
    "    this app is made for children is regarded more important than the \n",
    "    fact that it is a puzzle game.\n",
    "    \n",
    "    All new categories start with `cat_` so that the category string \n",
    "    is changed, when categorised by a function.\n",
    "    '''    \n",
    "    initial = x\n",
    "    cond = lambda x: x==initial\n",
    "    cat=to_AsIs(x)\n",
    "    if(cond(cat)):\n",
    "        cat=to_Family(x)\n",
    "    if(cond(cat)):\n",
    "        cat=to_Beauty(x)\n",
    "    if(cond(cat)):\n",
    "        cat=to_Finance(x)\n",
    "    if(cond(cat)):\n",
    "        cat=to_Shopping(x)\n",
    "    if(cond(cat)):\n",
    "        cat=to_Games(x)\n",
    "    if(cond(cat)):\n",
    "        cat=to_Travel(x)\n",
    "    if(cond(cat)):\n",
    "        cat=to_Entertainment(x)\n",
    "    if(cond(cat)):\n",
    "        cat=to_Culture(x)    \n",
    "    if(cond(cat)):\n",
    "        cat=to_Communication(x)\n",
    "    if(cond(cat)):\n",
    "        cat=to_Property(x)\n",
    "    if(cond(cat)):\n",
    "        cat=to_Information(x)\n",
    "    if(cond(cat)):\n",
    "        cat=to_Technology(x)    \n",
    "    if(cond(cat)):\n",
    "        cat=to_Education(x)\n",
    "    if(cond(cat)):\n",
    "        cat=to_Health(x)\n",
    "    if(cond(cat)):\n",
    "        cat=to_Productivity(x)\n",
    "    if(cond(cat)):\n",
    "        cat=to_Esoteric(x)\n",
    "    if(cond(cat)):\n",
    "        cat=to_House(x)\n",
    "    if(cond(cat)):\n",
    "        cat=to_Similar(x)\n",
    "    if(cond(cat)):\n",
    "        cat=\"cat_Other\"\n",
    "    return cat\n",
    "    "
   ]
  },
  {
   "cell_type": "code",
   "execution_count": 28,
   "metadata": {
    "collapsed": false
   },
   "outputs": [],
   "source": [
    "uniq_lab[\"group\"]=uniq_lab.category.apply(to_Category)\n",
    "uniq_lab.to_csv(\"files/unique_categories_grouped.csv\",index=False)"
   ]
  },
  {
   "cell_type": "code",
   "execution_count": 29,
   "metadata": {
    "collapsed": false
   },
   "outputs": [],
   "source": [
    "# prioritise categorisation\n",
    "apps['general_groups'] = apps['category']\n",
    "\n",
    "apps.general_groups = apps[\"general_groups\"].apply(to_Category)"
   ]
  },
  {
   "cell_type": "code",
   "execution_count": 30,
   "metadata": {
    "collapsed": false
   },
   "outputs": [
    {
     "data": {
      "text/plain": [
       "cat_Property         57896\n",
       "cat_Industry tag     56902\n",
       "cat_Custom label     53936\n",
       "cat_Game_Other       53015\n",
       "cat_Tencent          49320\n",
       "cat_Finance          25135\n",
       "cat_Free             21827\n",
       "cat_Game_RPG         18416\n",
       "cat_Entertainment    17501\n",
       "cat_Game_Skill       16684\n",
       "cat_Service          13511\n",
       "cat_Productivity     12765\n",
       "cat_Family           11289\n",
       "cat_Other             7513\n",
       "cat_Communication     6540\n",
       "cat_Health            5453\n",
       "cat_Esoteric          5339\n",
       "cat_Game_Action       4780\n",
       "cat_Travel            4574\n",
       "cat_Game_Sports       4041\n",
       "cat_House             3269\n",
       "cat_Shopping          3234\n",
       "cat_unknown           2754\n",
       "cat_Education         2360\n",
       "cat_Game_Gambling      739\n",
       "cat_Culture            666\n",
       "cat_Information        337\n",
       "cat_Beauty             147\n",
       "Name: general_groups, dtype: int64"
      ]
     },
     "execution_count": 30,
     "metadata": {},
     "output_type": "execute_result"
    }
   ],
   "source": [
    "apps.general_groups.value_counts()"
   ]
  },
  {
   "cell_type": "markdown",
   "metadata": {},
   "source": [
    "We probably have to merge some categories, but first let's test them. These are setup to have some separation power. This is not a true statement. More important, as same `app_id`s can have multiple labels, is the number of occurances in the data."
   ]
  },
  {
   "cell_type": "code",
   "execution_count": 31,
   "metadata": {
    "collapsed": false
   },
   "outputs": [
    {
     "data": {
      "text/html": [
       "<div>\n",
       "<table border=\"1\" class=\"dataframe\">\n",
       "  <thead>\n",
       "    <tr style=\"text-align: right;\">\n",
       "      <th></th>\n",
       "      <th>app_id</th>\n",
       "      <th>label_id</th>\n",
       "      <th>category</th>\n",
       "      <th>general_groups</th>\n",
       "    </tr>\n",
       "  </thead>\n",
       "  <tbody>\n",
       "    <tr>\n",
       "      <th>0</th>\n",
       "      <td>7324884708820027918</td>\n",
       "      <td>251</td>\n",
       "      <td>Finance</td>\n",
       "      <td>cat_Finance</td>\n",
       "    </tr>\n",
       "    <tr>\n",
       "      <th>1</th>\n",
       "      <td>-4494216993218550286</td>\n",
       "      <td>251</td>\n",
       "      <td>Finance</td>\n",
       "      <td>cat_Finance</td>\n",
       "    </tr>\n",
       "  </tbody>\n",
       "</table>\n",
       "</div>"
      ],
      "text/plain": [
       "                app_id  label_id category general_groups\n",
       "0  7324884708820027918       251  Finance    cat_Finance\n",
       "1 -4494216993218550286       251  Finance    cat_Finance"
      ]
     },
     "execution_count": 31,
     "metadata": {},
     "output_type": "execute_result"
    }
   ],
   "source": [
    "apps.head(2)"
   ]
  },
  {
   "cell_type": "code",
   "execution_count": 32,
   "metadata": {
    "collapsed": false
   },
   "outputs": [
    {
     "name": "stdout",
     "output_type": "stream",
     "text": [
      "                app_id general_groups\n",
      "0  7324884708820027918    cat_Finance\n",
      "1 -4494216993218550286    cat_Finance\n"
     ]
    }
   ],
   "source": [
    "apps = apps.drop([\"label_id\",\"category\"], axis=1)\n",
    "print(apps.head(2))"
   ]
  },
  {
   "cell_type": "code",
   "execution_count": 34,
   "metadata": {
    "collapsed": true
   },
   "outputs": [],
   "source": [
    "apps.to_csv(\"files/finalSets/app_categories_grouped.csv\", index=False)"
   ]
  }
 ],
 "metadata": {
  "anaconda-cloud": {},
  "kernelspec": {
   "display_name": "Python [Root]",
   "language": "python",
   "name": "Python [Root]"
  },
  "language_info": {
   "codemirror_mode": {
    "name": "ipython",
    "version": 3
   },
   "file_extension": ".py",
   "mimetype": "text/x-python",
   "name": "python",
   "nbconvert_exporter": "python",
   "pygments_lexer": "ipython3",
   "version": "3.5.2"
  }
 },
 "nbformat": 4,
 "nbformat_minor": 0
}
