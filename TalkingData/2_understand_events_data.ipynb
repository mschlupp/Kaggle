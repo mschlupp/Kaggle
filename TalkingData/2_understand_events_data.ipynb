{
 "cells": [
  {
   "cell_type": "markdown",
   "metadata": {},
   "source": [
    "# Goals\n",
    "\n",
    "#### Predict Gender and age in given groups based on the datasets provided \n",
    "These datasets come in csv files connected by different identification keys. \n",
    "\n",
    "# Understand the data\n",
    "This is crucial! There are basic explanations on the competitions [website](https://www.kaggle.com/c/talkingdata-mobile-user-demographics/data). Here is the data connection diagramm given:\n",
    "![Data diagramm](data_tree.png)\n",
    "\n",
    "We also already now that the company names are provided in chinese, which is not particularly helpful. Then, we see that the apps already are categorised, which is handy. However, doubt is present that the variable can be used out-of-the box."
   ]
  },
  {
   "cell_type": "code",
   "execution_count": 1,
   "metadata": {
    "collapsed": true
   },
   "outputs": [],
   "source": [
    "# Set input dir\n",
    "import sys\n",
    "# perform imports so that we can use single cells w/o worrying about imports\n",
    "import pandas as pd\n",
    "from pandas import DataFrame as df\n",
    "import IPython as ip\n",
    "\n",
    "import seaborn as sns\n",
    "sns.set(color_codes=True)\n",
    "\n",
    "%matplotlib inline\n",
    "import matplotlib.pyplot as plt\n",
    "\n",
    "sys.path.append(\"/home/mschlupp/pythonTools\")\n",
    "tmp = %pwd\n",
    "files_dir = tmp + \"/files\" "
   ]
  },
  {
   "cell_type": "markdown",
   "metadata": {},
   "source": [
    "#### Load some nice colors from [my github](https://github.com/mschlupp/pythonTools/tree/master/plotting).\n",
    "Then delete a few lines of the original file to make the code a bit leaner."
   ]
  },
  {
   "cell_type": "code",
   "execution_count": 4,
   "metadata": {
    "collapsed": true
   },
   "outputs": [],
   "source": [
    "# %load '/home/mschlupp/pythonTools/plotting/nice_colors.py'\n",
    "\n",
    "'''\n",
    "Color dictionaries from \n",
    "http://tableaufriction.blogspot.de/2012/11/finally-you-can-use-tableau-data-colors.html\n",
    "'''\n",
    "\n",
    "Tableau10_Medium = { \n",
    "\t\"blue\"   : (114/255.,158/255.,206/255.),\n",
    "\t\"orange\" : (255/255.,158/255.,74/255.),\n",
    "\t\"green\"  : (103/255.,191/255.,92/255.),\n",
    "\t\"red\"    : (237/255.,102/255.,93/255.),\n",
    "\t\"purple\" : (173/255.,139/255.,201/255.),\n",
    "\t\"brown\"  : (168/255.,120/255.,110/255.),\n",
    "\t\"pink\"   : (237/255.,151/255.,202/255.),\n",
    "\t\"gray\"   : (162/255.,162/255.,162/255.),\n",
    "\t\"olive\"  : (205/255.,204/255.,93/255.),\n",
    "\t\"cyan\"   : (109/255.,204/255.,218/255.)\n",
    "}\n",
    "\n",
    "ColorBlind10 = {\n",
    "\t\"azure\"        : (0./255.,107./255.,164/255.),\n",
    "\t\"orange\"       : (255./255.,128./255.,14/255.),\n",
    "\t\"grey_medium\"  : (171./255.,171./255.,171/255.),\n",
    "\t\"grey_dark\"    : (89./255.,89./255.,89/255.),\n",
    "\t\"blue_medium\"  : (95./255.,158./255.,209/255.),\n",
    "\t\"orange_dark\"  : (200./255.,82./255.,0/255.),\n",
    "\t\"grey\"         : (137./255.,137./255.,137/255.),\n",
    "\t\"blue_light\"   : (162./255.,200./255.,236/255.),\n",
    "\t\"orange_light\" : (255./255.,188./255.,121/255.),\n",
    "\t\"grey_light\"   : (207./255.,207./255.,207/255.)\n",
    "}"
   ]
  },
  {
   "cell_type": "markdown",
   "metadata": {},
   "source": [
    "We left of the first notebook, `1_understand_data`, with a merged data file. We will load it first."
   ]
  },
  {
   "cell_type": "code",
   "execution_count": 8,
   "metadata": {
    "collapsed": false
   },
   "outputs": [
    {
     "data": {
      "text/html": [
       "<div>\n",
       "<table border=\"1\" class=\"dataframe\">\n",
       "  <thead>\n",
       "    <tr style=\"text-align: right;\">\n",
       "      <th></th>\n",
       "      <th>Unnamed: 0</th>\n",
       "      <th>age</th>\n",
       "      <th>device_id</th>\n",
       "      <th>gender</th>\n",
       "      <th>group</th>\n",
       "      <th>isTrain</th>\n",
       "      <th>phone_brand</th>\n",
       "      <th>device_model</th>\n",
       "    </tr>\n",
       "  </thead>\n",
       "  <tbody>\n",
       "    <tr>\n",
       "      <th>0</th>\n",
       "      <td>0</td>\n",
       "      <td>35</td>\n",
       "      <td>-8076087639492063270</td>\n",
       "      <td>M</td>\n",
       "      <td>M32-38</td>\n",
       "      <td>1</td>\n",
       "      <td>小米</td>\n",
       "      <td>MI 2</td>\n",
       "    </tr>\n",
       "    <tr>\n",
       "      <th>1</th>\n",
       "      <td>1</td>\n",
       "      <td>35</td>\n",
       "      <td>-2897161552818060146</td>\n",
       "      <td>M</td>\n",
       "      <td>M32-38</td>\n",
       "      <td>1</td>\n",
       "      <td>小米</td>\n",
       "      <td>MI 2</td>\n",
       "    </tr>\n",
       "  </tbody>\n",
       "</table>\n",
       "</div>"
      ],
      "text/plain": [
       "   Unnamed: 0  age            device_id gender   group  isTrain phone_brand  \\\n",
       "0           0   35 -8076087639492063270      M  M32-38        1          小米   \n",
       "1           1   35 -2897161552818060146      M  M32-38        1          小米   \n",
       "\n",
       "  device_model  \n",
       "0         MI 2  \n",
       "1         MI 2  "
      ]
     },
     "execution_count": 8,
     "metadata": {},
     "output_type": "execute_result"
    }
   ],
   "source": [
    "traintest_phone = pd.read_csv(files_dir+'/traintest_phone.csv')\n",
    "traintest_phone.head(2)"
   ]
  }
 ],
 "metadata": {
  "anaconda-cloud": {},
  "kernelspec": {
   "display_name": "Python [Root]",
   "language": "python",
   "name": "Python [Root]"
  },
  "language_info": {
   "codemirror_mode": {
    "name": "ipython",
    "version": 3
   },
   "file_extension": ".py",
   "mimetype": "text/x-python",
   "name": "python",
   "nbconvert_exporter": "python",
   "pygments_lexer": "ipython3",
   "version": "3.5.2"
  }
 },
 "nbformat": 4,
 "nbformat_minor": 0
}
