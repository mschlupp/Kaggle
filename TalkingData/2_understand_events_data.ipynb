{
 "cells": [
  {
   "cell_type": "markdown",
   "metadata": {},
   "source": [
    "# Goals\n",
    "\n",
    "#### Predict Gender and age in given groups based on the datasets provided \n",
    "These datasets come in csv files connected by different identification keys. \n",
    "\n",
    "# Understand the data\n",
    "This is crucial! There are basic explanations on the competitions [website](https://www.kaggle.com/c/talkingdata-mobile-user-demographics/data). Here is the data connection diagramm given:\n",
    "![Data diagramm](data_tree.png)\n",
    "\n",
    "We also already now that the company names are provided in chinese, which is not particularly helpful. Then, we see that the apps already are categorised, which is handy. However, doubt is present that the variable can be used out-of-the box."
   ]
  },
  {
   "cell_type": "code",
   "execution_count": 2,
   "metadata": {
    "collapsed": true
   },
   "outputs": [],
   "source": [
    "# Set input dir\n",
    "import sys\n",
    "# perform imports so that we can use single cells w/o worrying about imports\n",
    "import pandas as pd\n",
    "from pandas import DataFrame as df\n",
    "import IPython as ip\n",
    "\n",
    "import seaborn as sns\n",
    "sns.set(color_codes=True)\n",
    "sns.set_context('poster',rc={\"figure.figsize\": (24, 10)})\n",
    "sns.set_style('ticks')\n",
    "\n",
    "%matplotlib inline\n",
    "import matplotlib.pyplot as plt\n"
   ]
  },
  {
   "cell_type": "code",
   "execution_count": 3,
   "metadata": {
    "collapsed": true
   },
   "outputs": [],
   "source": [
    "sys.path.append(\"/home/mschlupp/pythonTools\")\n",
    "tmp = %pwd\n",
    "files_dir = tmp + \"/files/\" "
   ]
  },
  {
   "cell_type": "markdown",
   "metadata": {},
   "source": [
    "#### Load some nice colors from [my github](https://github.com/mschlupp/pythonTools/tree/master/plotting).\n",
    "Then delete a few lines of the original file to make the code a bit leaner."
   ]
  },
  {
   "cell_type": "code",
   "execution_count": 4,
   "metadata": {
    "collapsed": true
   },
   "outputs": [],
   "source": [
    "# %load '/home/mschlupp/pythonTools/plotting/nice_colors.py'\n",
    "\n",
    "'''\n",
    "Color dictionaries from \n",
    "http://tableaufriction.blogspot.de/2012/11/finally-you-can-use-tableau-data-colors.html\n",
    "'''\n",
    "\n",
    "Tableau10_Medium = { \n",
    "\t\"blue\"   : (114/255.,158/255.,206/255.),\n",
    "\t\"orange\" : (255/255.,158/255.,74/255.),\n",
    "\t\"green\"  : (103/255.,191/255.,92/255.),\n",
    "\t\"red\"    : (237/255.,102/255.,93/255.),\n",
    "\t\"purple\" : (173/255.,139/255.,201/255.),\n",
    "\t\"brown\"  : (168/255.,120/255.,110/255.),\n",
    "\t\"pink\"   : (237/255.,151/255.,202/255.),\n",
    "\t\"gray\"   : (162/255.,162/255.,162/255.),\n",
    "\t\"olive\"  : (205/255.,204/255.,93/255.),\n",
    "\t\"cyan\"   : (109/255.,204/255.,218/255.)\n",
    "}\n",
    "\n",
    "ColorBlind10 = {\n",
    "\t\"azure\"        : (0./255.,107./255.,164/255.),\n",
    "\t\"orange\"       : (255./255.,128./255.,14/255.),\n",
    "\t\"grey_medium\"  : (171./255.,171./255.,171/255.),\n",
    "\t\"grey_dark\"    : (89./255.,89./255.,89/255.),\n",
    "\t\"blue_medium\"  : (95./255.,158./255.,209/255.),\n",
    "\t\"orange_dark\"  : (200./255.,82./255.,0/255.),\n",
    "\t\"grey\"         : (137./255.,137./255.,137/255.),\n",
    "\t\"blue_light\"   : (162./255.,200./255.,236/255.),\n",
    "\t\"orange_light\" : (255./255.,188./255.,121/255.),\n",
    "\t\"grey_light\"   : (207./255.,207./255.,207/255.)\n",
    "}"
   ]
  },
  {
   "cell_type": "markdown",
   "metadata": {},
   "source": [
    "We left of the first notebook, `1_understand_data`, with a merged data file. We will load it first."
   ]
  },
  {
   "cell_type": "code",
   "execution_count": 5,
   "metadata": {
    "collapsed": false
   },
   "outputs": [
    {
     "data": {
      "text/html": [
       "<div>\n",
       "<table border=\"1\" class=\"dataframe\">\n",
       "  <thead>\n",
       "    <tr style=\"text-align: right;\">\n",
       "      <th></th>\n",
       "      <th>age</th>\n",
       "      <th>device_id</th>\n",
       "      <th>gender</th>\n",
       "      <th>group</th>\n",
       "      <th>isTrain</th>\n",
       "      <th>phone_brand</th>\n",
       "      <th>device_model</th>\n",
       "    </tr>\n",
       "  </thead>\n",
       "  <tbody>\n",
       "    <tr>\n",
       "      <th>0</th>\n",
       "      <td>35</td>\n",
       "      <td>-8076087639492063270</td>\n",
       "      <td>M</td>\n",
       "      <td>M32-38</td>\n",
       "      <td>1</td>\n",
       "      <td>小米</td>\n",
       "      <td>MI 2</td>\n",
       "    </tr>\n",
       "    <tr>\n",
       "      <th>1</th>\n",
       "      <td>35</td>\n",
       "      <td>-2897161552818060146</td>\n",
       "      <td>M</td>\n",
       "      <td>M32-38</td>\n",
       "      <td>1</td>\n",
       "      <td>小米</td>\n",
       "      <td>MI 2</td>\n",
       "    </tr>\n",
       "  </tbody>\n",
       "</table>\n",
       "</div>"
      ],
      "text/plain": [
       "   age            device_id gender   group  isTrain phone_brand device_model\n",
       "0   35 -8076087639492063270      M  M32-38        1          小米         MI 2\n",
       "1   35 -2897161552818060146      M  M32-38        1          小米         MI 2"
      ]
     },
     "execution_count": 5,
     "metadata": {},
     "output_type": "execute_result"
    }
   ],
   "source": [
    "traintest_phone = pd.read_csv(files_dir+'traintest_phone.csv',index_col=0)\n",
    "traintest_phone.head(2)"
   ]
  },
  {
   "cell_type": "code",
   "execution_count": 6,
   "metadata": {
    "collapsed": false
   },
   "outputs": [
    {
     "data": {
      "text/html": [
       "<div>\n",
       "<table border=\"1\" class=\"dataframe\">\n",
       "  <thead>\n",
       "    <tr style=\"text-align: right;\">\n",
       "      <th></th>\n",
       "      <th>event_id</th>\n",
       "      <th>device_id</th>\n",
       "      <th>timestamp</th>\n",
       "      <th>longitude</th>\n",
       "      <th>latitude</th>\n",
       "    </tr>\n",
       "  </thead>\n",
       "  <tbody>\n",
       "    <tr>\n",
       "      <th>0</th>\n",
       "      <td>1</td>\n",
       "      <td>29182687948017175</td>\n",
       "      <td>2016-05-01 00:55:25</td>\n",
       "      <td>121.38</td>\n",
       "      <td>31.24</td>\n",
       "    </tr>\n",
       "    <tr>\n",
       "      <th>1</th>\n",
       "      <td>2</td>\n",
       "      <td>-6401643145415154744</td>\n",
       "      <td>2016-05-01 00:54:12</td>\n",
       "      <td>103.65</td>\n",
       "      <td>30.97</td>\n",
       "    </tr>\n",
       "  </tbody>\n",
       "</table>\n",
       "</div>"
      ],
      "text/plain": [
       "   event_id            device_id            timestamp  longitude  latitude\n",
       "0         1    29182687948017175  2016-05-01 00:55:25     121.38     31.24\n",
       "1         2 -6401643145415154744  2016-05-01 00:54:12     103.65     30.97"
      ]
     },
     "execution_count": 6,
     "metadata": {},
     "output_type": "execute_result"
    }
   ],
   "source": [
    "# Now we load the events data\n",
    "events = pd.read_csv(files_dir+'events.csv')\n",
    "events.head(2)"
   ]
  },
  {
   "cell_type": "code",
   "execution_count": 7,
   "metadata": {
    "collapsed": false
   },
   "outputs": [],
   "source": [
    "# load other functions from my github, and delete lines.\n",
    "# %load /home/mschlupp/pythonTools/utilities.py\n",
    "'''\n",
    "Module containing small general helper functions\n",
    "'''\n",
    "\n",
    "def showUniques(df):\n",
    "\t\t\"\"\"\n",
    "\t\tHelper function that shows unique entries per DataFrame column.\n",
    "\n",
    "\t\tArguments:\n",
    "\t\tdf: the pandas DataFrame in question.\n",
    "\t\t\"\"\"\n",
    "\t\t\n",
    "\t\timport pandas as pd\n",
    "\t\tfrom pandas import DataFrame \n",
    "\n",
    "\t\tprint(\"Number of rows: \", len(df))\n",
    "\t\tprint(\"Number of unique values per column: \")\n",
    "\t\tfor col in df.columns:\n",
    "\t\t\t\tprint(\"Column {}: \".format(col), df[col].nunique())\n"
   ]
  },
  {
   "cell_type": "code",
   "execution_count": 8,
   "metadata": {
    "collapsed": false
   },
   "outputs": [
    {
     "name": "stdout",
     "output_type": "stream",
     "text": [
      "gender: \n",
      "Number of rows:  186716\n",
      "Number of unique values per column: \n",
      "Column age:  86\n",
      "Column device_id:  186716\n",
      "Column gender:  3\n",
      "Column group:  13\n",
      "Column isTrain:  2\n",
      "Column phone_brand:  131\n",
      "Column device_model:  1599\n",
      "======================= \n",
      "events: \n",
      "Number of rows:  3252950\n",
      "Number of unique values per column: \n",
      "Column event_id:  3252950\n",
      "Column device_id:  60865\n",
      "Column timestamp:  588125\n",
      "Column longitude:  3588\n",
      "Column latitude:  3086\n"
     ]
    }
   ],
   "source": [
    "print('gender: ')\n",
    "showUniques(traintest_phone)\n",
    "print('=======================','\\nevents: ')\n",
    "showUniques(events)"
   ]
  },
  {
   "cell_type": "code",
   "execution_count": 9,
   "metadata": {
    "collapsed": false
   },
   "outputs": [
    {
     "data": {
      "text/plain": [
       "count    58503.000000\n",
       "mean         0.398424\n",
       "std          0.489578\n",
       "min          0.000000\n",
       "25%          0.000000\n",
       "50%          0.000000\n",
       "75%          1.000000\n",
       "max          1.000000\n",
       "Name: isTrain, dtype: float64"
      ]
     },
     "execution_count": 9,
     "metadata": {},
     "output_type": "execute_result"
    }
   ],
   "source": [
    "traintest_phone.isTrain[traintest_phone.device_id.isin(events.device_id)].describe()"
   ]
  },
  {
   "cell_type": "code",
   "execution_count": 10,
   "metadata": {
    "collapsed": false
   },
   "outputs": [],
   "source": [
    "# being paranoid again...\n",
    "train = pd.read_csv('files/gender_age_train.csv')\n",
    "test = pd.read_csv('files/gender_age_test.csv')"
   ]
  },
  {
   "cell_type": "code",
   "execution_count": 11,
   "metadata": {
    "collapsed": false
   },
   "outputs": [],
   "source": [
    "tr = train.device_id.isin(events.device_id)\n",
    "te = test.device_id.isin(events.device_id)"
   ]
  },
  {
   "cell_type": "code",
   "execution_count": 12,
   "metadata": {
    "collapsed": false
   },
   "outputs": [
    {
     "name": "stdout",
     "output_type": "stream",
     "text": [
      "False    51336\n",
      "True     23309\n",
      "Name: device_id, dtype: int64\n",
      "False    76877\n",
      "True     35194\n",
      "Name: device_id, dtype: int64\n"
     ]
    }
   ],
   "source": [
    "print(tr.value_counts())#.apply(lambda x: x/len(tr.index)))\n",
    "print(te.value_counts())#.apply(lambda x: x/len(te.index)))"
   ]
  },
  {
   "cell_type": "markdown",
   "metadata": {},
   "source": [
    "This comes as a surprise. Only ~31% of the `device_id`s have event information available. At least the percentage is basically the same in the training and testing set.\n",
    "\n",
    "Can we learn something from this?"
   ]
  },
  {
   "cell_type": "code",
   "execution_count": 13,
   "metadata": {
    "collapsed": false
   },
   "outputs": [
    {
     "name": "stdout",
     "output_type": "stream",
     "text": [
      "This does not seem to work. :(\n"
     ]
    },
    {
     "name": "stderr",
     "output_type": "stream",
     "text": [
      "/home/mschlupp/anaconda3/lib/python3.5/site-packages/ipykernel/__main__.py:6: SettingWithCopyWarning: \n",
      "A value is trying to be set on a copy of a slice from a DataFrame\n",
      "\n",
      "See the caveats in the documentation: http://pandas.pydata.org/pandas-docs/stable/indexing.html#indexing-view-versus-copy\n"
     ]
    }
   ],
   "source": [
    "try:\n",
    "    traintest_phone['hasEvents'] = 1 if traintest_phone.device_id.isin(events.device_id) else 0\n",
    "except ValueError:\n",
    "    print('This does not seem to work. :(')\n",
    "    traintest_phone['hasEvents'] = 0\n",
    "    traintest_phone.hasEvents[traintest_phone.device_id.isin(events.device_id)] = 1\n",
    "    "
   ]
  },
  {
   "cell_type": "code",
   "execution_count": 14,
   "metadata": {
    "collapsed": false
   },
   "outputs": [
    {
     "data": {
      "text/html": [
       "<div>\n",
       "<table border=\"1\" class=\"dataframe\">\n",
       "  <thead>\n",
       "    <tr style=\"text-align: right;\">\n",
       "      <th></th>\n",
       "      <th>age</th>\n",
       "      <th>device_id</th>\n",
       "      <th>gender</th>\n",
       "      <th>group</th>\n",
       "      <th>isTrain</th>\n",
       "      <th>phone_brand</th>\n",
       "      <th>device_model</th>\n",
       "      <th>hasEvents</th>\n",
       "    </tr>\n",
       "  </thead>\n",
       "  <tbody>\n",
       "    <tr>\n",
       "      <th>0</th>\n",
       "      <td>35</td>\n",
       "      <td>-8076087639492063270</td>\n",
       "      <td>M</td>\n",
       "      <td>M32-38</td>\n",
       "      <td>1</td>\n",
       "      <td>小米</td>\n",
       "      <td>MI 2</td>\n",
       "      <td>0</td>\n",
       "    </tr>\n",
       "    <tr>\n",
       "      <th>1</th>\n",
       "      <td>35</td>\n",
       "      <td>-2897161552818060146</td>\n",
       "      <td>M</td>\n",
       "      <td>M32-38</td>\n",
       "      <td>1</td>\n",
       "      <td>小米</td>\n",
       "      <td>MI 2</td>\n",
       "      <td>0</td>\n",
       "    </tr>\n",
       "    <tr>\n",
       "      <th>2</th>\n",
       "      <td>35</td>\n",
       "      <td>-8260683887967679142</td>\n",
       "      <td>M</td>\n",
       "      <td>M32-38</td>\n",
       "      <td>1</td>\n",
       "      <td>小米</td>\n",
       "      <td>MI 2</td>\n",
       "      <td>1</td>\n",
       "    </tr>\n",
       "  </tbody>\n",
       "</table>\n",
       "</div>"
      ],
      "text/plain": [
       "   age            device_id gender   group  isTrain phone_brand device_model  \\\n",
       "0   35 -8076087639492063270      M  M32-38        1          小米         MI 2   \n",
       "1   35 -2897161552818060146      M  M32-38        1          小米         MI 2   \n",
       "2   35 -8260683887967679142      M  M32-38        1          小米         MI 2   \n",
       "\n",
       "   hasEvents  \n",
       "0          0  \n",
       "1          0  \n",
       "2          1  "
      ]
     },
     "execution_count": 14,
     "metadata": {},
     "output_type": "execute_result"
    }
   ],
   "source": [
    "traintest_phone.head(3)"
   ]
  },
  {
   "cell_type": "code",
   "execution_count": 15,
   "metadata": {
    "collapsed": false
   },
   "outputs": [
    {
     "data": {
      "image/png": "[encoded data removed]",
      "text/plain": [
       "<matplotlib.figure.Figure at 0x7f1255a0f1d0>"
      ]
     },
     "metadata": {},
     "output_type": "display_data"
    }
   ],
   "source": [
    "plt.pie(traintest_phone.gender[(traintest_phone.hasEvents==1) & (traintest_phone.isTrain==1)].value_counts(),\n",
    "       colors=[ColorBlind10['blue_light'],Tableau10_Medium['red']],\n",
    "       labels=traintest_phone.gender[traintest_phone.isTrain==1].value_counts().index, autopct='%2.2f%%', startangle=90);\n",
    "plt.axis('equal');\n"
   ]
  },
  {
   "cell_type": "code",
   "execution_count": 16,
   "metadata": {
    "collapsed": false
   },
   "outputs": [
    {
     "data": {
      "image/png": "[encoded data removed]",
      "text/plain": [
       "<matplotlib.figure.Figure at 0x7f12558e5f28>"
      ]
     },
     "metadata": {},
     "output_type": "display_data"
    }
   ],
   "source": [
    "plt.pie(traintest_phone.gender[(traintest_phone.hasEvents==0) & (traintest_phone.isTrain==1)].value_counts(),\n",
    "       colors=[ColorBlind10['blue_light'],Tableau10_Medium['red']],\n",
    "       labels=traintest_phone.gender[traintest_phone.isTrain==1].value_counts().index, autopct='%2.2f%%', startangle=90);\n",
    "plt.axis('equal');"
   ]
  },
  {
   "cell_type": "markdown",
   "metadata": {},
   "source": [
    "Ok, no big differents in gender (original relations: 64.18% male and 35.82% female). How about age?"
   ]
  },
  {
   "cell_type": "code",
   "execution_count": 17,
   "metadata": {
    "collapsed": false
   },
   "outputs": [
    {
     "name": "stderr",
     "output_type": "stream",
     "text": [
      "/home/mschlupp/anaconda3/lib/python3.5/site-packages/statsmodels/nonparametric/kdetools.py:20: VisibleDeprecationWarning: using a non-integer number instead of an integer will result in an error in the future\n",
      "  y = X[:m/2+1] + np.r_[0,X[m/2+1:],0]*1j\n"
     ]
    },
    {
     "data": {
      "image/png": "[encoded data removed]",
      "text/plain": [
       "<matplotlib.figure.Figure at 0x7f1255999ba8>"
      ]
     },
     "metadata": {},
     "output_type": "display_data"
    }
   ],
   "source": [
    "sns.distplot(traintest_phone.age[(traintest_phone.isTrain==1) \n",
    "                                 & (traintest_phone.hasEvents==1)\n",
    "                                & (traintest_phone.gender=='F')],\n",
    "            color=Tableau10_Medium['blue'], hist=False,\n",
    "            bins=80);\n",
    "\n",
    "sns.distplot(traintest_phone.age[(traintest_phone.isTrain==1) \n",
    "                                 & (traintest_phone.hasEvents==1)\n",
    "                                & (traintest_phone.gender=='M')],\n",
    "            color=Tableau10_Medium['red'], hist=False,\n",
    "            bins=80);\n",
    "\n",
    "sns.distplot(traintest_phone.age[(traintest_phone.isTrain==1)\n",
    "                                 & (traintest_phone.hasEvents==0)],\n",
    "            color=Tableau10_Medium['green'], hist=False,\n",
    "            bins=80);\n"
   ]
  },
  {
   "cell_type": "markdown",
   "metadata": {},
   "source": [
    "Only very slight differences."
   ]
  },
  {
   "cell_type": "code",
   "execution_count": 18,
   "metadata": {
    "collapsed": false
   },
   "outputs": [
    {
     "name": "stdout",
     "output_type": "stream",
     "text": [
      "3252950\n"
     ]
    },
    {
     "data": {
      "text/html": [
       "<div>\n",
       "<table border=\"1\" class=\"dataframe\">\n",
       "  <thead>\n",
       "    <tr style=\"text-align: right;\">\n",
       "      <th></th>\n",
       "      <th>event_id</th>\n",
       "      <th>device_id</th>\n",
       "      <th>timestamp</th>\n",
       "      <th>longitude</th>\n",
       "      <th>latitude</th>\n",
       "    </tr>\n",
       "  </thead>\n",
       "  <tbody>\n",
       "    <tr>\n",
       "      <th>0</th>\n",
       "      <td>1</td>\n",
       "      <td>29182687948017175</td>\n",
       "      <td>2016-05-01 00:55:25</td>\n",
       "      <td>121.38</td>\n",
       "      <td>31.24</td>\n",
       "    </tr>\n",
       "    <tr>\n",
       "      <th>1</th>\n",
       "      <td>2</td>\n",
       "      <td>-6401643145415154744</td>\n",
       "      <td>2016-05-01 00:54:12</td>\n",
       "      <td>103.65</td>\n",
       "      <td>30.97</td>\n",
       "    </tr>\n",
       "  </tbody>\n",
       "</table>\n",
       "</div>"
      ],
      "text/plain": [
       "   event_id            device_id            timestamp  longitude  latitude\n",
       "0         1    29182687948017175  2016-05-01 00:55:25     121.38     31.24\n",
       "1         2 -6401643145415154744  2016-05-01 00:54:12     103.65     30.97"
      ]
     },
     "execution_count": 18,
     "metadata": {},
     "output_type": "execute_result"
    }
   ],
   "source": [
    "print(len(events))\n",
    "events.head(2)"
   ]
  },
  {
   "cell_type": "markdown",
   "metadata": {},
   "source": [
    "We can probably learn something from the number of events per `device_id`."
   ]
  },
  {
   "cell_type": "code",
   "execution_count": 19,
   "metadata": {
    "collapsed": false
   },
   "outputs": [],
   "source": [
    "evts = events.groupby('device_id')"
   ]
  },
  {
   "cell_type": "code",
   "execution_count": 20,
   "metadata": {
    "collapsed": false
   },
   "outputs": [
    {
     "data": {
      "text/plain": [
       "device_id\n",
       "-9222956879900151005    65\n",
       "-9222661944218806987     8\n",
       "-9222399302879214035    10\n",
       "-9221825537663503111    99\n",
       "Name: event_id, dtype: int64"
      ]
     },
     "execution_count": 20,
     "metadata": {},
     "output_type": "execute_result"
    }
   ],
   "source": [
    "nhits = evts.event_id.count()\n",
    "nhits.head(4)"
   ]
  },
  {
   "cell_type": "code",
   "execution_count": 21,
   "metadata": {
    "collapsed": false
   },
   "outputs": [
    {
     "data": {
      "text/plain": [
       "8"
      ]
     },
     "execution_count": 21,
     "metadata": {},
     "output_type": "execute_result"
    }
   ],
   "source": [
    "nhits[-9222661944218806987]"
   ]
  },
  {
   "cell_type": "code",
   "execution_count": 22,
   "metadata": {
    "collapsed": false
   },
   "outputs": [
    {
     "data": {
      "text/plain": [
       "2    -8260683887967679142\n",
       "11    7477216237379271436\n",
       "Name: device_id, dtype: int64"
      ]
     },
     "execution_count": 22,
     "metadata": {},
     "output_type": "execute_result"
    }
   ],
   "source": [
    "indx = traintest_phone.device_id[traintest_phone.device_id.isin(events.device_id)]\n",
    "indx.head(2)"
   ]
  },
  {
   "cell_type": "code",
   "execution_count": 23,
   "metadata": {
    "collapsed": false
   },
   "outputs": [
    {
     "name": "stdout",
     "output_type": "stream",
     "text": [
      "58503 60865\n"
     ]
    }
   ],
   "source": [
    "print(len(indx),len(nhits))"
   ]
  },
  {
   "cell_type": "code",
   "execution_count": 24,
   "metadata": {
    "collapsed": false,
    "scrolled": true
   },
   "outputs": [],
   "source": [
    "traintest_phone['nEvts']=0 # first set all nEvts to 0 as most have no event info available"
   ]
  },
  {
   "cell_type": "code",
   "execution_count": 25,
   "metadata": {
    "collapsed": false
   },
   "outputs": [
    {
     "data": {
      "text/plain": [
       "58503"
      ]
     },
     "execution_count": 25,
     "metadata": {},
     "output_type": "execute_result"
    }
   ],
   "source": [
    "# Now drop all the device_ids that are not in the training or test set\n",
    "nhits = nhits[nhits.index.isin(traintest_phone.device_id)]\n",
    "len(nhits)"
   ]
  },
  {
   "cell_type": "code",
   "execution_count": 52,
   "metadata": {
    "collapsed": false
   },
   "outputs": [
    {
     "name": "stderr",
     "output_type": "stream",
     "text": [
      "/home/mschlupp/anaconda3/lib/python3.5/site-packages/ipykernel/__main__.py:3: SettingWithCopyWarning: \n",
      "A value is trying to be set on a copy of a slice from a DataFrame\n",
      "\n",
      "See the caveats in the documentation: http://pandas.pydata.org/pandas-docs/stable/indexing.html#indexing-view-versus-copy\n",
      "  app.launch_new_instance()\n"
     ]
    },
    {
     "name": "stdout",
     "output_type": "stream",
     "text": [
      "1 -8260683887967679142\n",
      "0.0  percent done.\n",
      "0 2229782027650717857\n",
      "8.54827957540639  percent done.\n",
      "0 -7478158881594228553\n",
      "17.09655915081278  percent done.\n",
      "0 -7887038045275129664\n",
      "25.644838726219167  percent done.\n",
      "0 -6243601313763071956\n",
      "34.19311830162556  percent done.\n",
      "0 -8300883621702907742\n",
      "42.74139787703194  percent done.\n",
      "0 1349601398804316935\n",
      "51.28967745243833  percent done.\n",
      "0 596045045353163474\n",
      "59.83795702784472  percent done.\n",
      "0 2252924856702561523\n",
      "68.38623660325112  percent done.\n",
      "0 5515675028870564447\n",
      "76.9345161786575  percent done.\n",
      "0 -4543791874687544846\n",
      "85.48279575406389  percent done.\n",
      "0 4516975590551813688\n",
      "94.03107532947028  percent done.\n"
     ]
    }
   ],
   "source": [
    "for i,x in enumerate(traintest_phone.iloc[indx.index].iterrows()):\n",
    "    #print(x)\n",
    "    traintest_phone.nEvts[x[0]]=nhits[x[1]['device_id']]\n",
    "    if i % 5001 == 0:\n",
    "        print(x[1]['nEvts'], x[1]['device_id'])\n",
    "        print(float(i)/len(indx)*100, \" percent done.\")"
   ]
  },
  {
   "cell_type": "markdown",
   "metadata": {
    "collapsed": true
   },
   "source": [
    "### Further ideas:\n",
    "use mean & spread of the latitude and longitude. "
   ]
  },
  {
   "cell_type": "code",
   "execution_count": 63,
   "metadata": {
    "collapsed": false
   },
   "outputs": [
    {
     "data": {
      "text/plain": [
       "8"
      ]
     },
     "execution_count": 63,
     "metadata": {},
     "output_type": "execute_result"
    }
   ],
   "source": [
    "nhits[-9222661944218806987]"
   ]
  },
  {
   "cell_type": "code",
   "execution_count": 76,
   "metadata": {
    "collapsed": true
   },
   "outputs": [],
   "source": [
    "traintest_phone.to_csvnfiles_diriririrhone.to_csv(files_dir+'traintest_phone_evts.csv')"
   ]
  },
  {
   "cell_type": "code",
   "execution_count": 84,
   "metadata": {
    "collapsed": false
   },
   "outputs": [
    {
     "data": {
      "text/plain": [
       "60865"
      ]
     },
     "execution_count": 84,
     "metadata": {},
     "output_type": "execute_result"
    }
   ],
   "source": [
    "len(evts.longitude.mean())"
   ]
  },
  {
   "cell_type": "code",
   "execution_count": 91,
   "metadata": {
    "collapsed": false
   },
   "outputs": [],
   "source": [
    "# calculate mean and variance of longitude and latitude\n",
    "# reduce to relevant device_ids \n",
    "\n",
    "long_mean = evts.longitude.mean()\n",
    "long_mean = long_mean[long_mean.index.isin(traintest_phone.device_id)]\n",
    "long_var = evts.longitude.var()\n",
    "long_var = long_var[long_var.index.isin(traintest_phone.device_id)]\n",
    "\n",
    "lat_mean = evts.latitude.mean()\n",
    "lat_mean = lat_mean[lat_mean.index.isin(traintest_phone.device_id)]\n",
    "lat_var = evts.latitude.var()\n",
    "lat_var = lat_var[lat_var.index.isin(traintest_phone.device_id)]\n"
   ]
  },
  {
   "cell_type": "code",
   "execution_count": 93,
   "metadata": {
    "collapsed": false
   },
   "outputs": [],
   "source": [
    "# Give default values our new values\n",
    "traintest_phone['longitude_mean'] =-1\n",
    "traintest_phone['longitude_variance'] =-1\n",
    "traintest_phone['latitude_mean'] =-1\n",
    "traintest_phone['latitude_variance'] =-1"
   ]
  },
  {
   "cell_type": "code",
   "execution_count": 112,
   "metadata": {
    "collapsed": false,
    "scrolled": true
   },
   "outputs": [
    {
     "name": "stderr",
     "output_type": "stream",
     "text": [
      "/home/mschlupp/anaconda3/lib/python3.5/site-packages/pandas-0.17.1-py3.5-linux-x86_64.egg/pandas/core/indexing.py:117: SettingWithCopyWarning: \n",
      "A value is trying to be set on a copy of a slice from a DataFrame\n",
      "\n",
      "See the caveats in the documentation: http://pandas.pydata.org/pandas-docs/stable/indexing.html#indexing-view-versus-copy\n",
      "  self._setitem_with_indexer(indexer, value)\n"
     ]
    }
   ],
   "source": [
    "# set values to mean and var values\n",
    "\n",
    "traintest_phone.longitude_mean.iloc[indx.index] = [long_mean[x] for x in indx]\n",
    "traintest_phone.longitude_variance.iloc[indx.index] = [long_var[x] for x in indx]\n",
    "traintest_phone.latitude_mean.iloc[indx.index] = [lat_mean[x] for x in indx]\n",
    "traintest_phone.latitude_variance.iloc[indx.index] = [lat_var[x] for x in indx]"
   ]
  },
  {
   "cell_type": "code",
   "execution_count": 199,
   "metadata": {
    "collapsed": false,
    "scrolled": true
   },
   "outputs": [
    {
     "name": "stderr",
     "output_type": "stream",
     "text": [
      "/home/mschlupp/anaconda3/lib/python3.5/site-packages/ipykernel/__main__.py:1: SettingWithCopyWarning: \n",
      "A value is trying to be set on a copy of a slice from a DataFrame\n",
      "\n",
      "See the caveats in the documentation: http://pandas.pydata.org/pandas-docs/stable/indexing.html#indexing-view-versus-copy\n",
      "  if __name__ == '__main__':\n",
      "/home/mschlupp/anaconda3/lib/python3.5/site-packages/ipykernel/__main__.py:2: SettingWithCopyWarning: \n",
      "A value is trying to be set on a copy of a slice from a DataFrame\n",
      "\n",
      "See the caveats in the documentation: http://pandas.pydata.org/pandas-docs/stable/indexing.html#indexing-view-versus-copy\n",
      "  from ipykernel import kernelapp as app\n"
     ]
    }
   ],
   "source": [
    "traintest_phone.latitude_variance[traintest_phone.latitude_variance.isnull()]=-1\n",
    "traintest_phone.longitude_variance[traintest_phone.longitude_variance.isnull()]=-1"
   ]
  },
  {
   "cell_type": "markdown",
   "metadata": {},
   "source": [
    "### Format the timestamp\n",
    "First, we split the timestamp into day and time. \n",
    "\n",
    "This doesn't make sense right now. It is not yet a variable that can be grouped to device id.\n",
    "So first we add these to the events data."
   ]
  },
  {
   "cell_type": "code",
   "execution_count": 202,
   "metadata": {
    "collapsed": false
   },
   "outputs": [],
   "source": [
    "events['day'] = events.timestamp.apply(lambda x: x.split()[0])\n",
    "events['time'] = events.timestamp.apply(lambda x: x.split()[1])"
   ]
  },
  {
   "cell_type": "code",
   "execution_count": 203,
   "metadata": {
    "collapsed": false
   },
   "outputs": [
    {
     "data": {
      "text/plain": [
       "array(['2016-05-01', '2016-04-30', '2016-05-02', '2016-05-03',\n",
       "       '2016-05-04', '2016-05-05', '2016-05-06', '2016-05-07', '2016-05-08'], dtype=object)"
      ]
     },
     "execution_count": 203,
     "metadata": {},
     "output_type": "execute_result"
    }
   ],
   "source": [
    "events.day.unique()"
   ]
  },
  {
   "cell_type": "markdown",
   "metadata": {},
   "source": [
    "Ok there are only nine days, lets translate these into weekdays:\n",
    "   * 2016-04-30: Saturday\n",
    "   * 2016-05-01: Sunday\n",
    "   * 2016-05-02: Monday\n",
    "   * 2016-05-03: Tuesday\n",
    "   * 2016-05-04: Wednesday\n",
    "   * 2016-05-05: Thursday\n",
    "   * 2016-05-06: Friday\n",
    "   * 2016-05-07: Saturday\n",
    "   * 2016-05-08: Sunday"
   ]
  },
  {
   "cell_type": "code",
   "execution_count": 204,
   "metadata": {
    "collapsed": false,
    "scrolled": true
   },
   "outputs": [
    {
     "name": "stderr",
     "output_type": "stream",
     "text": [
      "/home/mschlupp/anaconda3/lib/python3.5/site-packages/ipykernel/__main__.py:1: SettingWithCopyWarning: \n",
      "A value is trying to be set on a copy of a slice from a DataFrame\n",
      "\n",
      "See the caveats in the documentation: http://pandas.pydata.org/pandas-docs/stable/indexing.html#indexing-view-versus-copy\n",
      "  if __name__ == '__main__':\n",
      "/home/mschlupp/anaconda3/lib/python3.5/site-packages/ipykernel/__main__.py:2: SettingWithCopyWarning: \n",
      "A value is trying to be set on a copy of a slice from a DataFrame\n",
      "\n",
      "See the caveats in the documentation: http://pandas.pydata.org/pandas-docs/stable/indexing.html#indexing-view-versus-copy\n",
      "  from ipykernel import kernelapp as app\n",
      "/home/mschlupp/anaconda3/lib/python3.5/site-packages/ipykernel/__main__.py:3: SettingWithCopyWarning: \n",
      "A value is trying to be set on a copy of a slice from a DataFrame\n",
      "\n",
      "See the caveats in the documentation: http://pandas.pydata.org/pandas-docs/stable/indexing.html#indexing-view-versus-copy\n",
      "  app.launch_new_instance()\n",
      "/home/mschlupp/anaconda3/lib/python3.5/site-packages/ipykernel/__main__.py:4: SettingWithCopyWarning: \n",
      "A value is trying to be set on a copy of a slice from a DataFrame\n",
      "\n",
      "See the caveats in the documentation: http://pandas.pydata.org/pandas-docs/stable/indexing.html#indexing-view-versus-copy\n",
      "/home/mschlupp/anaconda3/lib/python3.5/site-packages/ipykernel/__main__.py:5: SettingWithCopyWarning: \n",
      "A value is trying to be set on a copy of a slice from a DataFrame\n",
      "\n",
      "See the caveats in the documentation: http://pandas.pydata.org/pandas-docs/stable/indexing.html#indexing-view-versus-copy\n",
      "/home/mschlupp/anaconda3/lib/python3.5/site-packages/ipykernel/__main__.py:6: SettingWithCopyWarning: \n",
      "A value is trying to be set on a copy of a slice from a DataFrame\n",
      "\n",
      "See the caveats in the documentation: http://pandas.pydata.org/pandas-docs/stable/indexing.html#indexing-view-versus-copy\n",
      "/home/mschlupp/anaconda3/lib/python3.5/site-packages/ipykernel/__main__.py:7: SettingWithCopyWarning: \n",
      "A value is trying to be set on a copy of a slice from a DataFrame\n",
      "\n",
      "See the caveats in the documentation: http://pandas.pydata.org/pandas-docs/stable/indexing.html#indexing-view-versus-copy\n",
      "/home/mschlupp/anaconda3/lib/python3.5/site-packages/ipykernel/__main__.py:8: SettingWithCopyWarning: \n",
      "A value is trying to be set on a copy of a slice from a DataFrame\n",
      "\n",
      "See the caveats in the documentation: http://pandas.pydata.org/pandas-docs/stable/indexing.html#indexing-view-versus-copy\n"
     ]
    }
   ],
   "source": [
    "events.day[events.day=='2016-04-30'] = 'Sat';\n",
    "events.day[events.day=='2016-05-01'] = 'Sun';\n",
    "events.day[events.day=='2016-05-03'] = 'Tue';\n",
    "events.day[events.day=='2016-05-04'] = 'Wed';\n",
    "events.day[events.day=='2016-05-05'] = 'Thu';\n",
    "events.day[events.day=='2016-05-06'] = 'Fri';\n",
    "events.day[events.day=='2016-05-07'] = 'Sat';\n",
    "events.day[events.day=='2016-05-08'] = 'Sun';\n"
   ]
  },
  {
   "cell_type": "code",
   "execution_count": 211,
   "metadata": {
    "collapsed": false
   },
   "outputs": [],
   "source": [
    "# Split the time stamps into categories of hours\n",
    "\n",
    "events['hour'] = events.time.apply(lambda x: x.split(sep=':')[0])"
   ]
  },
  {
   "cell_type": "code",
   "execution_count": 212,
   "metadata": {
    "collapsed": false
   },
   "outputs": [],
   "source": [
    "#tranform string to int feature with sklearn LabelEncoder\n",
    "from sklearn import preprocessing\n",
    "le = preprocessing.LabelEncoder()\n",
    "f=le.fit(events.hour)"
   ]
  },
  {
   "cell_type": "code",
   "execution_count": 213,
   "metadata": {
    "collapsed": false
   },
   "outputs": [],
   "source": [
    "events.hour = f.transform(events.hour)"
   ]
  },
  {
   "cell_type": "code",
   "execution_count": 214,
   "metadata": {
    "collapsed": false
   },
   "outputs": [
    {
     "data": {
      "text/html": [
       "<div>\n",
       "<table border=\"1\" class=\"dataframe\">\n",
       "  <thead>\n",
       "    <tr style=\"text-align: right;\">\n",
       "      <th></th>\n",
       "      <th>event_id</th>\n",
       "      <th>device_id</th>\n",
       "      <th>timestamp</th>\n",
       "      <th>longitude</th>\n",
       "      <th>latitude</th>\n",
       "      <th>day</th>\n",
       "      <th>time</th>\n",
       "      <th>hour</th>\n",
       "    </tr>\n",
       "  </thead>\n",
       "  <tbody>\n",
       "    <tr>\n",
       "      <th>3252945</th>\n",
       "      <td>3252946</td>\n",
       "      <td>-8995272658520685777</td>\n",
       "      <td>2016-05-07 23:14:17</td>\n",
       "      <td>0.00</td>\n",
       "      <td>0.00</td>\n",
       "      <td>Sat</td>\n",
       "      <td>23:14:17</td>\n",
       "      <td>23</td>\n",
       "    </tr>\n",
       "    <tr>\n",
       "      <th>3252946</th>\n",
       "      <td>3252947</td>\n",
       "      <td>6790350461641275817</td>\n",
       "      <td>2016-05-07 23:14:08</td>\n",
       "      <td>120.65</td>\n",
       "      <td>27.78</td>\n",
       "      <td>Sat</td>\n",
       "      <td>23:14:08</td>\n",
       "      <td>23</td>\n",
       "    </tr>\n",
       "    <tr>\n",
       "      <th>3252947</th>\n",
       "      <td>3252948</td>\n",
       "      <td>7111660304904287709</td>\n",
       "      <td>2016-05-07 23:35:33</td>\n",
       "      <td>121.40</td>\n",
       "      <td>31.18</td>\n",
       "      <td>Sat</td>\n",
       "      <td>23:35:33</td>\n",
       "      <td>23</td>\n",
       "    </tr>\n",
       "    <tr>\n",
       "      <th>3252948</th>\n",
       "      <td>3252949</td>\n",
       "      <td>2786044170600788970</td>\n",
       "      <td>2016-05-07 23:36:03</td>\n",
       "      <td>111.19</td>\n",
       "      <td>31.29</td>\n",
       "      <td>Sat</td>\n",
       "      <td>23:36:03</td>\n",
       "      <td>23</td>\n",
       "    </tr>\n",
       "    <tr>\n",
       "      <th>3252949</th>\n",
       "      <td>3252950</td>\n",
       "      <td>3315513013457872370</td>\n",
       "      <td>2016-05-07 23:20:08</td>\n",
       "      <td>112.99</td>\n",
       "      <td>28.23</td>\n",
       "      <td>Sat</td>\n",
       "      <td>23:20:08</td>\n",
       "      <td>23</td>\n",
       "    </tr>\n",
       "  </tbody>\n",
       "</table>\n",
       "</div>"
      ],
      "text/plain": [
       "         event_id            device_id            timestamp  longitude  \\\n",
       "3252945   3252946 -8995272658520685777  2016-05-07 23:14:17       0.00   \n",
       "3252946   3252947  6790350461641275817  2016-05-07 23:14:08     120.65   \n",
       "3252947   3252948  7111660304904287709  2016-05-07 23:35:33     121.40   \n",
       "3252948   3252949  2786044170600788970  2016-05-07 23:36:03     111.19   \n",
       "3252949   3252950  3315513013457872370  2016-05-07 23:20:08     112.99   \n",
       "\n",
       "         latitude  day      time  hour  \n",
       "3252945      0.00  Sat  23:14:17    23  \n",
       "3252946     27.78  Sat  23:14:08    23  \n",
       "3252947     31.18  Sat  23:35:33    23  \n",
       "3252948     31.29  Sat  23:36:03    23  \n",
       "3252949     28.23  Sat  23:20:08    23  "
      ]
     },
     "execution_count": 214,
     "metadata": {},
     "output_type": "execute_result"
    }
   ],
   "source": [
    "events.tail()"
   ]
  },
  {
   "cell_type": "code",
   "execution_count": 215,
   "metadata": {
    "collapsed": true
   },
   "outputs": [],
   "source": [
    "events.to_csv(files_dir+'events_day_hour.csv')"
   ]
  },
  {
   "cell_type": "code",
   "execution_count": null,
   "metadata": {
    "collapsed": true
   },
   "outputs": [],
   "source": []
  }
 ],
 "metadata": {
  "anaconda-cloud": {},
  "kernelspec": {
   "display_name": "Python [Root]",
   "language": "python",
   "name": "Python [Root]"
  },
  "language_info": {
   "codemirror_mode": {
    "name": "ipython",
    "version": 3
   },
   "file_extension": ".py",
   "mimetype": "text/x-python",
   "name": "python",
   "nbconvert_exporter": "python",
   "pygments_lexer": "ipython3",
   "version": "3.5.2"
  }
 },
 "nbformat": 4,
 "nbformat_minor": 0
}
