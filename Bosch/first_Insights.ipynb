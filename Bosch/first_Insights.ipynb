{
 "cells": [
  {
   "cell_type": "code",
   "execution_count": 3,
   "metadata": {
    "collapsed": true
   },
   "outputs": [],
   "source": [
    "import pandas as pd\n",
    "from scipy import stats\n",
    "import seaborn as sns"
   ]
  },
  {
   "cell_type": "code",
   "execution_count": 8,
   "metadata": {
    "collapsed": false
   },
   "outputs": [
    {
     "name": "stdout",
     "output_type": "stream",
     "text": [
      " Volume in drive C has no label.\n",
      " Volume Serial Number is 9C71-F73D\n",
      "\n",
      " Directory of C:\\Users\\maxxo_000\\Kaggle\\Bosch\\files\n",
      "\n",
      "31.08.2016  16:50    <DIR>          .\n",
      "31.08.2016  16:50    <DIR>          ..\n",
      "31.08.2016  16:47        11.281.556 sample_submission.csv\n",
      "31.08.2016  16:50     2.137.286.201 test_numeric.csv\n",
      "31.08.2016  16:49     2.139.901.506 train_numeric.csv\n",
      "               3 File(s)  4.288.469.263 bytes\n",
      "               2 Dir(s)  98.008.809.472 bytes free\n"
     ]
    }
   ],
   "source": [
    "%ls files"
   ]
  },
  {
   "cell_type": "code",
   "execution_count": 14,
   "metadata": {
    "collapsed": true
   },
   "outputs": [],
   "source": [
    "train_num = pd.read_csv(\"files/train_numeric.csv\", usecols=[\"L0_S0_F0\",\"Response\"])"
   ]
  },
  {
   "cell_type": "code",
   "execution_count": 16,
   "metadata": {
    "collapsed": false
   },
   "outputs": [
    {
     "data": {
      "text/html": [
       "<div>\n",
       "<table border=\"1\" class=\"dataframe\">\n",
       "  <thead>\n",
       "    <tr style=\"text-align: right;\">\n",
       "      <th></th>\n",
       "      <th>L0_S0_F0</th>\n",
       "      <th>Response</th>\n",
       "    </tr>\n",
       "  </thead>\n",
       "  <tbody>\n",
       "    <tr>\n",
       "      <th>0</th>\n",
       "      <td>0.030</td>\n",
       "      <td>0</td>\n",
       "    </tr>\n",
       "    <tr>\n",
       "      <th>1</th>\n",
       "      <td>NaN</td>\n",
       "      <td>0</td>\n",
       "    </tr>\n",
       "    <tr>\n",
       "      <th>2</th>\n",
       "      <td>0.088</td>\n",
       "      <td>0</td>\n",
       "    </tr>\n",
       "    <tr>\n",
       "      <th>3</th>\n",
       "      <td>-0.036</td>\n",
       "      <td>0</td>\n",
       "    </tr>\n",
       "    <tr>\n",
       "      <th>4</th>\n",
       "      <td>-0.055</td>\n",
       "      <td>0</td>\n",
       "    </tr>\n",
       "  </tbody>\n",
       "</table>\n",
       "</div>"
      ],
      "text/plain": [
       "   L0_S0_F0  Response\n",
       "0     0.030         0\n",
       "1       NaN         0\n",
       "2     0.088         0\n",
       "3    -0.036         0\n",
       "4    -0.055         0"
      ]
     },
     "execution_count": 16,
     "metadata": {},
     "output_type": "execute_result"
    }
   ],
   "source": [
    "train_num.head(5)"
   ]
  },
  {
   "cell_type": "code",
   "execution_count": 28,
   "metadata": {
    "collapsed": false
   },
   "outputs": [],
   "source": [
    "new = train_num.dropna()"
   ]
  },
  {
   "cell_type": "code",
   "execution_count": 29,
   "metadata": {
    "collapsed": true
   },
   "outputs": [],
   "source": [
    "gb = new.groupby(\"Response\")"
   ]
  },
  {
   "cell_type": "code",
   "execution_count": 9,
   "metadata": {
    "collapsed": true
   },
   "outputs": [],
   "source": [
    "%matplotlib inline"
   ]
  },
  {
   "cell_type": "code",
   "execution_count": 31,
   "metadata": {
    "collapsed": false
   },
   "outputs": [
    {
     "name": "stderr",
     "output_type": "stream",
     "text": [
      "/home/mschlupp/anaconda3/lib/python3.5/site-packages/statsmodels/nonparametric/kdetools.py:20: VisibleDeprecationWarning: using a non-integer number instead of an integer will result in an error in the future\n",
      "  y = X[:m/2+1] + np.r_[0,X[m/2+1:],0]*1j\n"
     ]
    },
    {
     "data": {
      "image/png": "[encoded data removed]",
      "text/plain": [
       "<matplotlib.figure.Figure at 0x7fddf6873c18>"
      ]
     },
     "metadata": {},
     "output_type": "display_data"
    }
   ],
   "source": [
    "for g in gb.groups:\n",
    "    sns.distplot(gb.get_group(g)[\"L0_S0_F0\"], hist = True, label = \"%i\".format(g))"
   ]
  },
  {
   "cell_type": "markdown",
   "metadata": {},
   "source": [
    "# Strategy:\n",
    "* Build a multidimensional p-value from measurements and see how it is distributed (?)\n",
    "* Find confidence interval, or cut on p-value that reduces dataset significantly (minimizing most important confusion matrix entry loss (fnr?))\n",
    "* Predict remaining dataset with MVA classifier."
   ]
  },
  {
   "cell_type": "code",
   "execution_count": 42,
   "metadata": {
    "collapsed": true
   },
   "outputs": [],
   "source": [
    "# first step is to get the mean and std values for each feature...\n",
    "train_num = pd.read_csv(\"files/train_numeric.csv\", usecols=[\"Response\"])"
   ]
  },
  {
   "cell_type": "code",
   "execution_count": 73,
   "metadata": {
    "collapsed": false
   },
   "outputs": [
    {
     "data": {
      "text/plain": [
       "0    99.418879\n",
       "1     0.581121\n",
       "Name: Response, dtype: float64"
      ]
     },
     "execution_count": 73,
     "metadata": {},
     "output_type": "execute_result"
    }
   ],
   "source": [
    "train_num.Response.value_counts().apply(lambda x: 1e2*x/len(train_num))"
   ]
  },
  {
   "cell_type": "markdown",
   "metadata": {},
   "source": [
    "### So there are only 0.58 % of pieces failing the quality control"
   ]
  },
  {
   "cell_type": "code",
   "execution_count": 18,
   "metadata": {
    "collapsed": false
   },
   "outputs": [],
   "source": [
    "cols = train_num.drop([\"Response\",\"Id\"],axis=1).columns"
   ]
  },
  {
   "cell_type": "code",
   "execution_count": 35,
   "metadata": {
    "collapsed": false
   },
   "outputs": [
    {
     "data": {
      "text/plain": [
       "968"
      ]
     },
     "execution_count": 35,
     "metadata": {},
     "output_type": "execute_result"
    }
   ],
   "source": [
    "len(cols)"
   ]
  },
  {
   "cell_type": "code",
   "execution_count": 34,
   "metadata": {
    "collapsed": false
   },
   "outputs": [],
   "source": [
    "?t.std()"
   ]
  },
  {
   "cell_type": "code",
   "execution_count": 37,
   "metadata": {
    "collapsed": false
   },
   "outputs": [],
   "source": [
    "from time import time as tt"
   ]
  },
  {
   "cell_type": "code",
   "execution_count": 120,
   "metadata": {
    "collapsed": false
   },
   "outputs": [
    {
     "data": {
      "text/plain": [
       "[0, 1, 2, 3, 4, 5, 6, 7, 8, 9, 10, 33]"
      ]
     },
     "execution_count": 120,
     "metadata": {},
     "output_type": "execute_result"
    }
   ],
   "source": [
    "l+[33]"
   ]
  },
  {
   "cell_type": "code",
   "execution_count": 116,
   "metadata": {
    "collapsed": false
   },
   "outputs": [],
   "source": [
    "slices=[[0,300],[300,600],[600,900],[900,len(cols)]]"
   ]
  },
  {
   "cell_type": "code",
   "execution_count": 122,
   "metadata": {
    "collapsed": false
   },
   "outputs": [
    {
     "name": "stdout",
     "output_type": "stream",
     "text": [
      "reading:  86.87468576431274  seconds\n",
      "calc:  73.76413941383362  seconds\n",
      "overall:  160.65445041656494  seconds for slice  1 / 4\n",
      "reading:  86.17608165740967  seconds\n",
      "calc:  57.93268084526062  seconds\n",
      "overall:  144.1087625026703  seconds for slice  2 / 4\n",
      "reading:  116.40056347846985  seconds\n",
      "calc:  85.42202687263489  seconds\n",
      "overall:  201.83821606636047  seconds for slice  3 / 4\n",
      "reading:  44.424741983413696  seconds\n",
      "calc:  6.867697477340698  seconds\n",
      "overall:  51.292439460754395  seconds for slice  4 / 4\n"
     ]
    }
   ],
   "source": [
    "for i,sl in enumerate(slices):\n",
    "    s = tt()\n",
    "    t = pd.read_csv(\"files/train_numeric.csv\"\n",
    "                    , usecols=cols[sl[0]:sl[1]].tolist()+[\"Response\"])\n",
    "    t = t[t.Response==0]\n",
    "    r = tt()\n",
    "    print(\"reading: \", r-s, \" seconds\")\n",
    "    if i==0:\n",
    "       std = pd.DataFrame(t.std())\n",
    "       mean = pd.DataFrame(t.mean())\n",
    "    else:\n",
    "        std = pd.concat([std,pd.DataFrame(t.std())])\n",
    "        mean = pd.concat([mean,pd.DataFrame(t.mean())])\n",
    "    print(\"calc: \", tt()-r, \" seconds\")\n",
    "    print(\"overall: \", tt()-s, \" seconds for slice \", i+1,\"/\",len(slices))\n",
    "    "
   ]
  },
  {
   "cell_type": "markdown",
   "metadata": {},
   "source": [
    "* 2 columns take 34s\n",
    "* 4 cols take 35.2s (vs 0.16 s calc)\n",
    "* 10 cols take 35.8s (vs 0.35 s calc)"
   ]
  },
  {
   "cell_type": "code",
   "execution_count": 131,
   "metadata": {
    "collapsed": false
   },
   "outputs": [
    {
     "data": {
      "text/html": [
       "<div>\n",
       "<table border=\"1\" class=\"dataframe\">\n",
       "  <thead>\n",
       "    <tr style=\"text-align: right;\">\n",
       "      <th></th>\n",
       "      <th>LSF_tag</th>\n",
       "      <th>mean</th>\n",
       "      <th>std</th>\n",
       "    </tr>\n",
       "  </thead>\n",
       "  <tbody>\n",
       "    <tr>\n",
       "      <th>0</th>\n",
       "      <td>L0_S0_F0</td>\n",
       "      <td>0.000057</td>\n",
       "      <td>0.080228</td>\n",
       "    </tr>\n",
       "    <tr>\n",
       "      <th>1</th>\n",
       "      <td>L0_S0_F2</td>\n",
       "      <td>0.000084</td>\n",
       "      <td>0.092812</td>\n",
       "    </tr>\n",
       "  </tbody>\n",
       "</table>\n",
       "</div>"
      ],
      "text/plain": [
       "    LSF_tag      mean       std\n",
       "0  L0_S0_F0  0.000057  0.080228\n",
       "1  L0_S0_F2  0.000084  0.092812"
      ]
     },
     "execution_count": 131,
     "metadata": {},
     "output_type": "execute_result"
    }
   ],
   "source": [
    "gaus_pars = pd.concat([mean,std], axis=1)\n",
    "gaus_pars.columns = [\"mean\",\"std\"]\n",
    "gaus_pars[\"LSF_tag\"] = gaus_pars.index.values\n",
    "gaus_pars.index = range(len(gaus_pars))\n",
    "gaus_pars = gaus_pars[[\"LSF_tag\",\"mean\",\"std\"]]\n",
    "gaus_pars.head(2)"
   ]
  },
  {
   "cell_type": "code",
   "execution_count": 132,
   "metadata": {
    "collapsed": true
   },
   "outputs": [],
   "source": [
    "#gaus_pars.to_csv(\"files/lsf_mean_std.csv\")"
   ]
  },
  {
   "cell_type": "markdown",
   "metadata": {},
   "source": [
    "## Calculate multidimensional p value"
   ]
  },
  {
   "cell_type": "markdown",
   "metadata": {},
   "source": [
    "Here we need to calculate the p value per row."
   ]
  },
  {
   "cell_type": "code",
   "execution_count": 143,
   "metadata": {
    "collapsed": false
   },
   "outputs": [
    {
     "ename": "TypeError",
     "evalue": "get_values() takes 1 positional argument but 2 were given",
     "output_type": "error",
     "traceback": [
      "\u001b[0;31m---------------------------------------------------------------------------\u001b[0m",
      "\u001b[0;31mTypeError\u001b[0m                                 Traceback (most recent call last)",
      "\u001b[0;32m<ipython-input-143-18584eafcee5>\u001b[0m in \u001b[0;36m<module>\u001b[0;34m()\u001b[0m\n\u001b[0;32m----> 1\u001b[0;31m \u001b[0mgaus_pars\u001b[0m\u001b[1;33m.\u001b[0m\u001b[0mget_values\u001b[0m\u001b[1;33m(\u001b[0m\u001b[1;36m0.000057\u001b[0m\u001b[1;33m)\u001b[0m\u001b[1;33m\u001b[0m\u001b[0m\n\u001b[0m",
      "\u001b[0;31mTypeError\u001b[0m: get_values() takes 1 positional argument but 2 were given"
     ]
    }
   ],
   "source": [
    "gaus_pars."
   ]
  }
 ],
 "metadata": {
  "anaconda-cloud": {},
  "kernelspec": {
   "display_name": "Python [conda env:jupnote]",
   "language": "python",
   "name": "conda-env-jupnote-py"
  },
  "language_info": {
   "codemirror_mode": {
    "name": "ipython",
    "version": 3
   },
   "file_extension": ".py",
   "mimetype": "text/x-python",
   "name": "python",
   "nbconvert_exporter": "python",
   "pygments_lexer": "ipython3",
   "version": "3.5.2"
  }
 },
 "nbformat": 4,
 "nbformat_minor": 0
}
