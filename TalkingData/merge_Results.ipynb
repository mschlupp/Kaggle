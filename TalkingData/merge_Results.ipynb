{
 "cells": [
  {
   "cell_type": "code",
   "execution_count": 1,
   "metadata": {
    "collapsed": true
   },
   "outputs": [],
   "source": [
    "import pandas as pd"
   ]
  },
  {
   "cell_type": "code",
   "execution_count": 2,
   "metadata": {
    "collapsed": false
   },
   "outputs": [
    {
     "name": "stdout",
     "output_type": "stream",
     "text": [
      "gbdt_gaNoEvts_predictions.csv  lr_Evts_woLatLong.csv\r\n",
      "lr_Evts.csv                    lr_gaNoEvts_prediction.csv\r\n"
     ]
    }
   ],
   "source": [
    "%ls finalOutputs/"
   ]
  },
  {
   "cell_type": "code",
   "execution_count": 4,
   "metadata": {
    "collapsed": true
   },
   "outputs": [],
   "source": [
    "lr_ga = pd.read_csv(\"finalOutputs/lr_gaNoEvts_prediction.csv\")\n",
    "lr_evts = pd.read_csv(\"finalOutputs/lr_Evts_woLatLong.csv\")\n",
    "#lr_app = pd.read_csv(\"finalOutputs/lr_App.csv\")"
   ]
  },
  {
   "cell_type": "code",
   "execution_count": 9,
   "metadata": {
    "collapsed": false
   },
   "outputs": [
    {
     "data": {
      "text/html": [
       "<div>\n",
       "<table border=\"1\" class=\"dataframe\">\n",
       "  <thead>\n",
       "    <tr style=\"text-align: right;\">\n",
       "      <th></th>\n",
       "      <th>device_id</th>\n",
       "      <th>0</th>\n",
       "      <th>1</th>\n",
       "      <th>2</th>\n",
       "      <th>3</th>\n",
       "      <th>4</th>\n",
       "      <th>5</th>\n",
       "      <th>6</th>\n",
       "      <th>7</th>\n",
       "      <th>8</th>\n",
       "      <th>9</th>\n",
       "      <th>10</th>\n",
       "      <th>11</th>\n",
       "    </tr>\n",
       "  </thead>\n",
       "  <tbody>\n",
       "    <tr>\n",
       "      <th>0</th>\n",
       "      <td>1782450055857303792</td>\n",
       "      <td>0.015620</td>\n",
       "      <td>0.01309</td>\n",
       "      <td>0.049305</td>\n",
       "      <td>0.009342</td>\n",
       "      <td>0.089207</td>\n",
       "      <td>0.063171</td>\n",
       "      <td>0.092205</td>\n",
       "      <td>0.141204</td>\n",
       "      <td>0.037939</td>\n",
       "      <td>0.118068</td>\n",
       "      <td>0.175125</td>\n",
       "      <td>0.195724</td>\n",
       "    </tr>\n",
       "    <tr>\n",
       "      <th>1</th>\n",
       "      <td>8663743929678393765</td>\n",
       "      <td>0.000584</td>\n",
       "      <td>0.01153</td>\n",
       "      <td>0.001651</td>\n",
       "      <td>0.382475</td>\n",
       "      <td>0.021244</td>\n",
       "      <td>0.183831</td>\n",
       "      <td>0.004069</td>\n",
       "      <td>0.005231</td>\n",
       "      <td>0.010916</td>\n",
       "      <td>0.219332</td>\n",
       "      <td>0.010919</td>\n",
       "      <td>0.148217</td>\n",
       "    </tr>\n",
       "  </tbody>\n",
       "</table>\n",
       "</div>"
      ],
      "text/plain": [
       "             device_id         0        1         2         3         4  \\\n",
       "0  1782450055857303792  0.015620  0.01309  0.049305  0.009342  0.089207   \n",
       "1  8663743929678393765  0.000584  0.01153  0.001651  0.382475  0.021244   \n",
       "\n",
       "          5         6         7         8         9        10        11  \n",
       "0  0.063171  0.092205  0.141204  0.037939  0.118068  0.175125  0.195724  \n",
       "1  0.183831  0.004069  0.005231  0.010916  0.219332  0.010919  0.148217  "
      ]
     },
     "execution_count": 9,
     "metadata": {},
     "output_type": "execute_result"
    }
   ],
   "source": [
    "lr_evts.head(2)"
   ]
  },
  {
   "cell_type": "code",
   "execution_count": 16,
   "metadata": {
    "collapsed": false
   },
   "outputs": [],
   "source": [
    "lr_evts.columns = lr_ga.columns"
   ]
  },
  {
   "cell_type": "code",
   "execution_count": 18,
   "metadata": {
    "collapsed": false
   },
   "outputs": [
    {
     "data": {
      "text/html": [
       "<div>\n",
       "<table border=\"1\" class=\"dataframe\">\n",
       "  <thead>\n",
       "    <tr style=\"text-align: right;\">\n",
       "      <th></th>\n",
       "      <th>device_id</th>\n",
       "      <th>F23-</th>\n",
       "      <th>F24-26</th>\n",
       "      <th>F27-28</th>\n",
       "      <th>F29-32</th>\n",
       "      <th>F33-42</th>\n",
       "      <th>F43+</th>\n",
       "      <th>M22-</th>\n",
       "      <th>M23-26</th>\n",
       "      <th>M27-28</th>\n",
       "      <th>M29-31</th>\n",
       "      <th>M32-38</th>\n",
       "      <th>M39+</th>\n",
       "    </tr>\n",
       "  </thead>\n",
       "  <tbody>\n",
       "    <tr>\n",
       "      <th>0</th>\n",
       "      <td>1782450055857303792</td>\n",
       "      <td>0.01562</td>\n",
       "      <td>0.01309</td>\n",
       "      <td>0.049305</td>\n",
       "      <td>0.009342</td>\n",
       "      <td>0.089207</td>\n",
       "      <td>0.063171</td>\n",
       "      <td>0.092205</td>\n",
       "      <td>0.141204</td>\n",
       "      <td>0.037939</td>\n",
       "      <td>0.118068</td>\n",
       "      <td>0.175125</td>\n",
       "      <td>0.195724</td>\n",
       "    </tr>\n",
       "  </tbody>\n",
       "</table>\n",
       "</div>"
      ],
      "text/plain": [
       "             device_id     F23-   F24-26    F27-28    F29-32    F33-42  \\\n",
       "0  1782450055857303792  0.01562  0.01309  0.049305  0.009342  0.089207   \n",
       "\n",
       "       F43+      M22-    M23-26    M27-28    M29-31    M32-38      M39+  \n",
       "0  0.063171  0.092205  0.141204  0.037939  0.118068  0.175125  0.195724  "
      ]
     },
     "execution_count": 18,
     "metadata": {},
     "output_type": "execute_result"
    }
   ],
   "source": [
    "lr_evts.head(1)"
   ]
  },
  {
   "cell_type": "code",
   "execution_count": 20,
   "metadata": {
    "collapsed": false
   },
   "outputs": [],
   "source": [
    "res = pd.concat([lr_ga,lr_evts], ignore_index=True)"
   ]
  },
  {
   "cell_type": "code",
   "execution_count": 21,
   "metadata": {
    "collapsed": false
   },
   "outputs": [
    {
     "data": {
      "text/html": [
       "<div>\n",
       "<table border=\"1\" class=\"dataframe\">\n",
       "  <thead>\n",
       "    <tr style=\"text-align: right;\">\n",
       "      <th></th>\n",
       "      <th>device_id</th>\n",
       "      <th>F23-</th>\n",
       "      <th>F24-26</th>\n",
       "      <th>F27-28</th>\n",
       "      <th>F29-32</th>\n",
       "      <th>F33-42</th>\n",
       "      <th>F43+</th>\n",
       "      <th>M22-</th>\n",
       "      <th>M23-26</th>\n",
       "      <th>M27-28</th>\n",
       "      <th>M29-31</th>\n",
       "      <th>M32-38</th>\n",
       "      <th>M39+</th>\n",
       "    </tr>\n",
       "  </thead>\n",
       "  <tbody>\n",
       "    <tr>\n",
       "      <th>0</th>\n",
       "      <td>-5893464122623104785</td>\n",
       "      <td>0.019937</td>\n",
       "      <td>0.099686</td>\n",
       "      <td>0.050342</td>\n",
       "      <td>0.06117</td>\n",
       "      <td>0.048084</td>\n",
       "      <td>0.03401</td>\n",
       "      <td>0.069194</td>\n",
       "      <td>0.15246</td>\n",
       "      <td>0.117277</td>\n",
       "      <td>0.103204</td>\n",
       "      <td>0.15246</td>\n",
       "      <td>0.092176</td>\n",
       "    </tr>\n",
       "    <tr>\n",
       "      <th>1</th>\n",
       "      <td>-7560708697029818408</td>\n",
       "      <td>0.019937</td>\n",
       "      <td>0.099686</td>\n",
       "      <td>0.050342</td>\n",
       "      <td>0.06117</td>\n",
       "      <td>0.048084</td>\n",
       "      <td>0.03401</td>\n",
       "      <td>0.069194</td>\n",
       "      <td>0.15246</td>\n",
       "      <td>0.117277</td>\n",
       "      <td>0.103204</td>\n",
       "      <td>0.15246</td>\n",
       "      <td>0.092176</td>\n",
       "    </tr>\n",
       "  </tbody>\n",
       "</table>\n",
       "</div>"
      ],
      "text/plain": [
       "             device_id      F23-    F24-26    F27-28   F29-32    F33-42  \\\n",
       "0 -5893464122623104785  0.019937  0.099686  0.050342  0.06117  0.048084   \n",
       "1 -7560708697029818408  0.019937  0.099686  0.050342  0.06117  0.048084   \n",
       "\n",
       "      F43+      M22-   M23-26    M27-28    M29-31   M32-38      M39+  \n",
       "0  0.03401  0.069194  0.15246  0.117277  0.103204  0.15246  0.092176  \n",
       "1  0.03401  0.069194  0.15246  0.117277  0.103204  0.15246  0.092176  "
      ]
     },
     "execution_count": 21,
     "metadata": {},
     "output_type": "execute_result"
    }
   ],
   "source": [
    "res.head(2)"
   ]
  },
  {
   "cell_type": "code",
   "execution_count": 22,
   "metadata": {
    "collapsed": false
   },
   "outputs": [
    {
     "data": {
      "text/plain": [
       "True"
      ]
     },
     "execution_count": 22,
     "metadata": {},
     "output_type": "execute_result"
    }
   ],
   "source": [
    "len(res)==len(lr_evts)+len(lr_ga)"
   ]
  }
 ],
 "metadata": {
  "kernelspec": {
   "display_name": "Python [Root]",
   "language": "python",
   "name": "Python [Root]"
  },
  "language_info": {
   "codemirror_mode": {
    "name": "ipython",
    "version": 3
   },
   "file_extension": ".py",
   "mimetype": "text/x-python",
   "name": "python",
   "nbconvert_exporter": "python",
   "pygments_lexer": "ipython3",
   "version": "3.5.2"
  }
 },
 "nbformat": 4,
 "nbformat_minor": 0
}
